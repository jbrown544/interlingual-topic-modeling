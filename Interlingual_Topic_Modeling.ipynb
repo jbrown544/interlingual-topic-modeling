{
  "nbformat": 4,
  "nbformat_minor": 0,
  "metadata": {
    "colab": {
      "name": "Interlingual Topic Modeling.ipynb",
      "provenance": [],
      "authorship_tag": "ABX9TyN1w/8/tUqBzMSaGW2r25Qz",
      "include_colab_link": true
    },
    "kernelspec": {
      "name": "python3",
      "display_name": "Python 3"
    },
    "language_info": {
      "name": "python"
    }
  },
  "cells": [
    {
      "cell_type": "markdown",
      "metadata": {
        "id": "view-in-github",
        "colab_type": "text"
      },
      "source": [
        "<a href=\"https://colab.research.google.com/github/jbrown544/interlingual-topic-modeling/blob/main/Interlingual_Topic_Modeling.ipynb\" target=\"_parent\"><img src=\"https://colab.research.google.com/assets/colab-badge.svg\" alt=\"Open In Colab\"/></a>"
      ]
    },
    {
      "cell_type": "markdown",
      "metadata": {
        "id": "PuLCO1Rj0tND"
      },
      "source": [
        "# Unsupervised Thematic Discovery in Non-English Natural Language Corpora"
      ]
    }
  ]
}