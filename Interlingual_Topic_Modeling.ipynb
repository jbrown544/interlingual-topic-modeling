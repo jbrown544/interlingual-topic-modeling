{
  "nbformat": 4,
  "nbformat_minor": 0,
  "metadata": {
    "colab": {
      "name": "Interlingual Topic Modeling.ipynb",
      "provenance": [],
      "collapsed_sections": [],
      "authorship_tag": "ABX9TyMvxrOBQT5ptxjUsiqjCaa0",
      "include_colab_link": true
    },
    "kernelspec": {
      "name": "python3",
      "display_name": "Python 3"
    },
    "language_info": {
      "name": "python"
    }
  },
  "cells": [
    {
      "cell_type": "markdown",
      "metadata": {
        "id": "view-in-github",
        "colab_type": "text"
      },
      "source": [
        "<a href=\"https://colab.research.google.com/github/jbrown544/interlingual-topic-modeling/blob/main/Interlingual_Topic_Modeling.ipynb\" target=\"_parent\"><img src=\"https://colab.research.google.com/assets/colab-badge.svg\" alt=\"Open In Colab\"/></a>"
      ]
    },
    {
      "cell_type": "markdown",
      "metadata": {
        "id": "c3i24HU0iKiS"
      },
      "source": [
        "[![Built with spaCy](https://img.shields.io/badge/built%20with-spaCy-09a3d5.svg)](https://spacy.io)"
      ]
    },
    {
      "cell_type": "markdown",
      "metadata": {
        "id": "PuLCO1Rj0tND"
      },
      "source": [
        "# Unsupervised Thematic Discovery in Non-English Natural Language Corpora"
      ]
    },
    {
      "cell_type": "markdown",
      "metadata": {
        "id": "kvbjVNGyD-QW"
      },
      "source": [
        "**Use the \"Open in Colab\" link above to render visualizations.*"
      ]
    },
    {
      "cell_type": "markdown",
      "metadata": {
        "id": "cvX4Urw4Is2p"
      },
      "source": [
        "## Processing Environment Initialization"
      ]
    },
    {
      "cell_type": "code",
      "metadata": {
        "id": "oRRWYl_whSQw"
      },
      "source": [
        "# reduce warnings for publishing\n",
        "\n",
        "import warnings\n",
        "warnings.filterwarnings(\"ignore\")"
      ],
      "execution_count": 1,
      "outputs": []
    },
    {
      "cell_type": "markdown",
      "metadata": {
        "id": "NRodtNM2CdrP"
      },
      "source": [
        "### Environment Variables"
      ]
    },
    {
      "cell_type": "code",
      "metadata": {
        "id": "AVMUoq9KGGjz"
      },
      "source": [
        "# configuration folders\n",
        "\n",
        "# place your non-ephemeral configuration files in here\n",
        "%mkdir --parents caches keys"
      ],
      "execution_count": 2,
      "outputs": []
    },
    {
      "cell_type": "code",
      "metadata": {
        "colab": {
          "base_uri": "https://localhost:8080/"
        },
        "id": "bY_O0KH2Jkf4",
        "outputId": "20e8577e-ceb8-4b60-bad8-61bc3a9bcfdf"
      },
      "source": [
        "# set environment variable to point to your own service account key\n",
        "\n",
        "%set_env GOOGLE_APPLICATION_CREDENTIALS=/content/keys/interlingual-topic-modeling.json"
      ],
      "execution_count": 3,
      "outputs": [
        {
          "output_type": "stream",
          "name": "stdout",
          "text": [
            "env: GOOGLE_APPLICATION_CREDENTIALS=/content/keys/interlingual-topic-modeling.json\n"
          ]
        }
      ]
    },
    {
      "cell_type": "markdown",
      "metadata": {
        "id": "bXJanIiyCbAM"
      },
      "source": [
        "### Package Installations"
      ]
    },
    {
      "cell_type": "code",
      "metadata": {
        "id": "CP29DMmphDt0",
        "colab": {
          "base_uri": "https://localhost:8080/"
        },
        "outputId": "ca4728f7-9a00-43e1-b88a-224d2a3fa585"
      },
      "source": [
        "# update required dependencies\n",
        "\n",
        "# If you see a message such as this after running pip (bottom of output):\n",
        "#\n",
        "# \"WARNING: The following packages were previously imported in this runtime:\"\"\n",
        "# \" [ xxxx, xxxxx ]\"\n",
        "# \"You must restart the runtime in order to use newly installed versions.\"\"\n",
        "#\n",
        "# Please do restart the Python runtime. Neglecting this restart may \n",
        "# result in errors during processing due to previously loaded packages.\n",
        "\n",
        "%pip install -U python-Levenshtein \\\n",
        "                spacy==3.1.2 \\\n",
        "                pyLDAvis==3.3.1 \\\n",
        "                gensim==4.1.2\n",
        "\n",
        "# pip setuptools wheel"
      ],
      "execution_count": 4,
      "outputs": [
        {
          "output_type": "stream",
          "name": "stdout",
          "text": [
            "Requirement already satisfied: python-Levenshtein in /usr/local/lib/python3.7/dist-packages (0.12.2)\n",
            "Requirement already satisfied: spacy==3.1.2 in /usr/local/lib/python3.7/dist-packages (3.1.2)\n",
            "Requirement already satisfied: pyLDAvis==3.3.1 in /usr/local/lib/python3.7/dist-packages (3.3.1)\n",
            "Requirement already satisfied: gensim==4.1.2 in /usr/local/lib/python3.7/dist-packages (4.1.2)\n",
            "Requirement already satisfied: preshed<3.1.0,>=3.0.2 in /usr/local/lib/python3.7/dist-packages (from spacy==3.1.2) (3.0.5)\n",
            "Requirement already satisfied: setuptools in /usr/local/lib/python3.7/dist-packages (from spacy==3.1.2) (57.4.0)\n",
            "Requirement already satisfied: requests<3.0.0,>=2.13.0 in /usr/local/lib/python3.7/dist-packages (from spacy==3.1.2) (2.23.0)\n",
            "Requirement already satisfied: pydantic!=1.8,!=1.8.1,<1.9.0,>=1.7.4 in /usr/local/lib/python3.7/dist-packages (from spacy==3.1.2) (1.8.2)\n",
            "Requirement already satisfied: cymem<2.1.0,>=2.0.2 in /usr/local/lib/python3.7/dist-packages (from spacy==3.1.2) (2.0.5)\n",
            "Requirement already satisfied: murmurhash<1.1.0,>=0.28.0 in /usr/local/lib/python3.7/dist-packages (from spacy==3.1.2) (1.0.5)\n",
            "Requirement already satisfied: pathy>=0.3.5 in /usr/local/lib/python3.7/dist-packages (from spacy==3.1.2) (0.6.0)\n",
            "Requirement already satisfied: packaging>=20.0 in /usr/local/lib/python3.7/dist-packages (from spacy==3.1.2) (21.0)\n",
            "Requirement already satisfied: wasabi<1.1.0,>=0.8.1 in /usr/local/lib/python3.7/dist-packages (from spacy==3.1.2) (0.8.2)\n",
            "Requirement already satisfied: spacy-legacy<3.1.0,>=3.0.7 in /usr/local/lib/python3.7/dist-packages (from spacy==3.1.2) (3.0.8)\n",
            "Requirement already satisfied: blis<0.8.0,>=0.4.0 in /usr/local/lib/python3.7/dist-packages (from spacy==3.1.2) (0.4.1)\n",
            "Requirement already satisfied: catalogue<2.1.0,>=2.0.4 in /usr/local/lib/python3.7/dist-packages (from spacy==3.1.2) (2.0.6)\n",
            "Requirement already satisfied: thinc<8.1.0,>=8.0.8 in /usr/local/lib/python3.7/dist-packages (from spacy==3.1.2) (8.0.10)\n",
            "Requirement already satisfied: numpy>=1.15.0 in /usr/local/lib/python3.7/dist-packages (from spacy==3.1.2) (1.21.2)\n",
            "Requirement already satisfied: typer<0.4.0,>=0.3.0 in /usr/local/lib/python3.7/dist-packages (from spacy==3.1.2) (0.3.2)\n",
            "Requirement already satisfied: srsly<3.0.0,>=2.4.1 in /usr/local/lib/python3.7/dist-packages (from spacy==3.1.2) (2.4.1)\n",
            "Requirement already satisfied: jinja2 in /usr/local/lib/python3.7/dist-packages (from spacy==3.1.2) (2.11.3)\n",
            "Requirement already satisfied: tqdm<5.0.0,>=4.38.0 in /usr/local/lib/python3.7/dist-packages (from spacy==3.1.2) (4.62.2)\n",
            "Requirement already satisfied: typing-extensions<4.0.0.0,>=3.7.4 in /usr/local/lib/python3.7/dist-packages (from spacy==3.1.2) (3.7.4.3)\n",
            "Requirement already satisfied: funcy in /usr/local/lib/python3.7/dist-packages (from pyLDAvis==3.3.1) (1.16)\n",
            "Requirement already satisfied: numexpr in /usr/local/lib/python3.7/dist-packages (from pyLDAvis==3.3.1) (2.7.3)\n",
            "Requirement already satisfied: scipy in /usr/local/lib/python3.7/dist-packages (from pyLDAvis==3.3.1) (1.4.1)\n",
            "Requirement already satisfied: future in /usr/local/lib/python3.7/dist-packages (from pyLDAvis==3.3.1) (0.16.0)\n",
            "Requirement already satisfied: scikit-learn in /usr/local/lib/python3.7/dist-packages (from pyLDAvis==3.3.1) (0.22.2.post1)\n",
            "Requirement already satisfied: joblib in /usr/local/lib/python3.7/dist-packages (from pyLDAvis==3.3.1) (1.0.1)\n",
            "Requirement already satisfied: pandas>=1.2.0 in /usr/local/lib/python3.7/dist-packages (from pyLDAvis==3.3.1) (1.3.3)\n",
            "Requirement already satisfied: sklearn in /usr/local/lib/python3.7/dist-packages (from pyLDAvis==3.3.1) (0.0)\n",
            "Requirement already satisfied: smart-open>=1.8.1 in /usr/local/lib/python3.7/dist-packages (from gensim==4.1.2) (5.2.1)\n",
            "Requirement already satisfied: zipp>=0.5 in /usr/local/lib/python3.7/dist-packages (from catalogue<2.1.0,>=2.0.4->spacy==3.1.2) (3.5.0)\n",
            "Requirement already satisfied: pyparsing>=2.0.2 in /usr/local/lib/python3.7/dist-packages (from packaging>=20.0->spacy==3.1.2) (2.4.7)\n",
            "Requirement already satisfied: python-dateutil>=2.7.3 in /usr/local/lib/python3.7/dist-packages (from pandas>=1.2.0->pyLDAvis==3.3.1) (2.8.2)\n",
            "Requirement already satisfied: pytz>=2017.3 in /usr/local/lib/python3.7/dist-packages (from pandas>=1.2.0->pyLDAvis==3.3.1) (2018.9)\n",
            "Requirement already satisfied: six>=1.5 in /usr/local/lib/python3.7/dist-packages (from python-dateutil>=2.7.3->pandas>=1.2.0->pyLDAvis==3.3.1) (1.15.0)\n",
            "Requirement already satisfied: certifi>=2017.4.17 in /usr/local/lib/python3.7/dist-packages (from requests<3.0.0,>=2.13.0->spacy==3.1.2) (2021.5.30)\n",
            "Requirement already satisfied: urllib3!=1.25.0,!=1.25.1,<1.26,>=1.21.1 in /usr/local/lib/python3.7/dist-packages (from requests<3.0.0,>=2.13.0->spacy==3.1.2) (1.24.3)\n",
            "Requirement already satisfied: idna<3,>=2.5 in /usr/local/lib/python3.7/dist-packages (from requests<3.0.0,>=2.13.0->spacy==3.1.2) (2.10)\n",
            "Requirement already satisfied: chardet<4,>=3.0.2 in /usr/local/lib/python3.7/dist-packages (from requests<3.0.0,>=2.13.0->spacy==3.1.2) (3.0.4)\n",
            "Requirement already satisfied: click<7.2.0,>=7.1.1 in /usr/local/lib/python3.7/dist-packages (from typer<0.4.0,>=0.3.0->spacy==3.1.2) (7.1.2)\n",
            "Requirement already satisfied: MarkupSafe>=0.23 in /usr/local/lib/python3.7/dist-packages (from jinja2->spacy==3.1.2) (2.0.1)\n"
          ]
        }
      ]
    },
    {
      "cell_type": "code",
      "metadata": {
        "colab": {
          "base_uri": "https://localhost:8080/"
        },
        "id": "VpC1SLKPhsXS",
        "outputId": "468fbbfd-c0e7-4c1c-8592-899b36650376"
      },
      "source": [
        "# inspect spaCy package information\n",
        "\n",
        "%pip show spacy"
      ],
      "execution_count": 5,
      "outputs": [
        {
          "output_type": "stream",
          "name": "stdout",
          "text": [
            "Name: spacy\n",
            "Version: 3.1.2\n",
            "Summary: Industrial-strength Natural Language Processing (NLP) in Python\n",
            "Home-page: https://spacy.io\n",
            "Author: Explosion\n",
            "Author-email: contact@explosion.ai\n",
            "License: MIT\n",
            "Location: /usr/local/lib/python3.7/dist-packages\n",
            "Requires: typer, tqdm, numpy, typing-extensions, requests, jinja2, preshed, wasabi, pathy, pydantic, blis, cymem, packaging, murmurhash, spacy-legacy, setuptools, thinc, srsly, catalogue\n",
            "Required-by: fr-core-news-md, fastai, en-core-web-sm\n"
          ]
        }
      ]
    },
    {
      "cell_type": "code",
      "metadata": {
        "colab": {
          "base_uri": "https://localhost:8080/"
        },
        "id": "GZ6Z-Ihy0EOV",
        "outputId": "1286f9e0-ca58-49f9-ccbd-b4d64a697e08"
      },
      "source": [
        "# instpect pyLDAvis package information\n",
        "\n",
        "%pip show pyLDAvis"
      ],
      "execution_count": 6,
      "outputs": [
        {
          "output_type": "stream",
          "name": "stdout",
          "text": [
            "Name: pyLDAvis\n",
            "Version: 3.3.1\n",
            "Summary: Interactive topic model visualization. Port of the R package.\n",
            "Home-page: https://github.com/bmabey/pyLDAvis\n",
            "Author: Ben Mabey\n",
            "Author-email: ben@benmabey.com\n",
            "License: MIT\n",
            "Location: /usr/local/lib/python3.7/dist-packages\n",
            "Requires: numexpr, sklearn, numpy, setuptools, jinja2, pandas, funcy, scikit-learn, future, gensim, scipy, joblib\n",
            "Required-by: \n"
          ]
        }
      ]
    },
    {
      "cell_type": "code",
      "metadata": {
        "colab": {
          "base_uri": "https://localhost:8080/"
        },
        "id": "sQKm7K3b1H8P",
        "outputId": "620d1914-1aee-4eb7-f13d-bb60e0f397e0"
      },
      "source": [
        "# inspect Gensim package information\n",
        "\n",
        "%pip show gensim"
      ],
      "execution_count": 7,
      "outputs": [
        {
          "output_type": "stream",
          "name": "stdout",
          "text": [
            "Name: gensim\n",
            "Version: 4.1.2\n",
            "Summary: Python framework for fast Vector Space Modelling\n",
            "Home-page: http://radimrehurek.com/gensim\n",
            "Author: Radim Rehurek\n",
            "Author-email: me@radimrehurek.com\n",
            "License: LGPL-2.1-only\n",
            "Location: /usr/local/lib/python3.7/dist-packages\n",
            "Requires: numpy, smart-open, scipy\n",
            "Required-by: pyLDAvis\n"
          ]
        }
      ]
    },
    {
      "cell_type": "markdown",
      "metadata": {
        "id": "UsuiQO1mIwdG"
      },
      "source": [
        "## Data Environment Initialization"
      ]
    },
    {
      "cell_type": "markdown",
      "metadata": {
        "id": "9qIBZyLc8xeH"
      },
      "source": [
        "### Dependencies"
      ]
    },
    {
      "cell_type": "code",
      "metadata": {
        "id": "Zv4P6xDW0ApJ",
        "colab": {
          "base_uri": "https://localhost:8080/"
        },
        "outputId": "fe8cbc4c-481a-4214-8ddf-874b685d78ef"
      },
      "source": [
        "# import dependencies\n",
        "\n",
        "import json\n",
        "from urllib.parse import urljoin\n",
        "from os.path import exists\n",
        "\n",
        "import spacy\n",
        "\n",
        "import pyLDAvis\n",
        "import pyLDAvis.gensim_models as gensimvis\n",
        "\n",
        "from gensim import corpora\n",
        "from gensim import models\n",
        "from gensim.utils import simple_preprocess\n",
        "from gensim.test.utils import get_tmpfile\n",
        "\n",
        "from smart_open import open\n",
        "\n",
        "from google.cloud import translate_v2 as translate"
      ],
      "execution_count": 8,
      "outputs": [
        {
          "output_type": "stream",
          "name": "stderr",
          "text": [
            "/usr/local/lib/python3.7/dist-packages/past/types/oldstr.py:5: DeprecationWarning: Using or importing the ABCs from 'collections' instead of from 'collections.abc' is deprecated since Python 3.3,and in 3.9 it will stop working\n",
            "  from collections import Iterable\n",
            "/usr/local/lib/python3.7/dist-packages/past/builtins/misc.py:4: DeprecationWarning: Using or importing the ABCs from 'collections' instead of from 'collections.abc' is deprecated since Python 3.3,and in 3.9 it will stop working\n",
            "  from collections import Mapping\n",
            "/usr/local/lib/python3.7/dist-packages/scipy/special/orthogonal.py:81: DeprecationWarning: `np.int` is a deprecated alias for the builtin `int`. To silence this warning, use `int` by itself. Doing this will not modify any behavior and is safe. When replacing `np.int`, you may wish to use e.g. `np.int64` or `np.int32` to specify the precision. If you wish to review your current use, check the release note link for additional information.\n",
            "Deprecated in NumPy 1.20; for more details and guidance: https://numpy.org/devdocs/release/1.20.0-notes.html#deprecations\n",
            "  from numpy import (exp, inf, pi, sqrt, floor, sin, cos, around, int,\n",
            "/usr/local/lib/python3.7/dist-packages/scipy/special/orthogonal.py:81: DeprecationWarning: `np.int` is a deprecated alias for the builtin `int`. To silence this warning, use `int` by itself. Doing this will not modify any behavior and is safe. When replacing `np.int`, you may wish to use e.g. `np.int64` or `np.int32` to specify the precision. If you wish to review your current use, check the release note link for additional information.\n",
            "Deprecated in NumPy 1.20; for more details and guidance: https://numpy.org/devdocs/release/1.20.0-notes.html#deprecations\n",
            "  from numpy import (exp, inf, pi, sqrt, floor, sin, cos, around, int,\n",
            "/usr/local/lib/python3.7/dist-packages/sklearn/linear_model/_least_angle.py:30: DeprecationWarning: `np.float` is a deprecated alias for the builtin `float`. To silence this warning, use `float` by itself. Doing this will not modify any behavior and is safe. If you specifically wanted the numpy scalar type, use `np.float64` here.\n",
            "Deprecated in NumPy 1.20; for more details and guidance: https://numpy.org/devdocs/release/1.20.0-notes.html#deprecations\n",
            "  method='lar', copy_X=True, eps=np.finfo(np.float).eps,\n",
            "/usr/local/lib/python3.7/dist-packages/sklearn/linear_model/_least_angle.py:169: DeprecationWarning: `np.float` is a deprecated alias for the builtin `float`. To silence this warning, use `float` by itself. Doing this will not modify any behavior and is safe. If you specifically wanted the numpy scalar type, use `np.float64` here.\n",
            "Deprecated in NumPy 1.20; for more details and guidance: https://numpy.org/devdocs/release/1.20.0-notes.html#deprecations\n",
            "  method='lar', copy_X=True, eps=np.finfo(np.float).eps,\n",
            "/usr/local/lib/python3.7/dist-packages/sklearn/linear_model/_least_angle.py:286: DeprecationWarning: `np.float` is a deprecated alias for the builtin `float`. To silence this warning, use `float` by itself. Doing this will not modify any behavior and is safe. If you specifically wanted the numpy scalar type, use `np.float64` here.\n",
            "Deprecated in NumPy 1.20; for more details and guidance: https://numpy.org/devdocs/release/1.20.0-notes.html#deprecations\n",
            "  eps=np.finfo(np.float).eps, copy_Gram=True, verbose=0,\n",
            "/usr/local/lib/python3.7/dist-packages/sklearn/linear_model/_least_angle.py:858: DeprecationWarning: `np.float` is a deprecated alias for the builtin `float`. To silence this warning, use `float` by itself. Doing this will not modify any behavior and is safe. If you specifically wanted the numpy scalar type, use `np.float64` here.\n",
            "Deprecated in NumPy 1.20; for more details and guidance: https://numpy.org/devdocs/release/1.20.0-notes.html#deprecations\n",
            "  eps=np.finfo(np.float).eps, copy_X=True, fit_path=True):\n",
            "/usr/local/lib/python3.7/dist-packages/sklearn/linear_model/_least_angle.py:1094: DeprecationWarning: `np.float` is a deprecated alias for the builtin `float`. To silence this warning, use `float` by itself. Doing this will not modify any behavior and is safe. If you specifically wanted the numpy scalar type, use `np.float64` here.\n",
            "Deprecated in NumPy 1.20; for more details and guidance: https://numpy.org/devdocs/release/1.20.0-notes.html#deprecations\n",
            "  eps=np.finfo(np.float).eps, copy_X=True, fit_path=True,\n",
            "/usr/local/lib/python3.7/dist-packages/sklearn/linear_model/_least_angle.py:1120: DeprecationWarning: `np.float` is a deprecated alias for the builtin `float`. To silence this warning, use `float` by itself. Doing this will not modify any behavior and is safe. If you specifically wanted the numpy scalar type, use `np.float64` here.\n",
            "Deprecated in NumPy 1.20; for more details and guidance: https://numpy.org/devdocs/release/1.20.0-notes.html#deprecations\n",
            "  eps=np.finfo(np.float).eps, positive=False):\n",
            "/usr/local/lib/python3.7/dist-packages/sklearn/linear_model/_least_angle.py:1349: DeprecationWarning: `np.float` is a deprecated alias for the builtin `float`. To silence this warning, use `float` by itself. Doing this will not modify any behavior and is safe. If you specifically wanted the numpy scalar type, use `np.float64` here.\n",
            "Deprecated in NumPy 1.20; for more details and guidance: https://numpy.org/devdocs/release/1.20.0-notes.html#deprecations\n",
            "  max_n_alphas=1000, n_jobs=None, eps=np.finfo(np.float).eps,\n",
            "/usr/local/lib/python3.7/dist-packages/sklearn/linear_model/_least_angle.py:1590: DeprecationWarning: `np.float` is a deprecated alias for the builtin `float`. To silence this warning, use `float` by itself. Doing this will not modify any behavior and is safe. If you specifically wanted the numpy scalar type, use `np.float64` here.\n",
            "Deprecated in NumPy 1.20; for more details and guidance: https://numpy.org/devdocs/release/1.20.0-notes.html#deprecations\n",
            "  max_n_alphas=1000, n_jobs=None, eps=np.finfo(np.float).eps,\n",
            "/usr/local/lib/python3.7/dist-packages/sklearn/linear_model/_least_angle.py:1723: DeprecationWarning: `np.float` is a deprecated alias for the builtin `float`. To silence this warning, use `float` by itself. Doing this will not modify any behavior and is safe. If you specifically wanted the numpy scalar type, use `np.float64` here.\n",
            "Deprecated in NumPy 1.20; for more details and guidance: https://numpy.org/devdocs/release/1.20.0-notes.html#deprecations\n",
            "  eps=np.finfo(np.float).eps, copy_X=True, positive=False):\n",
            "/usr/local/lib/python3.7/dist-packages/sklearn/decomposition/_lda.py:29: DeprecationWarning: `np.float` is a deprecated alias for the builtin `float`. To silence this warning, use `float` by itself. Doing this will not modify any behavior and is safe. If you specifically wanted the numpy scalar type, use `np.float64` here.\n",
            "Deprecated in NumPy 1.20; for more details and guidance: https://numpy.org/devdocs/release/1.20.0-notes.html#deprecations\n",
            "  EPS = np.finfo(np.float).eps\n",
            "/usr/local/lib/python3.7/dist-packages/scipy/sparse/sparsetools.py:21: DeprecationWarning: `scipy.sparse.sparsetools` is deprecated!\n",
            "scipy.sparse.sparsetools is a private module for scipy.sparse, and should not be used.\n",
            "  _deprecated()\n"
          ]
        }
      ]
    },
    {
      "cell_type": "code",
      "metadata": {
        "id": "wwZ_xUO12H2e"
      },
      "source": [
        "# enable visualizations inline\n",
        "\n",
        "pyLDAvis.enable_notebook()"
      ],
      "execution_count": 9,
      "outputs": []
    },
    {
      "cell_type": "markdown",
      "metadata": {
        "id": "OWK1CWjBJeOa"
      },
      "source": [
        "### Translation Environment"
      ]
    },
    {
      "cell_type": "markdown",
      "metadata": {
        "id": "zIkqUxK1553o"
      },
      "source": [
        "#### Translation Caching"
      ]
    },
    {
      "cell_type": "code",
      "metadata": {
        "id": "OZPfkxnVJniR"
      },
      "source": [
        "xlat_cache_file_name = '/content/caches/xlat.json'"
      ],
      "execution_count": 10,
      "outputs": []
    },
    {
      "cell_type": "code",
      "metadata": {
        "id": "3Bsl5twlI5pW"
      },
      "source": [
        "# translation cache: loading\n",
        "\n",
        "def load_translation_cache():  \n",
        "  \"\"\" \n",
        "  Return a translation cache populated with previously persisted dictionaries.\n",
        "  \"\"\"\n",
        "  \n",
        "  xlat_cache = {}\n",
        "\n",
        "  if exists(xlat_cache_file_name):\n",
        "    with open(xlat_cache_file_name) as f:\n",
        "        xlat_cache = json.load(f)\n",
        "\n",
        "    print(f'\"{xlat_cache_file_name}\" xlat cache loaded:')\n",
        "    for lang in xlat_cache:\n",
        "      print(f'\\t[{lang}] contains {len(xlat_cache[lang])} entries')\n",
        "\n",
        "  return xlat_cache"
      ],
      "execution_count": 11,
      "outputs": []
    },
    {
      "cell_type": "code",
      "metadata": {
        "id": "CQahY9NNJb3l"
      },
      "source": [
        "# translation cache: saving\n",
        "\n",
        "def save_translation_cache(dirty_xlat_cache):\n",
        "  \"\"\"\n",
        "  Save a translation cache overwriting any previously persisted dictionaries.\n",
        "\n",
        "  Keyword arguments:\n",
        "      dirty_xlat_cache -- a dirty translation cache\n",
        "  \"\"\"\n",
        "\n",
        "  with open(xlat_cache_file_name, 'w') as f:\n",
        "    json.dump(dirty_xlat_cache, f)\n",
        "\n",
        "  print(f'\"{xlat_cache_file_name}\" xlat cache persisted.',\n",
        "        'Please make a non-ephemeral copy!!!')"
      ],
      "execution_count": 12,
      "outputs": []
    },
    {
      "cell_type": "code",
      "metadata": {
        "id": "tJLXREiA5GCE"
      },
      "source": [
        "# translation cache: extending\n",
        "\n",
        "def extend_translation_cache(terms,\n",
        "                      source_language,\n",
        "                      target_language='en'):  \n",
        "  \"\"\"\n",
        "  Extend a translation cache resolving any unknown terms using a cloud \n",
        "  translator. Return the number of cache misses and the translation dictionary \n",
        "  for the specified source language containing at least the requested terms.\n",
        "\n",
        "  Keyword arguments:\n",
        "      terms -- sequence of terms to warm in cache\n",
        "      source_language -- the language of terms\n",
        "      target_language -- the target language for term translation\n",
        "  \"\"\"\n",
        "\n",
        "  xlat_cache = load_translation_cache()\n",
        "\n",
        "  # get or create a dictionary for the specified language mapping\n",
        "  xlat_dict = xlat_cache.setdefault(f'{source_language}->{target_language}', {})\n",
        "\n",
        "  cache_terms = [term for term in terms if term not in xlat_dict]\n",
        "\n",
        "  # if there are uknown terms, resolve them with cloud translation\n",
        "  if len(cache_terms) > 0:\n",
        "\n",
        "    print(f'Translating {len(cache_terms)} terms.')\n",
        "\n",
        "    translate_client = translate.Client(target_language=target_language)\n",
        "\n",
        "    # the cloud translation API processes lists of a finite length so\n",
        "    # terms requiring resolution are batched into 128 per call\n",
        "    batch_size = 128\n",
        "\n",
        "    # process terms in batches storing results into the translation dictionary\n",
        "    for i in range(0, len(cache_terms), batch_size):\n",
        "      for result in translate_client.translate(cache_terms[i:i+batch_size],\n",
        "                                               source_language=source_language):\n",
        "        xlat_dict[result['input']] = result['translatedText']\n",
        "    \n",
        "    save_translation_cache(xlat_cache)\n",
        "\n",
        "  return len(cache_terms), xlat_dict"
      ],
      "execution_count": 13,
      "outputs": []
    },
    {
      "cell_type": "markdown",
      "metadata": {
        "id": "EqepcX1N597N"
      },
      "source": [
        "#### Gensim Dictionary Translation"
      ]
    },
    {
      "cell_type": "code",
      "metadata": {
        "id": "HYnrx5NQhZZM"
      },
      "source": [
        "# gensim dictionary: loading\n",
        "\n",
        "def load_gensim_dict_file(dict_file):\n",
        "  \"\"\"\n",
        "  Load the entries of a gensim dictionary file then return a tuple\n",
        "  containing read document count and list of entries.\n",
        "\n",
        "  Keyword arguments:\n",
        "      dict_file -- gensim dictionary file\n",
        "  \"\"\"\n",
        "\n",
        "  entries = []\n",
        "\n",
        "  with open(dict_file) as f:\n",
        "    num_docs = f.readline().strip()\n",
        "    line = f.readline().strip()\n",
        "    while line != '':\n",
        "      entries.append(line.split('\\t'))\n",
        "      line = f.readline().strip()\n",
        "\n",
        "  return num_docs, entries"
      ],
      "execution_count": 14,
      "outputs": []
    },
    {
      "cell_type": "code",
      "metadata": {
        "id": "2AXo1nuMZ6Xe"
      },
      "source": [
        "# gensim dictionary: saving\n",
        "\n",
        "def save_gensim_dict_file(dict_file, gensim_dict_entries):\n",
        "  \"\"\"\n",
        "  Save the entries of a gensim dictionary to a file.\n",
        "\n",
        "  Keyword arguments:\n",
        "      dict_file -- gensim dictionary file\n",
        "      gensim_dict_entries -- list of (id, term, frequency) entries\n",
        "  \"\"\"\n",
        "\n",
        "  num_docs, entries = gensim_dict_entries\n",
        "\n",
        "  with open(dict_file, 'w') as f:\n",
        "    f.write(num_docs)\n",
        "    f.write('\\n')\n",
        "    for entry in entries:\n",
        "      f.write('\\t'.join(map(str, entry)))\n",
        "      f.write('\\n')"
      ],
      "execution_count": 15,
      "outputs": []
    },
    {
      "cell_type": "code",
      "metadata": {
        "id": "8UJ4Yo3_JIq-"
      },
      "source": [
        "# gensim dictionary: individual entry translation\n",
        "\n",
        "def translate_gensim_dictionary_entries(gensim_dict_entries,\n",
        "                                        source_language,\n",
        "                                        target_language='en'):\n",
        "  \"\"\"\n",
        "  Returns the number of translation cache misses and a new list of gensim \n",
        "  dictionary entries having terms augmented with translations.\n",
        "\n",
        "  Keyword arguments:\n",
        "      gensim_dict_entries -- list of (id, term, frequency) entries\n",
        "      source_language -- the language of entry terms\n",
        "      target_language -- the target language for entry term translation\n",
        "  \"\"\"\n",
        "\n",
        "  num_docs, entries = gensim_dict_entries\n",
        "\n",
        "  # extend the cache with the requested terms\n",
        "  misses, xlat_dict = \\\n",
        "    extend_translation_cache([term for id, term, freq in entries],\n",
        "                             source_language, target_language)\n",
        "\n",
        "  # created augmented dictionary entries\n",
        "  entries = entries.copy()\n",
        "  for i in range(len(entries)):\n",
        "    entries[i][1] = f\"{xlat_dict[entries[i][1]]} ({entries[i][1]})\"\n",
        "\n",
        "  return misses, (num_docs, entries)"
      ],
      "execution_count": 16,
      "outputs": []
    },
    {
      "cell_type": "code",
      "metadata": {
        "id": "SUQomhjcjEKF"
      },
      "source": [
        "# gensim dictionary: dictionary translation\n",
        "\n",
        "def translate_gensim_dictionary(gensim_dictionary, \n",
        "                                source_language,\n",
        "                                target_language='en'):\n",
        "  \n",
        "  \"\"\"\n",
        "  Returns the number of translation cache misses and a new gensim dictionary \n",
        "  with entries augmented with their target language translations.\n",
        "\n",
        "  Keyword arguments:\n",
        "      gensim_dict_entries -- list of (id, term, frequency) entries\n",
        "      source_language -- the language of entry terms\n",
        "      target_language -- the target language for entry term translation\n",
        "  \"\"\"\n",
        "\n",
        "  # convert dictionary to entries structure by way of temp file\n",
        "  dict_file = get_tmpfile('dict_file')\n",
        "  gensim_dictionary.save_as_text(dict_file)\n",
        "  gensim_dict_entries = load_gensim_dict_file(dict_file)\n",
        "\n",
        "  # augment the entries structure with translations\n",
        "  misses, xlat_entries = translate_gensim_dictionary_entries(\n",
        "      gensim_dict_entries, source_language, target_language)\n",
        "\n",
        "  # convert entries structure to dictionary by way of temp file\n",
        "  xlat_dict_file = get_tmpfile('xlat_dict_file')\n",
        "  save_gensim_dict_file(xlat_dict_file, xlat_entries)  \n",
        "  return misses, corpora.Dictionary().load_from_text(xlat_dict_file)"
      ],
      "execution_count": 17,
      "outputs": []
    },
    {
      "cell_type": "markdown",
      "metadata": {
        "id": "aZoS_N7k6IWE"
      },
      "source": [
        "#### Translation Test"
      ]
    },
    {
      "cell_type": "code",
      "metadata": {
        "id": "73wxoS4xceQl",
        "colab": {
          "base_uri": "https://localhost:8080/"
        },
        "outputId": "ef417720-cb04-423b-9336-1bc8ab224e97"
      },
      "source": [
        "# test translate a small dictionary\n",
        "\n",
        "misses, translated_test_dict = \\\n",
        "  translate_gensim_dictionary(corpora.Dictionary([['crayon', 'stylo']]), 'fr')\n",
        "\n",
        "# Check we have a previously populated dictionary.\n",
        "# This check helps ensure we are not forgetting \n",
        "# to install our non-ephemeral translation dictionary.\n",
        "assert misses == 0\n",
        "\n",
        "print(translated_test_dict)"
      ],
      "execution_count": 18,
      "outputs": [
        {
          "output_type": "stream",
          "name": "stdout",
          "text": [
            "\"/content/caches/xlat.json\" xlat cache loaded:\n",
            "\t[fr->en] contains 14782 entries\n",
            "Dictionary(2 unique tokens: ['pencil (crayon)', 'pen (stylo)'])\n"
          ]
        }
      ]
    },
    {
      "cell_type": "markdown",
      "metadata": {
        "id": "R041iuIaO_4j"
      },
      "source": [
        "### Language-Neutral Processing Pipelines"
      ]
    },
    {
      "cell_type": "markdown",
      "metadata": {
        "id": "HeqdU7JuJutI"
      },
      "source": [
        "#### Install spaCy Models"
      ]
    },
    {
      "cell_type": "code",
      "metadata": {
        "colab": {
          "base_uri": "https://localhost:8080/"
        },
        "id": "t3V4fsmvr81_",
        "outputId": "9a7e83d6-43eb-4c0e-ad91-03902def449e"
      },
      "source": [
        "# install data sets required for spaCy statistical models\n",
        "\n",
        "%run -m spacy download fr_core_news_md"
      ],
      "execution_count": 19,
      "outputs": [
        {
          "output_type": "stream",
          "name": "stdout",
          "text": [
            "\u001b[38;5;2m✔ Download and installation successful\u001b[0m\n",
            "You can now load the package via spacy.load('fr_core_news_md')\n"
          ]
        }
      ]
    },
    {
      "cell_type": "markdown",
      "metadata": {
        "id": "WDFGLmgwUoMC"
      },
      "source": [
        "#### Create spaCy Processing Pipelines"
      ]
    },
    {
      "cell_type": "code",
      "metadata": {
        "id": "JR4ACy74sCBv"
      },
      "source": [
        "# spaCy model parameters\n",
        "\n",
        "load_params = dict(\n",
        "    # components to exclude in pipelines\n",
        "    exclude=['parser', 'ner']\n",
        ")"
      ],
      "execution_count": 20,
      "outputs": []
    },
    {
      "cell_type": "code",
      "metadata": {
        "colab": {
          "base_uri": "https://localhost:8080/"
        },
        "id": "Maf8dRzadzhT",
        "outputId": "22f0c7ad-a68e-4cef-aabb-79b59eda5e34"
      },
      "source": [
        "# load language object and inspect pipeline: French\n",
        "\n",
        "fr_nlp = spacy.load('fr_core_news_md', **load_params)\n",
        "\n",
        "print(fr_nlp.component_names)"
      ],
      "execution_count": 21,
      "outputs": [
        {
          "output_type": "stream",
          "name": "stdout",
          "text": [
            "['tok2vec', 'morphologizer', 'senter', 'attribute_ruler', 'lemmatizer']\n"
          ]
        }
      ]
    },
    {
      "cell_type": "markdown",
      "metadata": {
        "id": "GQ9hBYwJCuTn"
      },
      "source": [
        "#### Basic Processing"
      ]
    },
    {
      "cell_type": "code",
      "metadata": {
        "id": "LRO990tppGb0"
      },
      "source": [
        "# basic text preprocessing\n",
        "\n",
        "def basic_preprocess(texts,\n",
        "                     deaccent=False,\n",
        "                     min_token_length=2,\n",
        "                     max_token_length=15):\n",
        "  \"\"\"\n",
        "  Perform basic (faster) preprocessing on a list of texts returning the \n",
        "  tokenized results.\n",
        "\n",
        "  Processing consists of tokenizization, lowercasing, filtering tokens to a\n",
        "  length range and optionally removing accenting marks.\n",
        "\n",
        "  Keyword arguments:\n",
        "      texts -- strings containing source texts\n",
        "      deaccent -- remove accents from characters\n",
        "      min_token_length -- the minimum token length to retain\n",
        "      max_token_length -- the maximum token length to retain\n",
        "  \"\"\"\n",
        "\n",
        "  return [simple_preprocess(text, deacc=deaccent,\n",
        "                     min_len=min_token_length,\n",
        "                     max_len=max_token_length)\n",
        "  for text in texts]"
      ],
      "execution_count": 22,
      "outputs": []
    },
    {
      "cell_type": "markdown",
      "metadata": {
        "id": "JvizbI2iCyWU"
      },
      "source": [
        "#### Advanced Processing"
      ]
    },
    {
      "cell_type": "code",
      "metadata": {
        "id": "0ZBn6uBtZXsL"
      },
      "source": [
        "# advanced text preprocessing\n",
        "\n",
        "def advanced_preprocess(nlp, \n",
        "                        texts,\n",
        "                        min_token_length=2,\n",
        "                        max_token_length=15,\n",
        "                        processors=1):\n",
        "  \"\"\"\n",
        "  Perform more advanced (slower) preprocessing on a list of texts returning the \n",
        "  tokenized results.\n",
        "\n",
        "  Processing consists of tokenizization, lowercasing, filtering tokens to a\n",
        "  length range, filtering by high-value parts of speech (nouns, verbs, etc.),\n",
        "  filtering non-alphabetic terms, and filtering language specific stopwords.\n",
        "\n",
        "  Keyword arguments:\n",
        "      nlp -- spaCy language model appropriate for texts\n",
        "      texts -- list of strings containing language texts      \n",
        "      min_token_length -- the minimum token length to retain\n",
        "      max_token_length -- the maximum token length to retain\n",
        "      processors -- count of CPUs to employ; (-1=all) use with caution!\n",
        "  \"\"\"\n",
        "\n",
        "  # SpaCy's NLP processing pipeline extracts 'features' from text\n",
        "  # useful for selecting the more valuable terms. \n",
        "  # Here, only parts-of-speech listed are preserved.\n",
        "  keep_pos = {'NOUN', 'VERB', 'ADJ', 'ADV'}\n",
        "  \n",
        "  return [[token.lemma_.lower() for token in doc\n",
        "           if token.pos_ in keep_pos\n",
        "           and token.is_alpha and not token.is_stop\n",
        "           and len(token.lemma_) >= min_token_length\n",
        "           and len(token.lemma_) <= max_token_length]\n",
        "          for doc in nlp.pipe(texts, n_process=processors)]"
      ],
      "execution_count": 23,
      "outputs": []
    },
    {
      "cell_type": "markdown",
      "metadata": {
        "id": "_4Emkun-O8E5"
      },
      "source": [
        "## French Language Samples"
      ]
    },
    {
      "cell_type": "code",
      "metadata": {
        "id": "TUSnztbmZvoF"
      },
      "source": [
        "# samples of the French language\n",
        "\n",
        "# samples are available within this repository\n",
        "french_book_url = ('https://raw.githubusercontent.com/jbrown544/'\n",
        "                   'interlingual-topic-modeling/main/text/books/fr/')\n",
        "\n",
        "# characteristics: few, lengthy documents with informational headers intact\n",
        "jules_verne_french_books = [\n",
        "  'Five_Weeks_in_a_Balloon.txt',\n",
        "  'Around_the_World_in_Eighty_Days.txt',\n",
        "  'Robur_the_Conqueror.txt',\n",
        "  'From_the_Earth_to_the_Moon.txt',  \n",
        "  'The_Begums_Fortune.txt',\n",
        "  'The_Blockade_Runners.txt',\n",
        "  'The_Mutineers_of_the_Bounty.txt'\n",
        "]"
      ],
      "execution_count": 24,
      "outputs": []
    },
    {
      "cell_type": "markdown",
      "metadata": {
        "id": "Z7uUHvOmPLU7"
      },
      "source": [
        "#### Process French Language Samples"
      ]
    },
    {
      "cell_type": "code",
      "metadata": {
        "id": "ljUscGlJivS-",
        "colab": {
          "base_uri": "https://localhost:8080/"
        },
        "outputId": "683d5bcd-d956-47f5-8f45-3df8f7929d24"
      },
      "source": [
        "# generator for loading encoded french books\n",
        "\n",
        "%time jules_verne_texts = \\\n",
        "  [open(urljoin(french_book_url, book), encoding='latin-1').read() \\\n",
        "    for book in jules_verne_french_books]"
      ],
      "execution_count": 25,
      "outputs": [
        {
          "output_type": "stream",
          "name": "stdout",
          "text": [
            "CPU times: user 120 ms, sys: 10.3 ms, total: 131 ms\n",
            "Wall time: 2.79 s\n"
          ]
        }
      ]
    },
    {
      "cell_type": "code",
      "metadata": {
        "id": "gWunBazdG1w4"
      },
      "source": [
        "# preprocessing parameters\n",
        "\n",
        "preprocess_params = dict(\n",
        "    texts=jules_verne_texts, \n",
        "    min_token_length=3    \n",
        ")"
      ],
      "execution_count": 26,
      "outputs": []
    },
    {
      "cell_type": "code",
      "metadata": {
        "colab": {
          "base_uri": "https://localhost:8080/"
        },
        "id": "a2Q2n1lYSoG5",
        "outputId": "9895bd21-445a-4272-b54b-d0fdc2a21281"
      },
      "source": [
        "# basic preprocessing\n",
        "\n",
        "%time jules_verne_docs_basic = basic_preprocess(**preprocess_params)"
      ],
      "execution_count": 27,
      "outputs": [
        {
          "output_type": "stream",
          "name": "stdout",
          "text": [
            "CPU times: user 428 ms, sys: 9.91 ms, total: 438 ms\n",
            "Wall time: 439 ms\n"
          ]
        }
      ]
    },
    {
      "cell_type": "code",
      "metadata": {
        "colab": {
          "base_uri": "https://localhost:8080/"
        },
        "id": "n6QN_DT5Sph9",
        "outputId": "919051af-1759-440c-cfac-d5bee3d10b2e"
      },
      "source": [
        "# advanced preprocessing\n",
        "\n",
        "%time jules_verne_docs_adv = advanced_preprocess(fr_nlp, **preprocess_params)"
      ],
      "execution_count": 28,
      "outputs": [
        {
          "output_type": "stream",
          "name": "stdout",
          "text": [
            "CPU times: user 48.7 s, sys: 3.97 s, total: 52.7 s\n",
            "Wall time: 52.6 s\n"
          ]
        }
      ]
    },
    {
      "cell_type": "code",
      "metadata": {
        "colab": {
          "base_uri": "https://localhost:8080/"
        },
        "id": "e9p3V5sNb8El",
        "outputId": "866d2938-fac6-4b63-b7be-5983b141f2c3"
      },
      "source": [
        "# check the term lengths on docs for grades of preprocessing\n",
        "\n",
        "# NOTE: refactor into a general EDA function?\n",
        "\n",
        "print(f'terms (basic vs. advanced):')\n",
        "for title, basic, advanced \\\n",
        " in zip(jules_verne_french_books,\n",
        "        jules_verne_docs_basic,\n",
        "        jules_verne_docs_adv):\n",
        "  print(f'\\t{len(basic)}\\tvs.\\t{len(advanced)}\\t({title})')"
      ],
      "execution_count": 29,
      "outputs": [
        {
          "output_type": "stream",
          "name": "stdout",
          "text": [
            "terms (basic vs. advanced):\n",
            "\t59713\tvs.\t32377\t(Five_Weeks_in_a_Balloon.txt)\n",
            "\t51505\tvs.\t27415\t(Around_the_World_in_Eighty_Days.txt)\n",
            "\t43217\tvs.\t22509\t(Robur_the_Conqueror.txt)\n",
            "\t40445\tvs.\t22174\t(From_the_Earth_to_the_Moon.txt)\n",
            "\t38249\tvs.\t21409\t(The_Begums_Fortune.txt)\n",
            "\t13719\tvs.\t7314\t(The_Blockade_Runners.txt)\n",
            "\t5348\tvs.\t2763\t(The_Mutineers_of_the_Bounty.txt)\n"
          ]
        }
      ]
    },
    {
      "cell_type": "code",
      "metadata": {
        "colab": {
          "base_uri": "https://localhost:8080/"
        },
        "id": "3POuQ9ryePU1",
        "outputId": "e7c9a116-b713-4035-92fa-d9f6a91c924b"
      },
      "source": [
        "# use advance output for subsequent processing \n",
        "\n",
        "# NOTE: remove the smaller two books?\n",
        "\n",
        "jules_verne_docs = jules_verne_docs_adv\n",
        "\n",
        "print(len(jules_verne_docs))"
      ],
      "execution_count": 30,
      "outputs": [
        {
          "output_type": "stream",
          "name": "stdout",
          "text": [
            "7\n"
          ]
        }
      ]
    },
    {
      "cell_type": "code",
      "metadata": {
        "colab": {
          "base_uri": "https://localhost:8080/"
        },
        "id": "wsYoZMSCm32f",
        "outputId": "0b8db94a-38b0-49ac-90ad-0d3130221950"
      },
      "source": [
        "# construct dictionary from processed docs\n",
        "\n",
        "jules_verne_dictionary = corpora.Dictionary(jules_verne_docs)\n",
        "\n",
        "print(jules_verne_dictionary)"
      ],
      "execution_count": 31,
      "outputs": [
        {
          "output_type": "stream",
          "name": "stdout",
          "text": [
            "Dictionary(11668 unique tokens: ['abaissement', 'abaisser', 'abandonne', 'abandonner', 'abat']...)\n"
          ]
        }
      ]
    },
    {
      "cell_type": "code",
      "metadata": {
        "colab": {
          "base_uri": "https://localhost:8080/"
        },
        "id": "sETn7LMWHPMG",
        "outputId": "5df75e61-30db-47d5-d501-d1859bcdd7c5"
      },
      "source": [
        "# filter extremes from the dictionary \n",
        "# by removing words that appear too \n",
        "# frequently or too rarely\n",
        "\n",
        "# NOTE: consider only terms in 2 or more docs?\n",
        "\n",
        "jules_verne_dictionary.filter_extremes(no_below=1,\n",
        "                                       no_above=0.75,\n",
        "                                       keep_n=10_000)\n",
        "\n",
        "print(jules_verne_dictionary)"
      ],
      "execution_count": 32,
      "outputs": [
        {
          "output_type": "stream",
          "name": "stdout",
          "text": [
            "Dictionary(10000 unique tokens: ['abaissement', 'abandonne', 'abat', 'abattre', 'abattu']...)\n"
          ]
        }
      ]
    },
    {
      "cell_type": "code",
      "metadata": {
        "id": "r0U44mETtXe6"
      },
      "source": [
        "# construct corpus (term-document matrix) by converting \n",
        "# processed docs into bag-of-words representations\n",
        "\n",
        "jules_verne_corpus = [jules_verne_dictionary.doc2bow(doc) \\\n",
        "                      for doc in jules_verne_docs]"
      ],
      "execution_count": 33,
      "outputs": []
    },
    {
      "cell_type": "markdown",
      "metadata": {
        "id": "34cKUPV5I8yl"
      },
      "source": [
        "### HDP Topic Modelling"
      ]
    },
    {
      "cell_type": "code",
      "metadata": {
        "id": "ravEXySgtofc",
        "colab": {
          "base_uri": "https://localhost:8080/"
        },
        "outputId": "98f87bdf-0b68-4ea8-b3a8-5b3e95065451"
      },
      "source": [
        "# construct HDP model\n",
        "\n",
        "# Online HDP is efficient non-parametric topic modelling that \n",
        "# does not require a specified topic count. The \"T\" parameter \n",
        "# restricts the number of topics revealed.\n",
        "%time jules_verne_hdp_model = models.HdpModel(jules_verne_corpus, \\\n",
        "                                              jules_verne_dictionary, \\\n",
        "                                              T=20)"
      ],
      "execution_count": 34,
      "outputs": [
        {
          "output_type": "stream",
          "name": "stdout",
          "text": [
            "CPU times: user 439 ms, sys: 212 ms, total: 651 ms\n",
            "Wall time: 428 ms\n"
          ]
        }
      ]
    },
    {
      "cell_type": "code",
      "metadata": {
        "colab": {
          "base_uri": "https://localhost:8080/"
        },
        "id": "GANT6mXgds1E",
        "outputId": "8ad5c72a-2dc2-4ab3-98df-8b25c41ca9e4"
      },
      "source": [
        "# create a translation of the dictionary for presentation\n",
        "\n",
        "misses, jules_verne_xlat_dictionary = \\\n",
        "  translate_gensim_dictionary(jules_verne_dictionary, 'fr')\n",
        "  \n",
        "print(f'{misses} cache misses.')\n",
        "print(jules_verne_xlat_dictionary)"
      ],
      "execution_count": 35,
      "outputs": [
        {
          "output_type": "stream",
          "name": "stdout",
          "text": [
            "\"/content/caches/xlat.json\" xlat cache loaded:\n",
            "\t[fr->en] contains 14782 entries\n",
            "0 cache misses.\n",
            "Dictionary(10000 unique tokens: ['lowering (abaissement)', 'abandoned (abandonne)', 'stun (abasourdir)', 'abatement (abat)', 'abatement (abattement)']...)\n"
          ]
        }
      ]
    },
    {
      "cell_type": "markdown",
      "metadata": {
        "id": "ChHjEo1ty672"
      },
      "source": [
        "#### Model Visualization"
      ]
    },
    {
      "cell_type": "code",
      "metadata": {
        "colab": {
          "base_uri": "https://localhost:8080/"
        },
        "id": "hFWHy0N7z-sD",
        "outputId": "6b220741-a819-4dcd-b9fd-607af991f7b4"
      },
      "source": [
        "# prepare model visualization\n",
        "\n",
        "vis_data = gensimvis.prepare(jules_verne_hdp_model,\n",
        "                             jules_verne_corpus,\n",
        "                             jules_verne_xlat_dictionary,\n",
        "                             mds='tsne')\n",
        "\n",
        "# pyLDAvis.save_html(model_vis, 'jules_verne_topics.html')"
      ],
      "execution_count": 36,
      "outputs": [
        {
          "output_type": "stream",
          "name": "stderr",
          "text": [
            "/usr/local/lib/python3.7/dist-packages/sklearn/metrics/pairwise.py:56: DeprecationWarning: `np.float` is a deprecated alias for the builtin `float`. To silence this warning, use `float` by itself. Doing this will not modify any behavior and is safe. If you specifically wanted the numpy scalar type, use `np.float64` here.\n",
            "Deprecated in NumPy 1.20; for more details and guidance: https://numpy.org/devdocs/release/1.20.0-notes.html#deprecations\n",
            "  dtype = np.float\n",
            "/usr/local/lib/python3.7/dist-packages/sklearn/manifold/_t_sne.py:348: DeprecationWarning: `np.float` is a deprecated alias for the builtin `float`. To silence this warning, use `float` by itself. Doing this will not modify any behavior and is safe. If you specifically wanted the numpy scalar type, use `np.float64` here.\n",
            "Deprecated in NumPy 1.20; for more details and guidance: https://numpy.org/devdocs/release/1.20.0-notes.html#deprecations\n",
            "  error = np.finfo(np.float).max\n",
            "/usr/local/lib/python3.7/dist-packages/sklearn/manifold/_t_sne.py:349: DeprecationWarning: `np.float` is a deprecated alias for the builtin `float`. To silence this warning, use `float` by itself. Doing this will not modify any behavior and is safe. If you specifically wanted the numpy scalar type, use `np.float64` here.\n",
            "Deprecated in NumPy 1.20; for more details and guidance: https://numpy.org/devdocs/release/1.20.0-notes.html#deprecations\n",
            "  best_error = np.finfo(np.float).max\n",
            "/usr/local/lib/python3.7/dist-packages/sklearn/manifold/_t_sne.py:348: DeprecationWarning: `np.float` is a deprecated alias for the builtin `float`. To silence this warning, use `float` by itself. Doing this will not modify any behavior and is safe. If you specifically wanted the numpy scalar type, use `np.float64` here.\n",
            "Deprecated in NumPy 1.20; for more details and guidance: https://numpy.org/devdocs/release/1.20.0-notes.html#deprecations\n",
            "  error = np.finfo(np.float).max\n",
            "/usr/local/lib/python3.7/dist-packages/sklearn/manifold/_t_sne.py:349: DeprecationWarning: `np.float` is a deprecated alias for the builtin `float`. To silence this warning, use `float` by itself. Doing this will not modify any behavior and is safe. If you specifically wanted the numpy scalar type, use `np.float64` here.\n",
            "Deprecated in NumPy 1.20; for more details and guidance: https://numpy.org/devdocs/release/1.20.0-notes.html#deprecations\n",
            "  best_error = np.finfo(np.float).max\n"
          ]
        }
      ]
    },
    {
      "cell_type": "code",
      "metadata": {
        "colab": {
          "base_uri": "https://localhost:8080/",
          "height": 881
        },
        "id": "YH2K0CVd3uSv",
        "outputId": "bdc93d1a-263a-4a02-d782-d8ec80ae94bf"
      },
      "source": [
        "# display the visualization inline\n",
        "\n",
        "pyLDAvis.display(vis_data)"
      ],
      "execution_count": 37,
      "outputs": [
        {
          "output_type": "execute_result",
          "data": {
            "text/html": [
              "\n",
              "<link rel=\"stylesheet\" type=\"text/css\" href=\"https://cdn.jsdelivr.net/gh/bmabey/pyLDAvis@3.3.1/pyLDAvis/js/ldavis.v1.0.0.css\">\n",
              "\n",
              "\n",
              "<div id=\"ldavis_el10591399122397494566089033474\"></div>\n",
              "<script type=\"text/javascript\">\n",
              "\n",
              "var ldavis_el10591399122397494566089033474_data = {\"mdsDat\": {\"x\": [-10.878067970275879, -60.88402557373047, -2.3361191749572754, -61.385318756103516, -28.737743377685547, 1.0666056871414185, 45.14072036743164, -140.7959747314453, 61.531681060791016, -72.56305694580078, 15.984491348266602, -160.85162353515625, 85.96183013916016, -99.02083587646484, -176.76412963867188, -117.18988037109375, 108.82991790771484, 47.588096618652344, -106.46783447265625, -50.61380386352539], \"y\": [10.538727760314941, -75.5918197631836, -53.2890739440918, -12.914633750915527, 126.2969970703125, -123.55281066894531, -7.947869300842285, -98.53054809570312, -83.24056243896484, -140.39688110351562, 63.57818603515625, 68.94514465332031, 51.922935485839844, 109.93634796142578, -8.681683540344238, -37.42020034790039, -22.946203231811523, 121.934814453125, 30.176889419555664, 59.32884216308594], \"topics\": [1, 2, 3, 4, 5, 6, 7, 8, 9, 10, 11, 12, 13, 14, 15, 16, 17, 18, 19, 20], \"cluster\": [1, 1, 1, 1, 1, 1, 1, 1, 1, 1, 1, 1, 1, 1, 1, 1, 1, 1, 1, 1], \"Freq\": [40.913400555868236, 34.25170689552737, 20.725126874105378, 2.939213409677521, 1.170026190695137, 0.00026303706317985076, 0.00013151853158992538, 6.575926579496269e-05, 3.2879632897481346e-05, 1.6439816448740673e-05, 8.219908224370336e-06, 4.109954112185168e-06, 2.054977056092584e-06, 1.027488528046292e-06, 5.13744264023146e-07, 2.56872132011573e-07, 1.284360660057865e-07, 6.421803300289325e-08, 3.2109016501446627e-08, 3.2109016501446627e-08]}, \"tinfo\": {\"Term\": [\"doctor (docteur)\", \"albatross (albatros)\", \"master key (passepartout)\", \"carrycot (nacelle)\", \"hunter (chasseur)\", \"train (train)\", \"ball (ballon)\", \"Lake (lac)\", \"traveler (voyageur)\", \"aircraft (a\\u00e9ronef)\", \"projectile (projectile)\", \"club (club)\", \"torch (chalumeau)\", \"aerostat (a\\u00e9rostat)\", \"Mountain (montagne)\", \"plugged (branche)\", \"agent (agent)\", \"Helix (h\\u00e9lice)\", \"gas (gaz)\", \"region (r\\u00e9gion)\", \"weight (poids)\", \"powder (poudre)\", \"gentleman (gentleman)\", \"bedroom (chambre)\", \"kilometer (kilom\\u00e8tre)\", \"observatory (observatoire)\", \"to weigh (peser)\", \"atmosphere (atmosph\\u00e8re)\", \"singular (singulier)\", \"liner (paquebot)\", \"doctor (docteur)\", \"people (peuplade)\", \"taliba (taliba)\", \"equivalent (\\u00e9quivalent)\", \"torch (chalumeau)\", \"musket (mousquet)\", \"activist (militant)\", \"hyena (hy\\u00e8ne)\", \"painted (peinte)\", \"nothing (n\\u00e9ant)\", \"shed (d\\u00e9lester)\", \"solicitor (solicitor)\", \"exploration (exploration)\", \"heritage (h\\u00e9ritage)\", \"laboratory (laboratoire)\", \"francevillai (francevillai)\", \"riparian (riverain)\", \"vigilance (vigilance)\", \"quartz (quartz)\", \"hydrogen (hydrog\\u00e8n)\", \"lesson (le\\u00e7on)\", \"restless (agit\\u00e9)\", \"bag (sachet)\", \"Tuareg (touareg)\", \"rascal (gredin)\", \"order (consigne)\", \"taffeta (taffetas)\", \"intellectual (intellectuel)\", \"practitioner (praticien)\", \"baobab (baobab)\", \"carrycot (nacelle)\", \"hunter (chasseur)\", \"serpentine (serpentin)\", \"rock (roc)\", \"oscillation (oscillation)\", \"mother (m\\u00e8re)\", \"buckwheat (sarrasin)\", \"swamp (marais)\", \"vegetation (v\\u00e9g\\u00e9tation)\", \"geographical (g\\u00e9ographique)\", \"sick (malade)\", \"steel (acier)\", \"chapter (chapitre)\", \"Scottish (\\u00e9cossais)\", \"tribe (tribu)\", \"ball (ballon)\", \"ballast (lest)\", \"professor (professeur)\", \"caravan (caravane)\", \"model (mod\\u00e8le)\", \"Lake (lac)\", \"checkout (caisse)\", \"expedition (exp\\u00e9dition)\", \"Arab (arabe)\", \"sand (sable)\", \"source (source)\", \"River (fleuve)\", \"town (village)\", \"aerostat (a\\u00e9rostat)\", \"gas (gaz)\", \"country (contr\\u00e9e)\", \"traveler (voyageur)\", \"Negro (n\\u00e8gre)\", \"letter (lettre)\", \"Mountain (montagne)\", \"Savage (sauvage)\", \"weight (poids)\", \"to expand (\\u00e9tendre)\", \"provision (provision)\", \"central (central)\", \"direction (direction)\", \"atmosphere (atmosph\\u00e8re)\", \"temperature (temp\\u00e9rature)\", \"learned (savant)\", \"so much (autant)\", \"aircraft (a\\u00e9ronef)\", \"albatross (albatros)\", \"columbiad (columbiad)\", \"rooftop (roufle)\", \"mirror (miroir)\", \"cylinder (cylindre)\", \"suspensive (suspensif)\", \"Philadelphia (philadelphie)\", \"cartridge (gargousse)\", \"appointed (nomme)\", \"porthole (hublot)\", \"rooster (coq)\", \"balloonist (balloniste)\", \"telescope (t\\u00e9lescope)\", \"racing car (bolide)\", \"rivalry (rivalit\\u00e9)\", \"millimeter (millim\\u00e8tre)\", \"howitzer (obusier)\", \"magnification (grossissement)\", \"drilling (forage)\", \"mound (tertre)\", \"publicly (publiquement)\", \"texa (texa)\", \"rotation (rotation)\", \"cell (cellule)\", \"gag (b\\u00e2illon)\", \"snuffbox (tabati\\u00e8re)\", \"goal (objectif)\", \"gun (gun)\", \"aluminum (aluminium)\", \"thruster (propulseur)\", \"observatory (observatoire)\", \"mortar (mortier)\", \"Secretary (secr\\u00e9taire)\", \"July (juillet)\", \"projectile (projectile)\", \"cyclone (cyclone)\", \"Helix (h\\u00e9lice)\", \"star (astre)\", \"ball (boulet)\", \"floridian (floridien)\", \"masonry (ma\\u00e7onnerie)\", \"kilometer (kilom\\u00e8tre)\", \"planet (plan\\u00e8te)\", \"flat (plate)\", \"astronomer (astronome)\", \"powder (poudre)\", \"coworker (coll\\u00e8gue)\", \"club (club)\", \"melting (fonte)\", \"major (major)\", \"flying (volant)\", \"metal (m\\u00e9tal)\", \"air (a\\u00e9rien)\", \"experience (exp\\u00e9rience)\", \"earthly (terrestre)\", \"member (membre)\", \"session (s\\u00e9ance)\", \"world (globe)\", \"atmosphere (atmosph\\u00e8re)\", \"phenomenon (ph\\u00e9nom\\u00e8ne)\", \"power (puissance)\", \"fall (chute)\", \"dollar (dollar)\", \"region (r\\u00e9gion)\", \"Mountain (montagne)\", \"ball (ballon)\", \"master key (passepartout)\", \"philea (philea)\", \"inspector (inspecteur)\", \"detective (d\\u00e9tective)\", \"report (signalement)\", \"clerk (greffier)\", \"arrest (arrestation)\", \"sieur (sieur)\", \"sled (tra\\u00eeneau)\", \"cultist (sectateur)\", \"liner (paquebot)\", \"smoking (tabagie)\", \"lacquer (laque)\", \"palanquin (palanquin)\", \"indulge (adonner)\", \"stopover (escale)\", \"get out of breath (essouffler)\", \"balancing act (\\u00e9quilibriste)\", \"mackintosh (mackintosh)\", \"premium (prime)\", \"ghate (gh\\u00e2te)\", \"procures (procure)\", \"gentleman (gentleman)\", \"obadiah (obadiah)\", \"bail (caution)\", \"eccentric (excentrique)\", \"annex (annexer)\", \"traveling (ambulant)\", \"vindhia (vindhia)\", \"herald (h\\u00e9raut)\", \"sergeant (brigadier)\", \"pagoda (pagode)\", \"opium (opium)\", \"pilot (pilote)\", \"tankadere (tankad\\u00e8re)\", \"partner (partenaire)\", \"passport (passeport)\", \"whist (whist)\", \"station (station)\", \"ganges (gange)\", \"police (police)\", \"regulatory (r\\u00e9glementaire)\", \"station (gare)\", \"car (wagon)\", \"thief (voleur)\", \"agent (agent)\", \"train (train)\", \"mandate (mandat)\", \"guide (guide)\", \"domesticated (domestique)\", \"schooner (go\\u00e9lette)\", \"bet (pari)\", \"Japanese (japonais)\", \"driver (conducteur)\", \"consul (consul)\", \"delay (retard)\", \"Indian (indien)\", \"traveler (voyageur)\", \"dock (quai)\", \"elephant (\\u00e9l\\u00e9phant)\", \"locomotive (locomotive)\", \"midday (midi)\", \"club (club)\", \"colonel (colonel)\", \"bedroom (chambre)\", \"honorable (honorable)\", \"uncle (oncle)\", \"nephew (neveu)\", \"gaoler (ge\\u00f4lier)\", \"confederate (conf\\u00e9d\\u00e9r\\u00e9)\", \"abolitionist (abolitionniste)\", \"federal (f\\u00e9d\\u00e9ral)\", \"cargo (cargaison)\", \"slavery (esclavage)\", \"clothing (habillement)\", \"mizzen (artimon)\", \"turn pale (p\\u00e2lir)\", \"poop (dunette)\", \"frigate (fr\\u00e9gate)\", \"citadel (citadelle)\", \"shoot (fusiller)\", \"rower (rameur)\", \"foremast (misaine)\", \"swift (martinet)\", \"hold (cale)\", \"drama (drame)\", \"traitor (tra\\u00eetre)\", \"lookout (vigie)\", \"interrogator (interrogateur)\", \"punta (punta)\", \"to evolve (\\u00e9voluer)\", \"breaststroke (brasse)\", \"journalist (journaliste)\", \"overflow (regorger)\", \"piston (piston)\", \"amaze (stup\\u00e9faire)\", \"Lighthouse (phare)\", \"past (passe)\", \"crew (\\u00e9quipage)\", \"issue (d\\u00e9livrer)\", \"darkness (t\\u00e9n\\u00e8bre)\", \"Marine (marine)\", \"ammunition (munition)\", \"closed off (barre)\", \"trader (n\\u00e9gociant)\", \"fog (brouillard)\", \"cotton (coton)\", \"harbor (rade)\", \"ball (boulet)\", \"rocket (fus\\u00e9e)\", \"bomb (bombe)\", \"chapter (chapitre)\", \"embarrass (embarrasser)\", \"dock (quai)\", \"maneuver (manoeuvre)\", \"servant (serviteur)\", \"projectile (projectile)\", \"boat (chaloupe)\", \"torture (torture)\", \"pitcairn (pitcairn)\", \"hydroscop (hydroscop)\", \"rebel (rebelle)\", \"convert (convertir)\", \"canoe (pirogue)\", \"protest (protestation)\", \"bitterness (amertume)\", \"cutlass (coutelas)\", \"rum (rhum)\", \"Carpenter (charpentier)\", \"annoy (\\u00e9nerver)\", \"Oyster (hu\\u00eetre)\", \"commandment (commandement)\", \"guanaque (guanaque)\", \"except (excepter)\", \"innocence (innocence)\", \"crime (crime)\", \"Agriculture (agriculture)\", \"apple (prunelle)\", \"unexpected (inopin\\u00e9)\", \"drama (drame)\", \"survivor (survivant)\", \"obedience (ob\\u00e9issance)\", \"ration (ration)\", \"fable (fable)\", \"admiralty (amiraut\\u00e9)\", \"Bible (bible)\", \"flutter (papillonner)\", \"exchange (\\u00e9change)\", \"Beach (plage)\", \"debate (d\\u00e9bat)\", \"customs (moeurs)\", \"archipelago (archipel)\", \"shore (rivage)\", \"crew (\\u00e9quipage)\", \"shipwreck (naufrage)\", \"released (rel\\u00e2che)\", \"commanding officer (commandant)\", \"pursuit (poursuite)\", \"bread (pain)\", \"comrade (camarade)\", \"revolt (r\\u00e9volte)\", \"land (d\\u00e9barquer)\", \"gravity (gravit\\u00e9)\", \"veil (voile)\", \"story (r\\u00e9cit)\", \"may (mai)\", \"landing (d\\u00e9barquement)\", \"June (juin)\", \"provision (provision)\", \"clothes (v\\u00eatement)\", \"thunderstorm (orage)\", \"alarmed (alarm\\u00e8rent)\", \"impetuosity (imp\\u00e9tuosit\\u00e9)\", \"verruqueu (verruqueu)\", \"roasted (torr\\u00e9fi\\u00e9e)\", \"turns pale (p\\u00e2lit)\", \"juxtapose (juxtaposer)\", \"case (\\u00e9crin)\", \"suspicious (louche)\", \"axle (essieu)\", \"mystical (mystique)\", \"pasture (p\\u00e2ture)\", \"opposite (oppos\\u00e9)\", \"wrapped (envelopp\\u00e9e)\", \"thorough (approfondi)\", \"Gothic (gothique)\", \"inclemency (incl\\u00e9mence)\", \"disgust (\\u00e9coeurer)\", \"argousin (argousin)\", \"get bogged down (embourber)\", \"sophisticated (sophistiquer)\", \"torch (flambeau)\", \"Moreover (demeurant)\", \"young lady (demoisell)\", \"clipper (clipper)\", \"engaging (engageanter)\", \"libation (libation)\", \"samuel (samuel)\", \"compressor (compresseur)\", \"doublet (pourpoint)\", \"scoundrel (canaille)\", \"sense (senser)\", \"diver (plongeur)\", \"mathematician (math\\u00e9maticien)\", \"oxide (oxyde)\", \"suspicion (suspicion)\", \"bailiff (huissier)\", \"icing (glacer)\", \"proverb (proverbe)\", \"retaliation (riposte)\", \"exactness (exactitude)\", \"denier (denier)\", \"Norwegian (norv\\u00e9gien)\", \"flood (inonder)\", \"tight (serre)\", \"heel (talon)\", \"pitcairn (pitcairn)\", \"coal mine (houilleur)\", \"to slow down (ralentir)\", \"to land (atterrir)\", \"sensible (sens\\u00e9)\", \"task (tache)\", \"gut (boyau)\", \"language (language)\", \"jumped up (saute)\", \"to preserve (pr\\u00e9server)\", \"cry (pleur)\", \"tried (tried)\", \"consoled (consola)\", \"interpretation (interpr\\u00e9tation)\", \"locality (localit\\u00e9)\", \"nomenclature (nomenclature)\", \"cubit (coud\\u00e9e)\", \"invaluable (inappr\\u00e9ciable)\", \"devout (d\\u00e9vot)\", \"sterlet (sterlet)\", \"worm-eaten (vermoulu)\", \"laundry (blanchisserie)\", \"casa (casa)\", \"tebbad (tebbad)\", \"take (pr\\u00e9lever)\", \"recurrence (r\\u00e9apparition)\", \"fortunate (chanceux)\", \"herbaceous (herbacer)\", \"confuse (d\\u00e9router)\", \"lethargy (l\\u00e9thargie)\", \"stumbling (tr\\u00e9buchant)\", \"harp (harpe)\", \"talk back (recauseron)\", \"break (cassure)\", \"symbolize (symboliser)\", \"coniferous (conif\\u00e8re)\", \"Aviso (aviso)\", \"exile (exil)\", \"gr\\u00e9geoi (gr\\u00e9geoi)\", \"swagger (fanfaronnade)\", \"funeral (obs\\u00e8que)\", \"insolence (insolence)\", \"miraculously (miraculeusement)\", \"stamp (cachet)\", \"ruin (ruin)\", \"hure (hure)\", \"muscular (musculeu)\", \"industan (indoustan)\", \"message (message)\", \"singularity (singularit\\u00e9)\", \"watering hole (aiguade)\", \"spinning (filant)\", \"copy (exemplaire)\", \"asteroid (ast\\u00e9ro\\u00efde)\", \"pomp (faste)\", \"Venus (v\\u00e9nus)\", \"depression (d\\u00e9pression)\", \"sting (piquer)\", \"joker (farceur)\", \"wake up (r\\u00e9veille)\", \"pronoun (pronom)\", \"illustrated (illustre)\", \"variation (variation)\", \"unique (unique)\", \"tulip tree (tulipier)\", \"restore (restaurer)\", \"Belgian (belge)\", \"sloop (sloop)\", \"lunation (lunaison)\", \"alienate (ali\\u00e9ner)\", \"ubiquity (ubiquit\\u00e9)\", \"cheer up (d\\u00e9rider)\", \"carried out (effectue)\", \"rhubarb (rhubarbe)\", \"transit (transit)\", \"magellan (magellan)\", \"inventory (inventorier)\", \"unrolls (d\\u00e9roule)\", \"coincidence (co\\u00efncidence)\", \"honestly (honn\\u00eatement)\", \"meet (rencontrent)\", \"courteous (courtoise)\", \"meowed (miaul\\u00e9)\", \"weakling (gringalet)\", \"licitation (licitation)\", \"bourbon (bourbon)\", \"to fill in (combler)\", \"sidi (sidi)\", \"practically (pratiquement)\", \"Atlantic (atlantique)\", \"floated (flotta)\", \"sixteenth (seizi\\u00e8me)\", \"transpire (transire)\", \"rope (cord\\u00e9)\", \"planted (planta)\", \"maxim (maxime)\", \"disaster (d\\u00e9sastre)\", \"reside (habite)\", \"milky (laiteux)\", \"overweight (embonpoint)\", \"fuck (niquer)\", \"got out (sorti)\", \"put (mets)\", \"contrast (contraste)\", \"growl (grognement)\", \"branching out (ramification)\", \"have (avez)\", \"clearance (d\\u00e9gagement)\", \"meteorologist (m\\u00e9t\\u00e9orologiste)\", \"touch (effleurer)\", \"beefsteak (beefsteack)\", \"beautifully (magnifiquement)\", \"noisy (bruyant)\", \"Browse (parcourir)\", \"permanent (permanent)\", \"perpetually (perp\\u00e9tuellement)\", \"physiology (physiologie)\", \"usually (ordinairement)\", \"effused (efflanquaient)\", \"passionate (passionnel)\", \"pangs (affres)\", \"macadamize (macadamiser)\", \"close (rapproche)\", \"mercantile (mercantile)\", \"sender (exp\\u00e9diteur)\", \"detached (d\\u00e9tach\\u00e9)\", \"Entrance (entree)\", \"awarded (d\\u00e9cerna)\", \"callosum (calleux)\", \"musculature (musculature)\", \"rocked (bascula)\", \"billeves\\u00e9e (billeves\\u00e9e)\", \"trap (trapp)\", \"withered (fl\\u00e9tri)\", \"adherent (adh\\u00e9rent)\", \"ride (chevauch\\u00e9e)\", \"back up (adosser)\", \"macau (macao)\", \"tasted (go\\u00fbta)\", \"lodged (logea)\", \"loustic (loustic)\", \"Rouen (rouennais)\", \"hairdressing (coiffure)\", \"solanacea (solanac\\u00e9e)\", \"stripe (rayure)\", \"diver (plongeur)\", \"materiality (mat\\u00e9rialit\\u00e9)\", \"Havana (havane)\", \"zebu (z\\u00e9bu)\", \"Oceanian (oc\\u00e9anien)\", \"nimbly (lestement)\", \"obedience (ob\\u00e9issance)\", \"replica (r\\u00e9plique)\", \"mathematical (mathematical)\", \"stupor (stupeur)\", \"to fold (plier)\", \"bias (biais)\", \"to delete (supprimer)\", \"honorable (honorable)\", \"derivative (d\\u00e9rive)\", \"time limit (d\\u00e9lai)\", \"throbbing (palpitant)\", \"polished (poli)\", \"Indian (indien)\", \"blind (aveugle)\", \"bark (\\u00e9corce)\", \"exaggeration (exag\\u00e9ration)\", \"artificial (artificiel)\", \"to land (aborder)\", \"steamboat (steamboat)\", \"isfjord (isfjord)\", \"appropriate (\\u00e9ch\\u00e9ant)\", \"haul (hal\\u00e9e)\", \"perimeter (p\\u00e9rim\\u00e8tre)\", \"jay (geai)\", \"bonzerie (bonzerie)\", \"freight (fret)\", \"tasteless (insipide)\", \"landing (palier)\", \"catechize (cat\\u00e9chiser)\", \"almost (quasi)\", \"shoulder (\\u00e9paul\\u00e9)\", \"morning (m\\u00e2tin)\", \"Crouch (accroupir)\", \"dine (d\\u00eene)\", \"magical (magique)\", \"cheyenne (cheyenne)\", \"fahrenheit (fahrenheit)\", \"prophecy (proph\\u00e9tie)\", \"xii (xii)\", \"viper (vip\\u00e8re)\", \"visited (visita)\", \"descendon (descendon)\", \"rocked (bascula)\", \"excusable (excusable)\", \"herbaceous (herbacer)\", \"caleb (caleb)\", \"sow (ensemencer)\", \"speculate (supputer)\", \"perpetually (perp\\u00e9tuellement)\", \"moving (\\u00e9mouvante)\", \"absorbed (absorbe)\", \"amenity (am\\u00e9nit\\u00e9)\", \"boast (targuer)\", \"transcribe (transcrire)\", \"solicited (racol\\u00e9)\", \"html (html)\", \"impudent (impudent)\", \"shorten (abr\\u00e9ger)\", \"gathered (fronc\\u00e9)\", \"stick (h\\u00e2ton)\", \"sturgeon (esturgeon)\", \"restore (restituer)\", \"bearable (supportable)\", \"rise (hausse)\", \"adapt (adapter)\", \"surely (s\\u00fbrement)\", \"exposes (expose)\", \"cedar (c\\u00e8dre)\", \"track (piste)\", \"Boar (sanglier)\", \"Mountain (montagne)\", \"September (septembre)\", \"half-open (entrouvert)\", \"gratification (gratification)\", \"plumage (plumage)\", \"casa (casa)\", \"turnstile (tourniquet)\", \"observance (observance)\", \"object (objecter)\", \"kirimon (kirimon)\", \"jerk (saccader)\", \"stopover (escal)\", \"America (am\\u00e9riqu\\u00e9)\", \"irregularity (irr\\u00e9gularit\\u00e9)\", \"Safe (sauv\\u00e9)\", \"blade (pale)\", \"robbed (braqu\\u00e9)\", \"forsake (d\\u00e9laisser)\", \"contractility (contractilit\\u00e9)\", \"princely (princier)\", \"grant (conc\\u00e9der)\", \"affordable (abordable)\", \"orthopth\\u00e8re (orthopth\\u00e8re)\", \"staid (guind\\u00e9)\", \"lemon (citron)\", \"piercing (per\\u00e7ant)\", \"optimism (optimisme)\", \"leaned (accot\\u00e9)\", \"bou (bou)\", \"refreshes (rafra\\u00eechit)\", \"isthmus (isthme)\", \"Guinea (guin\\u00e9e)\", \"falls (retomb\\u00e9)\", \"pulsation (pulsation)\", \"effective (effectif)\", \"reflexive (r\\u00e9fl\\u00e9chi)\", \"diving (plong\\u00e9e)\", \"weigh down (appesantir)\", \"permits (permits)\", \"appert (appert)\", \"seagull (mouette)\", \"interpreter (interpr\\u00e8te)\", \"ovation (ovation)\", \"cyclopean (cyclop\\u00e9en)\", \"reciprocally (r\\u00e9ciproquement)\", \"cubic (cubique)\", \"handling (manipulation)\", \"foundation (fondation)\", \"scared (effraya)\", \"hippopotamus (hippopotame)\", \"philanthropic (philanthropique)\", \"compressing (comprimant)\", \"extension (prolongation)\", \"sheet metal (t\\u00f4le)\", \"difference (diff\\u00e9rence)\", \"cotton (coton)\", \"comrade (camarade)\", \"Pauze (pauze)\", \"lodged (logea)\", \"finding (trouvant)\", \"bandolier (cartouchi\\u00e8re)\", \"will figure (figurerai)\", \"bellowing (beuglement)\", \"diving (plong\\u00e9e)\", \"glabrous (glabre)\", \"port (b\\u00e2bord)\", \"susceptibility (susceptibilit\\u00e9)\", \"redemption (r\\u00e9demption)\", \"trap (trapp)\", \"crackle (craqueler)\", \"alumina (alumine)\", \"generation (generation)\", \"evaporative (\\u00e9vaporatoire)\", \"viper (vip\\u00e8re)\", \"song (chanson)\", \"washing (lavage)\", \"to stimulate (susciter)\", \"vagabond (vagabond)\", \"arbitrary (arbitraire)\", \"reagent (r\\u00e9actif)\", \"indigestion (indigestion)\", \"broom (gen\\u00eat)\", \"chase down (pourchasser)\", \"par (pare)\", \"Courier (courri\\u00e8re)\", \"ductile (ductile)\", \"chronic (chronique)\", \"corral (corral)\", \"rectified (rectifia)\", \"capillary (capillaire)\", \"bursting (fusant)\", \"neck (encolure)\", \"deaf (sourdr)\", \"invariable (invariable)\", \"overwhelming (foudroyant)\", \"brighten up (\\u00e9gayer)\", \"regularize (r\\u00e9gulariser)\", \"wielding (maniant)\", \"necklace (collier)\", \"decline (d\\u00e9cliner)\", \"engineer (ingenieur)\", \"hay (foin)\", \"lung (poumon)\", \"flatter (flatter)\", \"bandit (bandit)\", \"short-lived (\\u00e9ph\\u00e9m\\u00e8re)\", \"salvo (salve)\", \"misunderstanding (malentendu)\", \"dominate (dominer)\", \"Sauerkraut (choucroute)\", \"bind (lier)\", \"incredulity (incr\\u00e9dulit\\u00e9)\", \"hal (hal)\", \"nacell (nacell)\", \"encrusted (encro\\u00fbt\\u00e9e)\", \"keep (tiendrion)\", \"mystical (mystique)\", \"exalt (exalter)\", \"confer (conf\\u00e9rer)\", \"vigorous (vigoureusemer)\", \"infuriating (rageant)\", \"immoral (immoral)\", \"lunation (lunaison)\", \"apparaux (apparaux)\", \"sextant (sextant)\", \"pole (perche)\", \"etion (\\u00e9tion)\", \"unbreakable (incassable)\", \"fork (fourchette)\", \"pellet (boulette)\", \"grazed (p\\u00e2turaient)\", \"boyfriend (copain)\", \"thin out (d\\u00e9garnir)\", \"forged (forgeait)\", \"aroma (ar\\u00f4me)\", \"colon (colon)\", \"irregularly (irr\\u00e9guli\\u00e8rement)\", \"murderous (meurtr\\u00eeere)\", \"drapery (draperie)\", \"solidemer (solidemer)\", \"Above (pardessus)\", \"coat (coat)\", \"aggressor (agresseur)\", \"replace (replacer)\", \"ease (aisance)\", \"irregular (irr\\u00e9gulier)\", \"tackle (agr\\u00e8s)\", \"chimerical (chim\\u00e9rique)\", \"unbreathable (irrespirable)\", \"stupefaction (stup\\u00e9faction)\", \"fury (furie)\", \"pyroxyl (pyroxyle)\", \"tuft (touffe)\", \"spent (d\\u00e9pense)\", \"reflection (r\\u00e9flexion)\", \"request (requ\\u00eate)\", \"unwind (d\\u00e9rouler)\", \"theoretical (th\\u00e9orique)\", \"trunk (tronc)\", \"quench (d\\u00e9salt\\u00e9rer)\", \"calcine (calciner)\", \"field (champ)\", \"gallery (galerie)\", \"bustard (outarde)\", \"ibi (ibi)\", \"strangeness (\\u00e9tranget\\u00e9)\", \"argentiferous (argentif\\u00e8re)\", \"cooking (cuisson)\", \"recurrence (r\\u00e9apparition)\", \"to specify (pr\\u00e9ciser)\", \"persevere (pers\\u00e9v\\u00e9rer)\", \"saving (\\u00e9pargne)\", \"incarceration (incarc\\u00e9ration)\", \"textile (textile)\", \"fouled (encrassaient)\", \"prowess (prouesse)\", \"annotate (annoter)\", \"suspected (soup\\u00e7onn\\u00e2t)\", \"ceaseless (incessanter)\", \"magical (magique)\", \"reach (atteignissent)\", \"disorient (d\\u00e9payser)\", \"wavy (onduleux)\", \"iris (iris)\", \"park (stationner)\", \"mizzen (artimon)\", \"dolmen (dolmen)\", \"vitiate (vicier)\", \"fat (grasse)\", \"infested (infest\\u00e9)\", \"colonnade (colonnade)\", \"paperwork (paperassi\\u00e8re)\", \"coated (enduit)\", \"crust (cro\\u00fbte)\", \"stoic (sto\\u00efque)\", \"preliminary (pr\\u00e9liminaire)\", \"sandalwood (santal)\", \"open (ouvert)\", \"that (that)\", \"appetizing (app\\u00e9tissant)\", \"dizzying (vertigineux)\", \"hollowed out (\\u00e9vidaient)\", \"ride (enfourcher)\", \"Austrian (autrichien)\", \"nod (hocher)\", \"cap (bonnet)\", \"major (majeur)\", \"archive (archive)\", \"fur (fourrure)\", \"tumble down (d\\u00e9gringoler)\", \"singular (singulier)\", \"kingdom (royaume)\", \"exit (sortie)\", \"reproduce (reproduire)\", \"July (juillet)\", \"Master (master)\", \"agent (agent)\", \"exalt (exalter)\", \"mauve (mauve)\", \"walker (promeneur)\", \"transverse (transversal)\", \"studbook (studbook)\", \"strangled (\\u00e9tranglaient)\", \"nightmares (cauchemars)\", \"inevitably (immanquablement)\", \"date (quanti\\u00e8m)\", \"engulfing (engloutissement)\", \"take (pr\\u00e9lever)\", \"spawning (frai)\", \"twist (p\\u00e9rip\\u00e9tie)\", \"affinity (affinit\\u00e9)\", \"gratification (gratification)\", \"boring (al\\u00e9sable)\", \"bamboo (bambou)\", \"result (d\\u00e9couler)\", \"swoon (p\\u00e2ment)\", \"pretentious (pr\\u00e9tentieux)\", \"journal (tourillon)\", \"skewer (embrocher)\", \"wing (ailer)\", \"tie down (arrimer)\", \"preciously (pr\\u00e9cieusement)\", \"broom (gen\\u00eat)\", \"grumpy (grognon)\", \"bow down (prosterner)\", \"disgusting (affadissant)\", \"thigh (cuisse)\", \"scar (cicatrice)\", \"frizzy (cr\\u00e9pu)\", \"inertia (inertie)\", \"obsolete (obsolet)\", \"wisdom (sagesse)\", \"sharpness (nettet\\u00e9)\", \"shaving (rasant)\", \"potting soil (terreau)\", \"deified (divinis\\u00e9)\", \"accurate (exacts)\", \"lobby (hall)\", \"civility (civilit\\u00e9)\", \"cash in (encaisser)\", \"library (biblioth\\u00e8que)\", \"stain (t\\u00e2cher)\", \"phenomenal (ph\\u00e9nom\\u00e9nal)\", \"insult (injure)\", \"nail (clou)\", \"Italian (italien)\", \"Assembly (assembl\\u00e9e)\", \"experimental (exp\\u00e9rimental)\", \"tighten (resserrer)\", \"pile up (amonceler)\", \"dust (poussi\\u00e8re)\", \"fell back (retomb\\u00e2t)\", \"washer (laveur)\", \"humbug (fumisterie)\", \"reading (lecteue)\", \"mocking (railleur)\", \"droplet (gouttelette)\", \"complacent (complaisant)\", \"crown (couron)\", \"roughen (d\\u00e9polir)\", \"anomaly (anomalie)\", \"to specify (pr\\u00e9ciser)\", \"breathable (respirant)\", \"harp (harpe)\", \"years (ans)\", \"paperwork (paperassi\\u00e8re)\", \"appropriation (appropriation)\", \"stacked (empila)\", \"municipality (municipalit\\u00e9)\", \"dismiss (d\\u00e9bouter)\", \"beloutchi (beloutchi)\", \"young lady (demoisell)\", \"guinea fowl (pintade)\", \"adopted (adopte)\", \"fairyland (f\\u00e9erie)\", \"diamond (diamant\\u00e9)\", \"cultivated (cultiv\\u00e9)\", \"immigration (immigration)\", \"pedestrian (pi\\u00e9ton)\", \"transparency (transparence)\", \"courtesy (courtoisie)\", \"salutary (salutaire)\", \"probably (probably)\", \"inflated (gonfl\\u00e9)\", \"participates (participe)\", \"balloonist (a\\u00e9rostier)\", \"teach (enseigner)\", \"arquebus (arquebuse)\", \"boiling (\\u00e9bullition)\", \"stripe (rayure)\", \"ellipse (ellipse)\", \"tolerate (tol\\u00e9rer)\", \"to improve (am\\u00e9liorer)\", \"banker (banquier)\", \"pencil (crayon)\", \"battered (battue)\", \"thief (volateur)\", \"shawl (ch\\u00e2le)\", \"example (exemple)\", \"work (ouvrage)\", \"accumulate (accumuler)\", \"sedentary (s\\u00e9dentaire)\", \"brahmaputra (brahmapoutre)\", \"assumed (supposai)\", \"expel (expulser)\", \"classic (classique)\", \"princely (princier)\", \"synthesis (synthesise)\", \"exploitable (exploitable)\", \"failing (d\\u00e9faillant)\", \"perforated (perc\\u00e9)\", \"notes (constate)\", \"certify (certifier)\", \"recruitment (recrutement)\", \"totally (totalement)\", \"irascible (irascible)\", \"cubic (cuber)\", \"Spicy (piquant)\", \"larch (m\\u00e9l\\u00e8ze)\", \"handlebar (guidon)\", \"field mouse (mulot)\", \"learned (apprit)\", \"immoral (immoral)\", \"casting (coulage)\", \"eater (mangeur)\", \"embarrassed (embarrasse)\", \"vertebrate (vert\\u00e8bre)\", \"amaze (stup\\u00e9fier)\", \"alienation (ali\\u00e9nation)\", \"convulsion (convulsion)\", \"dissect (diss\\u00e9quer)\", \"lose again (reperdre)\", \"comb (peigner)\", \"traced (trac\\u00e9e)\", \"embroider (broder)\", \"tomb (tombeau)\", \"bandaged (band\\u00e8rent)\", \"tools (outillage)\", \"arabic (arabic)\", \"would wrap (envelopperait)\", \"experimental (exp\\u00e9rimental)\", \"bones (ossement)\", \"magnificence (magnificence)\", \"embouch (emboucher)\", \"to amuse (amuser)\", \"index (indice)\", \"cataclysm (cataclysme)\", \"bet (pari)\", \"bread (pain)\", \"witness (t\\u00e9moin)\", \"synthesis (synthesise)\", \"lace (lacet)\", \"silversmith (orf\\u00e8vrerie)\", \"pore (pore)\", \"Rouen (rouennais)\", \"fullness (pl\\u00e9nitude)\", \"burst (irruption)\", \"physiognomist (physionomiste)\", \"Celtic (celtique)\", \"infiltrate (infiltrer)\", \"fatalism (fatalisme)\", \"frolic (\\u00e9battaient)\", \"wallowed (vautraient)\", \"Jovian (jovien)\", \"ardan (ardan)\", \"suck (t\\u00e9ter)\", \"keep (tiendrion)\", \"fortune (fortun\\u00e9)\", \"soup (potage)\", \"down (duvet)\", \"expensive (dispendieux)\", \"effigy (effigie)\", \"triumphantly (triomphalement)\", \"Dark blond (ch\\u00e2tain)\", \"independence (independance)\", \"will grow (grandira)\", \"roughen (d\\u00e9polir)\", \"pome (pom\\u00e8)\", \"cutter (cotre)\", \"get away (d\\u00e9guerpir)\", \"libya (libyqu)\", \"weaken (faiblir)\", \"thirteenth (treizi\\u00e8me)\", \"killed (tuilla)\", \"dune (dune)\", \"hit (frappait)\", \"massacre (massacr\\u00e9)\", \"pretended (pr\\u00e9tendu)\", \"set ablaze (embraser)\", \"wet (mouiller)\", \"require (n\\u00e9cessiter)\", \"weeping (pleureur)\", \"familiar (tutoyer)\", \"uncertainty (incertitude)\", \"thirties (trentaine)\", \"downpour (averse)\", \"cobblestone (pav\\u00e9)\", \"counter (comptoir)\", \"franchise (franchise)\", \"centigrade (centigrade)\", \"demonstration (manifestation)\", \"troop (troupe)\", \"hail (h\\u00e9ler)\", \"successor (successeur)\", \"November (novembre)\", \"mistress (ma\\u00eetresse)\", \"halt (halte)\", \"estimable (estimable)\", \"to reiterate (r\\u00e9it\\u00e9rer)\", \"incombustible (incombustible)\", \"never will (neva)\", \"dolmen (dolmen)\", \"mandarin (mandaraine)\", \"speculate (supputer)\", \"cambric (batiste)\", \"will employ (emploieron)\", \"charter (affr\\u00e9ter)\", \"devotion (d\\u00e9votion)\", \"steamboat (steamboat)\", \"punctuality (ponctualit\\u00e9)\", \"presumptuous (outrecuidant)\", \"crestfallen (d\\u00e9confit)\", \"leave (conger)\", \"learned (apprit)\", \"joking (plaisanteri)\", \"camellia (cam\\u00e9lia)\", \"embracing (embrassement)\", \"forced out (expuls\\u00e9)\", \"vegetarian (v\\u00e9g\\u00e9tarien)\", \"fief (fief)\", \"extraction (extraction)\", \"wheel (rouer)\", \"Spicy (piquant)\", \"edging (taillanderie)\", \"ablaze (embras\\u00e9e)\", \"cicerone (cic\\u00e9rone)\", \"Strangler (\\u00e9trangleur)\", \"traced (trac\\u00e9e)\", \"tissue (tissue)\", \"semaphore (s\\u00e9maphore)\", \"mylord (mylord)\", \"sinuous (sinueu)\", \"impatiently (impatiemment)\", \"flour mill (minoterie)\", \"cotton plant (cotonnier)\", \"variation (variation)\", \"silently (silencieusement)\", \"grenelle (grenelle)\", \"rig (gr\\u00e9er)\", \"civilization (civilisation)\", \"floridian (floridien)\", \"cash in (encaisser)\", \"to negotiate (n\\u00e9gocier)\", \"ice (glace)\", \"spinning (filant)\", \"love (amour)\", \"doctor (docteur)\", \"commanding officer (commandant)\", \"kilometer (kilom\\u00e8tre)\", \"reminded (rappel\\u00e2t)\", \"smelly (f\\u00e9tu)\", \"Safe (sauve)\", \"dictates (dicte)\", \"insufficiency (insuffisance)\", \"dusk (cr\\u00e9puscule)\", \"carried (porta)\", \"taste (d\\u00e9guster)\", \"harass (harasser)\", \"arbitrary (arbitraire)\", \"cheyenne (cheyenne)\", \"important (importante)\", \"animalize (animaliser)\", \"bare (d\\u00e9nud\\u00e9)\", \"skeleton (squelett)\", \"collector (collectionneur)\", \"exile (exil)\", \"insertion (insertion)\", \"probed (sonda)\", \"tenuous (tenu)\", \"detour (d\\u00e9triplent)\", \"lashing (cingleur)\", \"agreement (entente)\", \"detached (d\\u00e9tach\\u00e9)\", \"crowding (entassement)\", \"drunken (bourrel\\u00e9e)\", \"locality (localit\\u00e9)\", \"hairstyle (coiffa)\", \"in parallel (parall\\u00e8lement)\", \"to entangle (emp\\u00eatrer)\", \"cultivated (cultiv\\u00e9)\", \"cruelly (cruellement)\", \"sucks (aspire)\", \"bewegter (bewegter)\", \"pier (pier)\", \"relief (relief)\", \"beaten down (abattu)\", \"cracked (toqu\\u00e9)\", \"mocking (goguenard)\", \"mold (mouler)\", \"well done (bienfait)\", \"poultry (volaille)\", \"nervous (nerveux)\", \"unusual (inusit\\u00e9)\", \"sausage (saucisson)\", \"supplied (supplied)\", \"procedure (proc\\u00e9dure)\", \"unicode (unicode)\", \"transplant (repiquer)\", \"contiguous (contigu\\u00ebs)\", \"stock Exchange (bourse)\", \"bald (chauve)\", \"caprice (caprice)\", \"to jail (emprisonner)\", \"incessantly (incessamment)\", \"certainly (assur\\u00e9ment)\", \"annihilate (an\\u00e9antir)\", \"bench (banquette)\"], \"Freq\": [653.0, 243.0, 270.0, 103.0, 103.0, 139.0, 198.0, 136.0, 197.0, 104.0, 150.0, 171.0, 47.0, 88.0, 115.0, 48.0, 46.0, 98.0, 110.0, 61.0, 83.0, 65.0, 92.0, 54.0, 43.0, 46.0, 48.0, 94.0, 45.0, 71.0, 649.9562934084352, 20.03190215816926, 6.48343521857139, 2.759442015109422, 46.905893053590596, 10.119528976214903, 3.1043911212702606, 4.6077492541563965, 1.6252765542926781, 2.8655881726163845, 10.53861169216919, 11.134275200770523, 24.446839724018187, 11.148405673729325, 10.156527103755582, 2.973552681727348, 2.7533158841419096, 9.080078960541886, 7.425285309867332, 6.5611046620965, 3.9580567345423745, 3.740662379703171, 2.8741342529603644, 4.238729535193882, 2.303910607387007, 2.735648555819782, 9.142642337664084, 5.525360955911521, 1.9899681236529456, 10.847393961447388, 98.24987156201527, 97.52063046874954, 16.238448900391035, 8.280167178290613, 10.315867697586617, 28.033204207378034, 23.65100206334873, 10.280909013819498, 18.07380663697174, 16.301758193589844, 15.648571433303463, 55.41770928784617, 41.83289487019347, 25.24588505222686, 21.803189132077218, 162.49948333923862, 27.958096607343027, 33.453555261969996, 19.84112920514363, 24.522829751249365, 100.26326462938188, 38.7663821933548, 36.176971057657894, 28.862980245950308, 40.70527583830414, 35.57029514919079, 57.06474038876415, 36.981379359282876, 62.3018399694738, 74.4506919703336, 41.70662224752675, 110.86424651753993, 32.483427769826136, 32.77445618606123, 64.09829523272401, 36.96950782799287, 47.319680054956216, 38.82281172333132, 28.989612768990032, 31.809133315167617, 35.46936353568142, 36.222323760953635, 29.901695244824605, 30.882826955358812, 30.723262496782002, 104.4639212879234, 241.69859488975885, 36.49937081266169, 36.69720137356124, 15.979539252071215, 8.035510191028745, 18.72226499228745, 11.614548180839623, 5.862471409287931, 5.439294869145316, 5.429102157040396, 11.323632740775084, 13.622565268672885, 24.134792644191652, 8.01604246023096, 8.003124642621298, 12.427059757008028, 5.519923353228057, 10.652771234602893, 8.069123493353269, 3.6962489714487075, 4.225000994426908, 18.689261642034833, 18.73560116873872, 8.227029175449077, 5.50501266506312, 14.371548065028596, 13.6879851607411, 7.243024219282323, 12.025210389542242, 35.66879490121701, 44.57836292908697, 15.944711580968345, 50.818250256592634, 16.862548024939933, 137.25518864464536, 9.90128830970267, 86.79338215038385, 33.80308969351921, 62.572527818632324, 11.612792027287767, 9.94094610959689, 38.14686326813594, 19.613555235057305, 40.99418115452311, 18.871490699223028, 54.895811185181536, 79.79612074023304, 124.88401417295687, 47.05686378135744, 45.727485588445944, 21.31585511271916, 29.500943806143553, 39.843167853528264, 43.49909226748331, 37.59406564188774, 61.99511087953912, 35.243125995300616, 36.4960592321027, 56.21174914769925, 32.78862933072404, 35.68365787907209, 35.58541506393411, 39.022493123660496, 35.77977206691946, 35.64973703561483, 34.601638920000156, 269.6640348317522, 25.43526543416249, 45.11847643829246, 21.4581499240451, 11.480962844361228, 8.429828632207371, 12.59137314327222, 19.024153077454436, 16.443059405798028, 4.134032654128993, 68.0636791499131, 5.880383507602865, 1.931838537046449, 9.207210808734608, 1.4595021562663968, 2.691670135079375, 1.8730436970283446, 3.326197795212933, 2.1014023604120027, 18.033136414903232, 3.149967914728011, 1.8716708053529931, 86.34207009731466, 8.4625708698022, 4.273691411789246, 7.431397803933994, 0.9978249850160119, 3.3937322945199884, 4.222860377476396, 2.979918458613517, 18.94168327317994, 23.010182435400115, 9.033300582226827, 29.51031936732154, 15.671997607455637, 8.226910694114869, 17.45424210998195, 13.557181486067995, 39.422547994918915, 8.205444583517323, 44.31054493618545, 11.101301685036853, 30.286885486717512, 47.298032722601576, 28.107051567933045, 38.576163540565396, 106.6804556724413, 21.553106063881078, 34.5180805628549, 45.10510165328923, 17.396320028783553, 24.61332546029, 15.79243965414603, 17.56460248929026, 24.612533234479628, 33.316792130942346, 27.0987609239067, 61.73394710759103, 21.480133838186127, 28.252577333032995, 20.524086928522127, 25.456740918285764, 40.16941326113062, 24.76901695140717, 24.710646280212032, 22.144552513277834, 10.679875368705726, 6.8319211910188296, 3.563167178782642, 5.220005597151382, 3.6081601480859913, 12.843260554722331, 4.776123226969101, 2.03433946539412, 1.2889331378709077, 1.2241598344387714, 0.8527538499795484, 5.37480229602794, 2.598003189683479, 3.9501305022160684, 1.2314297333465178, 1.2299470886939712, 3.9422082617721275, 1.2447851409504112, 2.193891039186493, 0.5259307320605334, 1.2744373845361192, 1.6377425762335722, 0.7100811030188923, 0.8705537258116133, 2.0400061096012627, 1.1774738239910678, 0.7930133549412158, 0.8963267616977253, 1.2891443308089483, 1.5818201070708715, 1.6185141691089573, 5.916522041592003, 10.148228715228965, 4.334262056559937, 2.88252606065384, 4.051942452206313, 2.795929467551122, 4.34511608007415, 3.968233517851715, 3.5209547010469597, 4.749039753531868, 3.9342868630083125, 6.3577449451642405, 2.3546817427679816, 3.183957255772004, 3.9215149870905432, 2.9048763723121844, 2.8954197490060376, 2.84283336334279, 2.5375223402796987, 2.761622828512969, 3.874751964599206, 1.0373455967849543, 1.0745483217656049, 0.6196082727321501, 0.6361352664600991, 0.5886902430276402, 0.48180910778341723, 0.425137444998804, 0.4196136069552403, 0.6207017524809053, 0.4312686740434149, 0.42193529354974807, 0.40706894397234744, 0.542025269135593, 1.1016562660764286, 0.35354577251422376, 0.39403670381866573, 0.5171608019090369, 0.6884013983985064, 0.23418364935650296, 0.2592109280088767, 0.34857095548543543, 0.22951894067929896, 0.824461992884578, 0.4169352966360871, 0.43632559598689374, 0.6976863120603056, 0.41057300745371, 0.3116077666161009, 0.29044052713860685, 0.7145330545793181, 0.6818552203661135, 0.4173363668681128, 0.7368502037974086, 1.0437139540020246, 1.4442865990004545, 3.0772275766130455, 0.8349072732166041, 0.8290411929314926, 1.5333157545691987, 0.8187290641259648, 1.0247730020096981, 1.4308698117189074, 0.8293492850440171, 1.2252557178373018, 0.850103128380006, 1.457916427837382, 1.2503761054916378, 1.0236570659654594, 0.7050313602226131, 0.834746471028162, 0.8720280676308299, 0.683946742486885, 0.6662013444866474, 7.94935409121958e-05, 7.580862206698496e-05, 6.720735029857473e-05, 9.691346174446856e-05, 6.835458815785261e-05, 7.171292066374653e-05, 7.457638677843339e-05, 5.6996739359391325e-05, 8.83306532570285e-05, 6.501538033145746e-05, 7.069573784894057e-05, 6.150814070654488e-05, 7.489948218120846e-05, 0.00010008444038441813, 0.00012014419111339179, 6.69785629477187e-05, 5.6073455445761485e-05, 6.121665134752337e-05, 5.781940506961421e-05, 6.680421919123493e-05, 5.921481509577431e-05, 5.4707179880035505e-05, 6.585503496445941e-05, 8.235866122950661e-05, 6.4004486272206e-05, 8.029395843261584e-05, 5.9115422320435376e-05, 6.398252327524185e-05, 7.399969866312145e-05, 8.81420531931567e-05, 8.706015693553642e-05, 6.503756370377893e-05, 9.803186739089256e-05, 7.402058769814008e-05, 8.060447108391568e-05, 0.0001006253866935059, 7.636782510852818e-05, 7.945781491745744e-05, 7.937755723126416e-05, 0.0001283369292819545, 7.241276040207808e-05, 8.658076219189944e-05, 9.37977354023128e-05, 8.981032712662318e-05, 7.687333880513085e-05, 7.812607439458883e-05, 7.532377532019372e-05, 8.354456807074333e-05, 8.446698136727133e-05, 7.836286120990883e-05, 7.76733673828238e-05, 7.72100389542709e-05, 7.975241262766899e-05, 7.810132255059309e-05, 7.59558478454575e-05, 6.981979932373287e-05, 4.87151048070911e-05, 6.728143925187998e-05, 4.0341792881123915e-05, 4.155305234531989e-05, 4.4992606749345705e-05, 4.100644575777928e-05, 3.960686111643919e-05, 3.7932332209090595e-05, 3.987745224887039e-05, 3.572335319010609e-05, 3.5731997525194784e-05, 3.066984665257946e-05, 3.403522641624568e-05, 2.8884688809892306e-05, 2.8318729449494743e-05, 3.6027964938216216e-05, 3.3060822271218554e-05, 2.7840377627895694e-05, 3.9140103882400445e-05, 3.5763766019505005e-05, 3.548871983338161e-05, 3.073339767458464e-05, 3.025745540676465e-05, 3.1941711005952124e-05, 3.4612596883182474e-05, 2.7141811349929417e-05, 2.7787464538722715e-05, 3.2668725818888946e-05, 3.498085834303895e-05, 4.341038516932818e-05, 4.313943403588121e-05, 4.824569197577068e-05, 3.346602347996582e-05, 3.2806731210786314e-05, 4.196941832746943e-05, 3.958600658095988e-05, 5.096799841658131e-05, 3.869984478434531e-05, 4.01729988911708e-05, 3.769333831423578e-05, 4.858083500289303e-05, 4.948801448028047e-05, 4.406713554480447e-05, 4.284421632317048e-05, 3.9219841531816784e-05, 5.172744683401952e-05, 4.338688694017707e-05, 3.896546742204604e-05, 3.817656302064617e-05, 4.013524921469137e-05, 4.329315008050594e-05, 4.040049249284577e-05, 4.428460203487382e-05, 3.888870898917807e-05, 3.1832339492716684e-05, 3.017313865664869e-05, 2.8415163696280474e-05, 2.014874350320501e-05, 1.4992029001652157e-05, 1.8768021516210272e-05, 2.206969891598787e-05, 2.0439210231148945e-05, 1.6584591765294064e-05, 1.6021498672247682e-05, 1.575976156115086e-05, 2.160285254022351e-05, 2.164251006354146e-05, 1.746832195802429e-05, 1.596575155631157e-05, 1.2551253018426129e-05, 1.9536679886364395e-05, 1.4813372931553091e-05, 2.050115210351875e-05, 1.642207384292511e-05, 2.40351566936166e-05, 1.6313479981122293e-05, 1.5528307037322343e-05, 1.948373474912768e-05, 1.299620530001516e-05, 1.952128259156547e-05, 1.2456440050449077e-05, 1.5398125535606206e-05, 1.3777563059278304e-05, 1.7305600708330407e-05, 1.7577957536252977e-05, 2.84779134770764e-05, 2.108250634380286e-05, 2.161101610974709e-05, 2.1566315544936005e-05, 2.2277181223121948e-05, 1.733794986814899e-05, 2.6803364343459093e-05, 2.1495710916604048e-05, 2.5073526571780386e-05, 1.9561229725385515e-05, 2.0210666337512018e-05, 1.9956288316750953e-05, 1.9913170763855754e-05, 2.0770193937876374e-05, 1.878111172631965e-05, 1.919520188287371e-05, 2.149925520719909e-05, 2.062919913714694e-05, 1.9098022670836443e-05, 1.0233040389632643e-05, 1.2033177296912764e-05, 1.6570424013128962e-05, 1.3152699392210391e-05, 8.571307882416049e-06, 1.3526544327644286e-05, 1.0246162548241223e-05, 8.552528263643933e-06, 1.1705852866997315e-05, 7.803247446044059e-06, 7.971230633296392e-06, 9.996330520267475e-06, 8.850188999146208e-06, 1.0341000946884255e-05, 9.020146066882065e-06, 8.689731348175077e-06, 9.003237234287008e-06, 6.244098947253686e-06, 7.716482687612856e-06, 6.865559847535456e-06, 8.941986483616565e-06, 7.977963326980028e-06, 8.798245702809662e-06, 6.784500017666484e-06, 6.749830785702881e-06, 1.2967322323035939e-05, 7.016037924727157e-06, 8.003511751619055e-06, 8.06977873699382e-06, 9.41316057823941e-06, 8.633928825478351e-06, 8.236120576992335e-06, 9.780596245385689e-06, 1.3563996961381214e-05, 8.88552794497857e-06, 1.2159704760037931e-05, 9.474938416446038e-06, 1.4087530537211913e-05, 1.2090494051497398e-05, 1.1103185114234266e-05, 1.1160982523745894e-05, 9.782157255917171e-06, 1.0893109266766864e-05, 1.4381800381272928e-05, 1.0512597159842612e-05, 1.1691808620889342e-05, 1.1088409624650656e-05, 1.0118939674716204e-05, 1.1785917172149158e-05, 1.0359295426024007e-05, 9.748174784911288e-06, 9.414550703391695e-06, 9.799181947174504e-06, 9.810744303428255e-06, 6.569387077573805e-06, 6.746323023877738e-06, 6.606257872383534e-06, 6.279589064134563e-06, 7.740884431185607e-06, 6.566842728022569e-06, 4.858273523614935e-06, 4.18936919951582e-06, 4.38398058103976e-06, 6.535667903707169e-06, 5.7821435489509724e-06, 4.158045593465101e-06, 5.090706399170364e-06, 4.43581660314275e-06, 3.431584954799913e-06, 3.827828475418155e-06, 3.4456942161293924e-06, 4.818633206932237e-06, 4.268476165383672e-06, 4.029010569490641e-06, 4.8769810480572754e-06, 4.244997559334067e-06, 4.498518515300285e-06, 3.8939939911373636e-06, 3.87652881558344e-06, 4.604066720804531e-06, 3.758618730504482e-06, 4.172469047988982e-06, 4.721743859528943e-06, 3.1241592903127902e-06, 3.690308574869794e-06, 4.131821180074814e-06, 4.108464205742804e-06, 4.42097468142406e-06, 6.191574668418174e-06, 4.797475555036269e-06, 5.0075859087963925e-06, 5.5353945519826495e-06, 5.8040782761667465e-06, 6.867060070558619e-06, 4.766505605016372e-06, 4.684589438077009e-06, 7.12312928286558e-06, 5.3275134762887895e-06, 6.722084421440402e-06, 7.037641334762106e-06, 4.864628002007601e-06, 5.352061193888671e-06, 4.650635226248072e-06, 4.963597165486961e-06, 4.907391019965094e-06, 4.8013668278271035e-06, 5.219966320905226e-06, 4.966098349062496e-06, 2.2414222242239695e-06, 2.513213663796643e-06, 2.5900535247596432e-06, 2.073300205742832e-06, 1.93619410165778e-06, 2.3768642878043215e-06, 2.869971535708572e-06, 2.893748665481708e-06, 1.8552286456378597e-06, 1.770166887971931e-06, 2.396183848700212e-06, 2.706689474875982e-06, 2.576819016406069e-06, 1.920049457237963e-06, 1.921687407618613e-06, 1.9989570862526706e-06, 2.340676874894143e-06, 1.6956086466521554e-06, 1.7715902310406971e-06, 1.954654464316622e-06, 1.9673058252186442e-06, 2.5087785571292505e-06, 2.0780013228497847e-06, 1.7899780179632647e-06, 1.8429519468471097e-06, 2.2561634369593203e-06, 1.9457581722600077e-06, 1.476152152240199e-06, 1.8046700683108546e-06, 2.0157585778808895e-06, 2.4318077626726493e-06, 2.552002888572754e-06, 3.2697238155177297e-06, 2.22239572874851e-06, 2.34776921711091e-06, 2.6188170054226495e-06, 2.771264127154568e-06, 2.3779001791480512e-06, 2.3676807743764495e-06, 2.138538497541461e-06, 2.3712792299289643e-06, 2.5741236841593163e-06, 2.5994634314669107e-06, 2.3651100284197904e-06, 2.596470327013384e-06, 3.192671046914783e-06, 2.5778302117506267e-06, 3.0103950715365636e-06, 2.469219498021921e-06, 2.3997470173517324e-06, 2.437609034464493e-06, 2.4962368575518226e-06, 2.4634397726462165e-06, 2.437546779891621e-06, 2.408699512967707e-06, 1.5002497717111418e-06, 1.1440249573464653e-06, 1.6249896412265941e-06, 1.3777542063294442e-06, 1.1160246087752495e-06, 1.2121149702620528e-06, 1.6337463687948784e-06, 9.637073246697668e-07, 1.0399382550676404e-06, 1.143964320950673e-06, 1.815447785366306e-06, 8.126958089076757e-07, 8.803129359858983e-07, 1.4932358306221107e-06, 9.473203355283234e-07, 1.4843067818292273e-06, 1.1221241544593339e-06, 9.915863064042901e-07, 1.1127184792514184e-06, 1.3788945197250868e-06, 9.785410408139659e-07, 9.079431116110163e-07, 1.038576005983747e-06, 1.4666801679087082e-06, 1.0649896294921593e-06, 8.917587675985881e-07, 7.688013456422475e-07, 1.0893730315471416e-06, 1.0761046133196707e-06, 8.882203204139269e-07, 1.1331067401543939e-06, 1.1343038265030662e-06, 1.1115362290678572e-06, 1.2817244024318682e-06, 1.304444192731184e-06, 1.0572496255121103e-06, 1.4225474291597393e-06, 1.469432689719526e-06, 1.5883896297555215e-06, 1.0879014714734596e-06, 1.2332816914841675e-06, 1.307347145609404e-06, 1.2038201344762625e-06, 1.2749988692530035e-06, 1.2613002818725222e-06, 1.2832065716293873e-06, 1.2620586915959088e-06, 1.3053776659550214e-06, 1.1496788840274124e-06, 1.1757965317968588e-06, 1.1573912328021873e-06, 1.2370920077096293e-06, 1.1611956132780765e-06, 1.180163850785095e-06, 1.155314016381585e-06, 9.037329029852119e-07, 7.948911586481435e-07, 6.025254249251309e-07, 8.074316180633817e-07, 5.960753442099202e-07, 5.934272804540799e-07, 5.234224243926732e-07, 5.776300398459395e-07, 6.369295382733341e-07, 5.964577413915954e-07, 5.67512539434497e-07, 4.620290979347554e-07, 1.0001659421334285e-06, 4.620310600487238e-07, 5.743873235009173e-07, 4.761409959666093e-07, 5.264775772420396e-07, 5.837330067614818e-07, 6.556259839409504e-07, 4.972711163674827e-07, 5.12579788615703e-07, 5.645560140559276e-07, 4.526176423394037e-07, 4.2654136636552313e-07, 5.266325334633519e-07, 6.822373115352894e-07, 4.433701169952328e-07, 5.596225959750641e-07, 5.714222123636175e-07, 5.432762969019461e-07, 7.636905061463859e-07, 6.727572687938506e-07, 8.177388645421031e-07, 7.869173268385719e-07, 6.563404488592585e-07, 5.840826779220428e-07, 8.435563634403482e-07, 9.968916202412664e-07, 6.759483046672532e-07, 9.2412710053435e-07, 6.662430830417098e-07, 6.959920975718574e-07, 8.049945126049537e-07, 6.364185781197505e-07, 6.559844867530013e-07, 6.281286382756929e-07, 6.485636497261627e-07, 6.08159667441023e-07, 5.960643246398549e-07, 6.104518535091633e-07, 6.059694676361408e-07, 3.454623818767219e-07, 5.88441658628692e-07, 3.087048720399421e-07, 3.3116354759370213e-07, 3.2301621869979663e-07, 2.449119475964726e-07, 2.5632002398241304e-07, 2.694989639209504e-07, 2.5287152334334224e-07, 2.142583294912421e-07, 3.8804697463775484e-07, 3.1416447372275715e-07, 3.010092127769374e-07, 3.809257372730349e-07, 2.851327265605998e-07, 2.5221186348894494e-07, 2.1411245324021593e-07, 2.5377426128071384e-07, 2.8320397887811707e-07, 2.639373785213373e-07, 2.1701460496639525e-07, 3.033492616909934e-07, 3.8420300270380015e-07, 2.1870566084959214e-07, 1.967143321932254e-07, 2.3719335536862984e-07, 2.6366644097701125e-07, 2.246888907936093e-07, 2.1501910053688029e-07, 2.3162905032507858e-07, 3.192731510121097e-07, 2.9701409473746004e-07, 3.158107728318427e-07, 2.71088141087574e-07, 3.5414295626330495e-07, 3.8318774320736123e-07, 4.1536510652701964e-07, 3.484424159675974e-07, 2.7035643310455327e-07, 3.0198422485967463e-07, 3.014633613456782e-07, 2.931134323085575e-07, 3.215329998396264e-07, 3.0009351777870696e-07, 3.176530064522045e-07, 3.0349802260910775e-07, 2.9443571195352075e-07, 3.93058289197204e-07, 3.3942464979330303e-07, 3.1645382497033003e-07, 3.1731819959644467e-07, 3.082388369844893e-07, 3.0274157367607926e-07, 3.0347060762677196e-07, 2.1551169742434955e-07, 1.624171881769708e-07, 1.7935590594010472e-07, 1.813799649838674e-07, 1.1729686868746363e-07, 1.3318285528975235e-07, 1.498593755389237e-07, 1.2801776085464958e-07, 1.4753265689664597e-07, 1.2557359367450633e-07, 1.1386126121186733e-07, 1.4096539884198046e-07, 1.2455169416308806e-07, 1.479746339184174e-07, 1.2366828460355371e-07, 1.1683187129600499e-07, 3.064643780756042e-07, 1.5462731283526024e-07, 1.0473491650324028e-07, 1.0840606785027664e-07, 1.279618733806053e-07, 1.4951661862291988e-07, 1.2124400640947824e-07, 1.5299840058984238e-07, 1.0983375031803854e-07, 1.3231828153867687e-07, 1.3181238590343775e-07, 2.1033128276672046e-07, 1.0795385176257977e-07, 1.1836035036158151e-07, 1.3360747059813123e-07, 1.4678558296857333e-07, 1.568693482482006e-07, 1.6131804092363268e-07, 1.632286865796655e-07, 1.7523408516372052e-07, 1.5996063424713638e-07, 1.5760956529397613e-07, 1.6048229989923712e-07, 1.806027130958016e-07, 1.7507281689675793e-07, 1.4257836087082582e-07, 1.762147165445015e-07, 2.1433777163904394e-07, 1.847770773890728e-07, 1.5757100214553774e-07, 1.7944214422095833e-07, 1.6452370623387553e-07, 1.653381765893057e-07, 1.9928095393261868e-07, 1.5013236470731193e-07, 1.542634532662674e-07, 1.5442489968245358e-07, 1.5381765069145455e-07, 8.361471851425041e-08, 1.084090292339812e-07, 9.207802961212503e-08, 8.616993614106408e-08, 1.0112809689498979e-07, 7.642915943807801e-08, 6.964207954689174e-08, 7.189484446237754e-08, 9.330489404604206e-08, 8.962000069791624e-08, 6.286486079720726e-08, 8.596040980090185e-08, 7.783429550170534e-08, 7.456881564786793e-08, 6.450524020625214e-08, 9.747208640342094e-08, 7.266915838804659e-08, 7.15017748969347e-08, 7.618569762124608e-08, 6.902436372931914e-08, 7.068955807452585e-08, 6.407314827871437e-08, 5.268020646630592e-08, 6.35585717320055e-08, 4.67236724969961e-08, 6.103207747739906e-08, 7.560415956552971e-08, 5.898020283481443e-08, 6.422985263800247e-08, 5.7227215156285095e-08, 6.586647981328975e-08, 8.236489909281094e-08, 8.986588314755475e-08, 8.379258452608236e-08, 8.648836394474824e-08, 1.0461567013633523e-07, 9.732528567938526e-08, 8.794179934746167e-08, 6.810781114631832e-08, 1.0692665554257349e-07, 9.099383945219165e-08, 7.212772176171853e-08, 8.598321266047966e-08, 7.735557640228179e-08, 7.460330570378389e-08, 7.362121294892428e-08, 7.428302976632204e-08, 7.910303504044025e-08, 7.53968255450838e-08, 7.376729603826065e-08, 4.1396461098069495e-08, 3.986208611561864e-08, 5.104168405271158e-08, 4.1311747729798e-08, 3.774318201707716e-08, 3.291793015211289e-08, 3.182508582903858e-08, 3.960479025959221e-08, 3.634991208293041e-08, 2.972574637736612e-08, 3.3305585132152026e-08, 3.109615109680417e-08, 3.913136789411282e-08, 2.5757362565468045e-08, 3.444459087182777e-08, 4.2259790842535985e-08, 2.4021583795349665e-08, 3.4401628265619156e-08, 3.8250141572928364e-08, 4.0830115273881925e-08, 2.863907087932761e-08, 3.064969150705236e-08, 3.075066620149527e-08, 4.2610852725996865e-08, 2.8440119734599885e-08, 5.018056294756716e-08, 4.746301485962018e-08, 2.9224237950336768e-08, 3.3047873484437315e-08, 3.394212441504617e-08, 3.9078047736065556e-08, 3.146113773870358e-08, 3.4350059513815674e-08, 3.50982077320805e-08, 4.607022282114619e-08, 3.6027215249032016e-08, 4.047454502707432e-08, 3.480749611104885e-08, 3.2687750163929854e-08, 3.656041466318394e-08, 4.1288602474591024e-08, 3.6416514392664885e-08, 3.623280170518678e-08, 3.559912175561041e-08, 3.6722137497231855e-08, 3.517987423816013e-08, 3.788503552607199e-08, 3.5496219921090285e-08, 3.5607801331240125e-08, 2.4060981348052538e-08, 1.8827403056280555e-08, 1.494270294928485e-08, 1.7422335490584135e-08, 1.69707581477111e-08, 1.676206545663905e-08, 2.803386345499985e-08, 1.4397948107617692e-08, 1.9790509110018083e-08, 1.4920864779359023e-08, 1.691401267072387e-08, 2.143444103855049e-08, 2.3510520879003058e-08, 1.8981712600806774e-08, 1.482175929897003e-08, 1.6855412610856197e-08, 1.8671156992109325e-08, 1.5441675052196184e-08, 1.7781293036766868e-08, 1.3918083252623928e-08, 1.5448830327381037e-08, 1.209976399424562e-08, 2.063512662761053e-08, 1.2855187258252894e-08, 1.2386281896634644e-08, 1.5013817765208743e-08, 1.816563915779004e-08, 2.0938718670163103e-08, 1.5216586085332693e-08, 1.3361898585723183e-08, 1.81052260071322e-08, 2.4048957141030137e-08, 2.8462652359248957e-08, 1.8295020150033016e-08, 2.0563622249167377e-08, 1.8848759351588317e-08, 2.2304497163483257e-08, 1.915477203607472e-08, 1.9773720277795783e-08, 4.064123501483176e-08, 2.1722829445661555e-08, 1.718766093723298e-08, 2.1297765793700703e-08, 1.9873493392647443e-08, 2.7583437243905165e-08, 2.2139522652618813e-08, 2.1641252773853194e-08, 2.3400124887294727e-08, 2.052834065566296e-08, 2.303509028380189e-08, 2.047807741589087e-08, 2.668458035515964e-08, 1.8888325704309455e-08, 1.966410535390503e-08, 2.021555990155599e-08, 1.8960165132428508e-08, 1.8992742068645986e-08, 9.488684317065307e-09, 1.2826939760654096e-08, 9.82962704161406e-09, 1.0266478167395979e-08, 9.51745839552104e-09, 9.813384913113013e-09, 7.323588952266922e-09, 1.0377071280749714e-08, 9.601589613545477e-09, 8.676094047158612e-09, 8.062661315563021e-09, 7.572472814707425e-09, 7.781916310188916e-09, 8.213993139622455e-09, 1.0240265017862366e-08, 8.832640921975784e-09, 7.184767630750148e-09, 7.492451202275149e-09, 6.204473449189703e-09, 8.281562299864356e-09, 7.617599207685704e-09, 8.358318212772186e-09, 6.2403701776053394e-09, 7.09235428550891e-09, 9.8848591185838e-09, 5.0499244874165774e-09, 9.01322574568855e-09, 6.2420169976130225e-09, 9.68745174798953e-09, 7.110157093958477e-09, 9.171154659557215e-09, 8.70767035849347e-09, 7.943028195228658e-09, 1.2532540660929358e-08, 9.67454745290025e-09, 1.13299962599062e-08, 9.335990683899029e-09, 1.2736724084297867e-08, 1.2748105072660212e-08, 1.2748198179447465e-08, 9.210697189156104e-09, 9.046893148982869e-09, 1.2160399196730093e-08, 1.128555366323861e-08, 9.445239658302078e-09, 9.021394934686843e-09, 1.0310460320268778e-08, 9.121345837211265e-09, 9.662683816362551e-09, 1.0321794276937823e-08, 9.281136915542745e-09, 9.101642480421462e-09, 1.1310706734828958e-08, 1.121053424855621e-08, 1.0347806276853014e-08, 1.1951070170565335e-08, 1.0353992899593097e-08, 1.1912577448614743e-08, 1.1369016343329445e-08, 7.59215249342078e-09, 8.793481193771452e-09, 8.360386067308008e-09, 1.0651660302910077e-08, 8.361656513189054e-09, 1.2996061274132597e-08, 8.749409158756388e-09, 1.0067958996835493e-08, 9.609588823864986e-09, 7.643991662113614e-09, 7.907943273515194e-09, 8.051113083573326e-09, 8.463062917383968e-09, 8.880111993631254e-09, 7.563853456177388e-09, 8.064745910455548e-09, 6.706783121898785e-09, 6.8073708783550716e-09, 6.211279750800634e-09, 6.481650907461677e-09, 9.246433009182138e-09, 6.229122672988643e-09, 7.536846872049202e-09, 7.611095767093037e-09, 8.524961393497692e-09, 7.712077488358003e-09, 1.1362753103301678e-08, 1.1003479643251895e-08, 1.1569363314740758e-08, 9.51962048375483e-09, 8.799489679361523e-09, 9.415984743509708e-09, 1.0586767571006151e-08, 1.114324103621135e-08, 9.377148690582669e-09, 1.3697789388642142e-08, 1.0024461588281724e-08, 1.0008827810906901e-08, 9.447632787517456e-09, 9.820225054756708e-09, 1.095314738168585e-08, 9.398195808845441e-09, 9.972873723538723e-09, 1.1298285342853913e-08, 1.0458155769646732e-08, 9.729225084494633e-09, 1.0169411062207465e-08, 9.982221146157964e-09, 1.0010779578219152e-08, 1.0084792706119174e-08, 9.708669513434791e-09], \"Total\": [653.0, 243.0, 270.0, 103.0, 103.0, 139.0, 198.0, 136.0, 197.0, 104.0, 150.0, 171.0, 47.0, 88.0, 115.0, 48.0, 46.0, 98.0, 110.0, 61.0, 83.0, 65.0, 92.0, 54.0, 43.0, 46.0, 48.0, 94.0, 45.0, 71.0, 653.9171525560416, 20.199321988434587, 6.587182542768265, 2.8072363800310214, 47.94622079633373, 10.354890794505051, 3.1766358362164935, 4.732046626997763, 1.6697058663560043, 2.953473355366294, 10.865945575125279, 11.481699759556301, 25.236142892708553, 11.532634217934024, 10.517016324422288, 3.0876412085181575, 2.860301724627607, 9.4461502947439, 7.725225809745036, 6.828742402498746, 4.131455013724173, 3.9045915290234667, 3.0046432119782316, 4.434641283254777, 2.411073238556435, 2.86341779671449, 9.576298722427687, 5.788639031165066, 2.085359680158457, 11.372757789743687, 103.87273747267604, 103.49690350799669, 17.027593819454673, 8.686345127287408, 10.861730040472844, 29.851220542476963, 25.22196619341132, 10.846096992153697, 19.38107023390269, 17.4632812818808, 16.768185366911048, 62.27796143774193, 46.983919508369574, 27.78521668171263, 23.959131239398314, 198.53496183082643, 31.16246825336711, 38.23216011780407, 22.096841117501956, 28.352724717599205, 136.3844502810797, 47.64701551951096, 44.368142000778846, 34.59587308736961, 52.02796836609946, 44.55794705237721, 77.7177238496932, 47.05086386936599, 88.08405222740043, 110.52187290216558, 54.837697792453156, 197.68281096287353, 42.75975869488605, 44.1003751690206, 115.48258316780351, 55.52268562015301, 83.54047637850987, 69.32677005900523, 38.583008731599364, 50.4452425977245, 72.39313460383026, 94.19796786231348, 47.895388584579706, 64.89200301199375, 75.77794481583211, 104.82306404995386, 243.13848406890003, 36.7276147502855, 37.01767944642307, 16.135434164441616, 8.161208705568946, 19.042932897425374, 11.840352057951762, 5.981496252612049, 5.572994322466393, 5.564880433872663, 11.607382281524977, 13.968504867816096, 24.75877477956407, 8.243013909097074, 8.22993141602042, 12.797888876535124, 5.696145709014932, 11.00767929404709, 8.339775524727564, 3.8205259045446636, 4.367072259216929, 19.31786040393889, 19.381644609779876, 8.519980549430528, 5.7067587016615535, 14.89877840594679, 14.200311512562497, 7.515430595987696, 12.488004427029741, 37.07139561333535, 46.691516617615, 16.569915510094045, 53.44786470361784, 17.55157952476451, 150.9207002707527, 10.297222637500665, 98.66640795703584, 37.01684901014966, 70.37010178541587, 12.178787805819022, 10.361416425460668, 43.5052587976227, 21.403476091216685, 47.37360498924946, 20.541118456243808, 65.78693313813379, 101.66723474156333, 171.0083775849654, 58.56154249476563, 56.784766677274646, 23.651121406860785, 34.515851585473406, 50.66235189649908, 57.874748241913316, 50.91799284145936, 100.3159943303167, 48.21842476205469, 51.085136888052126, 94.19796786231348, 44.229419713384296, 51.96110975096145, 53.31123355602483, 65.41376841516032, 61.688521449055834, 115.48258316780351, 198.53496183082643, 270.14406530838716, 25.590598408066874, 45.841067597187696, 21.90857412304492, 11.753946718503583, 8.637155696338846, 12.926439763336328, 19.59791117010611, 17.113060472213057, 4.326332518292099, 71.27829130567099, 6.174885068571754, 2.0332960200539163, 9.704267693364876, 1.54303853896561, 2.849692198898573, 1.9841210965831115, 3.528659051636623, 2.2306218533129014, 19.143147086946712, 3.3461307861130374, 1.9936520629676842, 92.19173180591379, 9.039142038494205, 4.574101935328775, 7.957294960047989, 1.0694294342476351, 3.640528147336534, 4.535541520102073, 3.2013481314505254, 20.38222740515732, 25.045650059306524, 9.764651957424604, 32.56268115492222, 17.212153782790857, 8.957736307049306, 19.35815843653925, 14.96110612869296, 45.176172830964006, 8.980690723122315, 51.5024850358599, 12.272675926921817, 34.96483271037304, 56.79078789359886, 32.93753439457987, 46.314765015077995, 139.41569729430054, 24.99328663322147, 41.778173496877635, 55.98978623759331, 20.00579968528427, 30.14092552627749, 18.147848025687843, 20.664606672372216, 31.98330322044301, 49.052399051731406, 38.14757564622317, 197.68281096287353, 30.742525737052475, 55.070765222874215, 29.130937252062623, 51.31910725285696, 171.0083775849654, 52.840667412357824, 54.02168167886415, 41.20845781282254, 11.961653393929115, 8.561855096782116, 4.665431363468916, 6.977107405143817, 5.118040115146938, 18.755968214059735, 7.1578189711392755, 3.1522262945292563, 2.2814288171879977, 2.179083890253492, 1.5391696094247223, 10.270817687472944, 5.081249830186038, 7.862154399504669, 2.4605184229533603, 2.53028592575013, 8.249772977657443, 2.6768320878690828, 4.830174220386052, 1.1652105172438016, 2.869930666341185, 3.8086716537258023, 1.773195512388496, 2.178046748756408, 5.161176384411401, 2.9999101493865084, 2.0765482998388323, 2.348766898491362, 3.3830528514891283, 4.153607804752806, 4.304049331354133, 16.721108945292972, 32.33702693473916, 14.819408932150608, 9.109204100290857, 14.180113384988443, 9.48428372414893, 17.867167693971467, 16.38179044677322, 14.875804377332834, 28.881506521300825, 20.708586595288246, 70.37010178541587, 9.414241185859504, 23.76465059302814, 46.983919508369574, 21.28733664720101, 30.742525737052475, 29.71905028235502, 18.39845212013662, 150.9207002707527, 6.3207144252514915, 2.2882608735295444, 3.1418201175815543, 1.9553386659240666, 2.0150027342306815, 1.976329948709889, 1.8973036458632135, 1.717097066623519, 1.698461846495754, 2.569203370831497, 1.792294196409557, 1.8001251772071247, 1.8006729154926653, 2.4470690478693258, 5.085628053544927, 1.6391645722234913, 1.832810118336738, 2.502285407625614, 3.349461635463099, 1.1491269839772589, 1.2811438827859818, 1.7466115936285755, 1.1652105172438016, 4.218997128167341, 2.1597745632858416, 2.2675368121091837, 3.6433424215336108, 2.158177977471697, 1.647188383149784, 1.5505032142609039, 4.0040375578478, 3.9320198462746028, 2.3278583707519402, 4.763192415485166, 7.465987505573609, 11.349120256565547, 32.33702693473916, 5.684476583331554, 5.827569662414627, 19.16013891266282, 6.675435727516536, 10.201302506652366, 18.975303136018134, 7.696304047953478, 19.988307740464155, 8.749355522512284, 35.02376179183941, 28.774420742822407, 16.64937649747512, 6.34236687293386, 22.8031727293665, 38.583008731599364, 18.97411382859179, 22.326747265234705, 1.2410871572086613, 1.1883261014011448, 1.0715367261195425, 1.596601794664845, 1.1419821242392931, 1.2039369049839816, 1.3111623057126698, 1.0313838115156566, 1.6195343416309327, 1.2081703673858302, 1.3506182016154413, 1.2204148221744733, 1.5054676129386884, 2.0641524826213486, 2.4993940420165948, 1.4189226653812874, 1.2339601991973201, 1.349283591212055, 1.2795315076062037, 1.4957682324444717, 1.3665900844531678, 1.2764413074081247, 1.5402996392481059, 1.961324906679775, 1.5291397819514156, 1.925266146263729, 1.4191886885511469, 1.5638969498891158, 1.817717803508083, 2.171722422306055, 2.283051314228087, 1.604577664881467, 2.8228955818009114, 1.9220924272757862, 2.183037561274512, 3.298196280681664, 2.244095371509228, 2.5231697271511755, 2.6216376690297674, 11.694566994796181, 2.1623602261586834, 4.139983072219134, 5.963680293223807, 5.423882668491667, 2.8125654585050572, 3.1418201175815543, 2.8522909606140616, 7.712291249640547, 9.518257611903051, 4.2737691603193335, 4.236037217367776, 5.206338464153239, 13.684752959569085, 7.427727461817175, 9.55219113300848, 1.314247552007555, 1.1175909876460306, 1.5575992812354937, 0.9848736119388872, 1.1456327536208641, 1.3232627506186176, 1.346858596142962, 1.3044257738875402, 1.2647060443627727, 1.3663989624450814, 1.3039270115449852, 1.3411850405379788, 1.171820101627809, 1.3051515140493593, 1.1228813223220775, 1.1139445901022547, 1.4258550926350226, 1.330174228719039, 1.1278069988054893, 1.6050469255576532, 1.4711505778436902, 1.4802374520103685, 1.2879093906827033, 1.275316331551503, 1.3494271127024076, 1.463141762425528, 1.1518839263540972, 1.1846315487661485, 1.396764875286088, 1.5017381751629726, 1.913832330418567, 1.9184215242734128, 2.4857440643270845, 1.4756811116222814, 1.4346332811375728, 2.1939858026317425, 2.0129232239938877, 3.312957567464202, 1.9848019761489142, 2.2414833250673496, 2.011599018419336, 4.018545831489014, 4.539808468811714, 3.7238031030413965, 3.425175206823469, 2.4440604032869246, 12.623045717860109, 5.753578902163254, 2.827904495348184, 2.38020357374897, 3.82881743445676, 12.62979374807392, 5.012010033354998, 21.798302071167438, 3.4157606627354005, 1.2937039083921056, 1.7182987758813517, 1.8024353194623137, 1.3079931158551752, 0.9909460154362945, 1.274287376540884, 1.5065035535723181, 1.4004003849074393, 1.2386207684247088, 1.202461378533964, 1.2275955117896666, 1.706737601820451, 1.72666669053783, 1.4173244675626866, 1.295708684104008, 1.0194721254776327, 1.5967844062461636, 1.2137211601135018, 1.6824958573156321, 1.3598174246581385, 2.057544538456721, 1.3981929160350122, 1.3371462631581184, 1.6954273381640943, 1.1491268602579516, 1.7712902914607347, 1.1392699086642741, 1.408847092886155, 1.2786329170842257, 1.6081847093758288, 1.647641119005019, 2.805528987462763, 2.2410281374684393, 2.347473624064642, 2.3739398454726564, 2.8240760721310543, 1.7111578367798628, 4.903884807672329, 3.0404858598306097, 5.132427938276584, 2.452132244322397, 2.799782590636469, 3.225201257155449, 3.430285067037236, 5.125698159587789, 2.7159929439250154, 3.2068948107836417, 15.657420549734287, 43.00329135907833, 7.092780965015825, 1.3102598870475113, 1.5677829072454972, 2.2490543736813424, 1.8128582011706504, 1.1999964310105866, 1.8968449945672639, 1.4394568238759744, 1.2060456146965886, 1.6774595169390072, 1.122501227116801, 1.1722013826552362, 1.5020788692455458, 1.3322982605375575, 1.5913791196066325, 1.4041096026567672, 1.3636991565628767, 1.4184206235919845, 0.9978274547369275, 1.2387157549009962, 1.115832903436141, 1.4642611359141426, 1.321784339247089, 1.4894036992222168, 1.163772549539052, 1.1792879717909635, 2.321945185720899, 1.2666324721414899, 1.4532724423689898, 1.4723612902432743, 1.717843026392927, 1.604577664881467, 1.5278563769501021, 1.916671399675656, 3.2885319811802325, 1.7696277171597525, 3.415632076802052, 2.1597745632858416, 5.683439863606063, 4.243026069491223, 4.80078646747089, 5.917194750932023, 3.1870776169087214, 6.356358091902396, 41.20845781282254, 5.184141764533452, 12.266100674542809, 9.611112237382136, 6.450137587617975, 38.14757564622317, 11.209564410834819, 4.987877025851088, 3.6736144091928016, 10.095453618975137, 14.807113250988285, 1.2215249912188466, 1.279003826153607, 1.4084621328781395, 1.508002102713226, 1.899803495754787, 1.7588509121151263, 1.3131038461792583, 1.1687839210956235, 1.2519355675639214, 1.8677853504694686, 1.6843356914100058, 1.2214570379967995, 1.5316100449861374, 1.3822786561389273, 1.0910714445399825, 1.2239018097262002, 1.1396311749543258, 1.6206562072276944, 1.4444941763239307, 1.36791397992734, 1.6692749649553966, 1.4690969803528395, 1.5642903666690269, 1.3650761389406694, 1.3636991565628767, 1.6246536691436324, 1.330174228719039, 1.4771490509451513, 1.6716071061799407, 1.108842621686111, 1.3102598870475113, 1.472461455278829, 1.4842155014901057, 1.6269213470713515, 2.5837815137227746, 1.823347056977572, 1.9992136265957445, 2.442899767114409, 2.6473592156470227, 3.789546470595013, 1.9534387526584274, 1.9025187017647902, 5.519788717681712, 2.6247921834982093, 5.224672699397537, 7.119243387854321, 2.3202117279532, 8.2649499944101, 2.1687277568568253, 5.943427607151328, 5.803191583204282, 3.8646314991662956, 115.48258316780351, 27.049246857531628, 1.0477010186267195, 1.253261501987424, 1.4393413495926164, 1.171820101627809, 1.0979722230069207, 1.347894709627987, 1.6352969389176861, 1.6865449440238647, 1.0814302388792663, 1.0413904463244112, 1.418086943339085, 1.6877980852715613, 1.6387725845339083, 1.2293918816538405, 1.2324665931007324, 1.3001372762179795, 1.544853660325506, 1.1375254204961833, 1.2118027840905063, 1.365656727956928, 1.3779890732020448, 1.7860093563311514, 1.4809252201964271, 1.2940968064913367, 1.3368651609425746, 1.6460185401258223, 1.4346763994624632, 1.0915535787382897, 1.3421796364279512, 1.5003537151713622, 1.8122706932968353, 1.9286932913110266, 2.5543241627587685, 1.6759941116529848, 1.8753674836511236, 2.192292009494121, 2.5662130417767677, 2.0904659986149343, 2.2288574773988694, 1.737394878324214, 2.3401081306316245, 3.127519547218715, 3.245276659455025, 2.3997500773587466, 3.406195676186153, 7.20116949630381, 3.7327454573778533, 8.31376209590055, 3.7077685814468704, 3.153228495174078, 3.766244213293315, 8.696610221377982, 16.705595978412635, 28.881506521300825, 18.975303136018134, 1.3027154669656376, 1.1792879717909635, 1.6779787646827578, 1.4697347833737937, 1.1960637183717133, 1.3609300986291113, 1.8753674836511236, 1.110751310161179, 1.1988764114485249, 1.36384615780918, 2.1908645630924477, 0.9978274547369275, 1.0953629373609204, 1.8935750525258288, 1.2137959092176585, 1.9065392402159456, 1.4690969803528395, 1.310842264967734, 1.4801086222780022, 1.8670947079523097, 1.3524962626642834, 1.2597416485192936, 1.4518275620951595, 2.0608396722244686, 1.5067459654882276, 1.2638929259125726, 1.1035027402572362, 1.5723944488028814, 1.5783974301989003, 1.3064874909027253, 1.6683831782902128, 1.6970700241268788, 1.6632727474834021, 2.0970634810553905, 2.2542583824476488, 1.5765107358528683, 2.958572349562913, 3.260808245831173, 4.940688277397112, 1.7070185991573255, 2.581167727309116, 3.2672666093221596, 2.5111588419283657, 3.1426930242442963, 3.1378465439114263, 4.250764520467037, 3.9108140912318894, 7.155941470154107, 2.4846955142932794, 3.8536652813373933, 2.850441742725944, 27.291315542004796, 3.324244245296141, 5.752936229458509, 6.229456406804487, 1.2964069438051153, 1.2627764556380865, 1.0673735485913232, 1.5851734876705537, 1.2081703673858302, 1.2535555133899405, 1.108511982657791, 1.2313535991180702, 1.3636822620646325, 1.2838215020127657, 1.3079931158551752, 1.0729261211550534, 2.3911924375539972, 1.113771217692896, 1.3856912904972583, 1.1527404370465908, 1.2924800239139955, 1.475525629104987, 1.6626029563254574, 1.3023834327563224, 1.3429124924994003, 1.4946113135411843, 1.2276402765590417, 1.1797626083474753, 1.4585674512523887, 1.9081759699840184, 1.259414673265228, 1.5995572757413612, 1.647842385437941, 1.568828741617261, 2.3615775391775617, 2.1756692154212387, 3.025037250628706, 3.302441578298471, 2.453344560717278, 2.0183818646278917, 5.793039179382426, 11.072342906331487, 3.231214469727692, 11.47589511138208, 4.321923575377697, 5.792238789890827, 30.144750709786358, 5.99078643991543, 13.167073405635982, 6.838792171993179, 11.773898119412552, 4.112390899176917, 3.448775753841006, 38.63801937884457, 22.36817941046179, 1.3212744141802537, 2.2917472384441058, 1.2618982209685443, 1.355213429965789, 1.3225404082768244, 1.1139445901022547, 1.1743170576947481, 1.2471201501684417, 1.17328337434971, 1.0053783195365527, 1.829326961063502, 1.5177612080168652, 1.4974165262167014, 1.941628498279848, 1.5036722529274904, 1.3412555048509467, 1.1396311749543258, 1.3717371318038205, 1.5467631957306631, 1.4588522315937449, 1.2081222374834943, 1.7006902502369763, 2.179083890253492, 1.2409968584274105, 1.1188815029098467, 1.3500424969137816, 1.5158489622730895, 1.2944435918708632, 1.245796178657533, 1.344967480944234, 1.872334846123789, 1.751734412670403, 1.9859756269927653, 1.6412878192349187, 2.3096279782518603, 2.5900281094909836, 2.9568113875101973, 2.987403841256106, 1.811831391264206, 2.4492894785612327, 2.730782512695753, 2.4907748864732286, 3.768173492703703, 2.878448285419803, 4.076530214817246, 3.2572737786456747, 3.453106874673546, 45.49281153592767, 18.182540710640104, 11.451974944378149, 16.642510737122056, 17.55157952476451, 10.561426125213943, 46.314765015077995, 1.2535555133899405, 1.109450057109885, 1.3547002171380726, 1.518630719246874, 1.044329187286234, 1.2259802975557763, 1.3864272661718544, 1.2067570239133285, 1.3977881461300978, 1.2322354519088008, 1.1228813223220775, 1.3982135324434226, 1.2435118867177248, 1.4968298641714988, 1.253261501987424, 1.1880840258024576, 3.119737037660371, 1.6117830260991823, 1.1107431441252147, 1.156001114661484, 1.3671457982985555, 1.6083779496193968, 1.3181344234434964, 1.7077889558918367, 1.2506336769308273, 1.5067459654882276, 1.5062372653605327, 2.4036133068849552, 1.2685594941719536, 1.3946378605638052, 1.5903793399037358, 1.7745200597867776, 1.9457630581704473, 2.312348808696621, 2.3609831335803717, 2.983516846312849, 2.447984522535222, 2.379981201649515, 2.548542901167083, 3.5157499821913483, 3.768989993594717, 1.99714102416887, 4.395737551767937, 9.439329199826927, 7.292507150676847, 3.5321395418286663, 8.140279772011121, 4.901404629189745, 5.2278208313166035, 30.300904677318616, 3.0127576695496785, 6.822842947096265, 7.9955118163401995, 20.359933870628048, 1.0583330935047217, 1.398436411448522, 1.3012018660267723, 1.3875630325197856, 1.6307285935469613, 1.3186650159661126, 1.2044768971677655, 1.2845477403587038, 1.6784777062256997, 1.643946988491774, 1.1743170576947481, 1.6175602701453957, 1.4802374520103685, 1.4197355459561387, 1.245796178657533, 1.897941449300105, 1.4428186124111984, 1.4227372020433064, 1.535178989421503, 1.4062147604754882, 1.5402996392481059, 1.4243568507823572, 1.1960740419974611, 1.44452200160938, 1.0716093240341793, 1.4005846406221962, 1.73717980970073, 1.4056650282475154, 1.5492475426441403, 1.3811384027104967, 1.6033198135210809, 2.0422596422563273, 2.3406148197443297, 2.2595191495394085, 2.387975169310334, 3.277385561916729, 3.2164669179779155, 2.7499995605126863, 1.717843026392927, 7.160568091946771, 4.356532599443258, 2.3012771637874456, 8.998485139631583, 4.117980743177998, 3.006668021593053, 2.737589417101225, 3.5644105292702952, 31.567641251143492, 14.864319901311179, 15.694007368019301, 1.1740639553698784, 1.2656877963695057, 1.6261931021197473, 1.3442240795682974, 1.249652947841594, 1.1375254204961833, 1.1112328381612215, 1.3963730297428139, 1.2914082874308503, 1.0689155396577688, 1.202361486505818, 1.1584845560362895, 1.4779540829717877, 0.9766810316537841, 1.320307266935241, 1.6418002338040876, 0.9376975461408172, 1.3629200292903654, 1.5230543701365304, 1.6575375175840426, 1.1864599838759118, 1.2838215020127657, 1.329760736362468, 1.8439803482967971, 1.2620268693561174, 2.2658516379897553, 2.1572561844561573, 1.3473784907755957, 1.5485210284524487, 1.602876208520824, 1.9229269624153627, 1.5013931089873818, 1.7692452109057784, 1.9158380730079485, 3.696963076107867, 2.2138355382919404, 3.868823033648054, 2.2093133799983904, 1.688695652670943, 3.0127576695496785, 7.085561260011476, 3.291897476973018, 3.4501368659674094, 4.424765251501229, 9.848012754553997, 3.8468550859997097, 30.14092552627749, 10.201302506652366, 16.776990203820223, 1.1112328381612215, 1.2560893687336898, 1.0311233095741694, 1.2921400806860772, 1.2666324721414899, 1.2754893249041936, 2.1757148773847765, 1.1281613324796054, 1.5774111638674928, 1.1908137551422864, 1.3673423528974828, 1.7584354772230464, 1.944017951932912, 1.582819322536084, 1.236945066388962, 1.419379461888026, 1.5851734876705537, 1.315150436110745, 1.5523114402672513, 1.2305297753317375, 1.3948841237017373, 1.0956210270574254, 1.8702885610587103, 1.1667554677228278, 1.132716088600914, 1.3769476332063162, 1.6784777062256997, 1.9490323873531654, 1.4323594827378592, 1.276044281113486, 1.7351086268510127, 2.374429896027812, 2.878673963287868, 1.7567772299598496, 2.049111421686528, 1.8859326211351928, 2.3980278786278104, 1.9746743942320022, 2.2286782910418688, 10.45847024392647, 2.8418524251572252, 1.7543292965968824, 3.2451741967719294, 2.7521505376458983, 11.07099104294131, 4.462099236102626, 4.581664694331975, 7.19950344350165, 4.036934456705356, 10.337740813366693, 4.386154081670802, 36.9936153517026, 2.478776352219123, 4.143989610640944, 25.610781378669515, 3.273156470599136, 24.306864993662515, 1.0834844805749904, 1.4792641741705674, 1.1995248655659234, 1.3218432450453306, 1.2409968584274105, 1.3123627018513122, 1.108842621686111, 1.5958481953970598, 1.484956958469655, 1.347134774776772, 1.2835291738132049, 1.2215249912188466, 1.267518050912564, 1.342486802268974, 1.6850967031155435, 1.4561327349639888, 1.1864599838759118, 1.239893962627057, 1.02944311325027, 1.3834084070023622, 1.305106761166037, 1.4330938549257912, 1.0908047372751035, 1.2695253714254446, 1.8336847689356086, 0.9376975461408172, 1.7136775250854202, 1.1877355452940956, 1.8470312164579323, 1.3699335282413028, 1.7692452109057784, 1.7018900372928525, 1.5403873062866955, 2.9422470326111574, 2.101215700056809, 3.2714099619488266, 2.2218008539375385, 4.695764702784631, 5.012010033354998, 6.615976251949456, 2.481938803944623, 2.7935192479033946, 13.343261137303843, 12.178787805819022, 4.395737551767937, 3.098718336298942, 16.326135656418085, 4.018545831489014, 18.63757747629203, 653.9171525560416, 19.16013891266282, 43.5052587976227, 1.1165809402948441, 1.2099633274352506, 1.3258777409144558, 1.568213634479962, 1.3606337952895664, 1.652193393348356, 1.6091343260492652, 1.080924509878831, 1.2682858999048707, 1.2597416485192936, 1.6206562072276944, 1.273873539488412, 1.9802270884536448, 1.346146756927319, 1.555391967582757, 1.4885361122415464, 1.1846315487661485, 1.2346158212046912, 1.3103565360476597, 1.3826159527117343, 1.473130500484508, 1.2822199963260175, 1.3972077306419273, 1.1722013826552362, 1.1939645717999043, 1.0951756876234728, 1.1456327536208641, 1.644920644217918, 1.1280157694070023, 1.3804621773740477, 1.4005846406221962, 1.5905747931636804, 1.424427451386291, 2.429904056426116, 2.3989436551671033, 2.643347972777392, 2.000553505820044, 1.7671450476262238, 1.9921189955681435, 2.64229914953617, 3.1049618002258845, 2.0414553218137512, 6.5195317264747805, 2.6182003386762775, 2.6144239121899173, 2.2826682810496064, 2.86578013086536, 5.689655645117829, 2.602632436706744, 3.9165237738634913, 9.979318226256634, 5.544425538595569, 3.743417906114953, 8.403462542919794, 8.711603472521277, 10.732933079879869, 14.727279474285432, 7.1231242485716475], \"Category\": [\"Default\", \"Default\", \"Default\", \"Default\", \"Default\", \"Default\", \"Default\", \"Default\", \"Default\", \"Default\", \"Default\", \"Default\", \"Default\", \"Default\", \"Default\", \"Default\", \"Default\", \"Default\", \"Default\", \"Default\", \"Default\", \"Default\", \"Default\", \"Default\", \"Default\", \"Default\", \"Default\", \"Default\", \"Default\", \"Default\", \"Topic1\", \"Topic1\", \"Topic1\", \"Topic1\", \"Topic1\", \"Topic1\", \"Topic1\", \"Topic1\", \"Topic1\", \"Topic1\", \"Topic1\", \"Topic1\", \"Topic1\", \"Topic1\", \"Topic1\", \"Topic1\", \"Topic1\", \"Topic1\", \"Topic1\", \"Topic1\", \"Topic1\", \"Topic1\", \"Topic1\", \"Topic1\", \"Topic1\", \"Topic1\", \"Topic1\", \"Topic1\", \"Topic1\", \"Topic1\", \"Topic1\", \"Topic1\", \"Topic1\", \"Topic1\", \"Topic1\", \"Topic1\", \"Topic1\", \"Topic1\", \"Topic1\", \"Topic1\", \"Topic1\", \"Topic1\", \"Topic1\", \"Topic1\", \"Topic1\", \"Topic1\", \"Topic1\", \"Topic1\", \"Topic1\", \"Topic1\", \"Topic1\", \"Topic1\", \"Topic1\", \"Topic1\", \"Topic1\", \"Topic1\", \"Topic1\", \"Topic1\", \"Topic1\", \"Topic1\", \"Topic1\", \"Topic1\", \"Topic1\", \"Topic1\", \"Topic1\", \"Topic1\", \"Topic1\", \"Topic1\", \"Topic1\", \"Topic1\", \"Topic1\", \"Topic1\", \"Topic1\", \"Topic1\", \"Topic1\", \"Topic2\", \"Topic2\", \"Topic2\", \"Topic2\", \"Topic2\", \"Topic2\", \"Topic2\", \"Topic2\", \"Topic2\", \"Topic2\", \"Topic2\", \"Topic2\", \"Topic2\", \"Topic2\", \"Topic2\", \"Topic2\", \"Topic2\", \"Topic2\", \"Topic2\", \"Topic2\", \"Topic2\", \"Topic2\", \"Topic2\", \"Topic2\", \"Topic2\", \"Topic2\", \"Topic2\", \"Topic2\", \"Topic2\", \"Topic2\", \"Topic2\", \"Topic2\", \"Topic2\", \"Topic2\", \"Topic2\", \"Topic2\", \"Topic2\", \"Topic2\", \"Topic2\", \"Topic2\", \"Topic2\", \"Topic2\", \"Topic2\", \"Topic2\", \"Topic2\", \"Topic2\", \"Topic2\", \"Topic2\", \"Topic2\", \"Topic2\", \"Topic2\", \"Topic2\", \"Topic2\", \"Topic2\", \"Topic2\", \"Topic2\", \"Topic2\", \"Topic2\", \"Topic2\", \"Topic2\", \"Topic2\", \"Topic2\", \"Topic2\", \"Topic2\", \"Topic2\", \"Topic2\", \"Topic2\", \"Topic3\", \"Topic3\", \"Topic3\", \"Topic3\", \"Topic3\", \"Topic3\", \"Topic3\", \"Topic3\", \"Topic3\", \"Topic3\", \"Topic3\", \"Topic3\", \"Topic3\", \"Topic3\", \"Topic3\", \"Topic3\", \"Topic3\", \"Topic3\", \"Topic3\", \"Topic3\", \"Topic3\", \"Topic3\", \"Topic3\", \"Topic3\", \"Topic3\", \"Topic3\", \"Topic3\", \"Topic3\", \"Topic3\", \"Topic3\", \"Topic3\", \"Topic3\", \"Topic3\", \"Topic3\", \"Topic3\", \"Topic3\", \"Topic3\", \"Topic3\", \"Topic3\", \"Topic3\", \"Topic3\", \"Topic3\", \"Topic3\", \"Topic3\", \"Topic3\", \"Topic3\", \"Topic3\", \"Topic3\", \"Topic3\", \"Topic3\", \"Topic3\", \"Topic3\", \"Topic3\", \"Topic3\", \"Topic3\", \"Topic3\", \"Topic3\", \"Topic3\", \"Topic3\", \"Topic3\", \"Topic3\", \"Topic3\", \"Topic3\", \"Topic3\", \"Topic3\", \"Topic3\", \"Topic4\", \"Topic4\", \"Topic4\", \"Topic4\", \"Topic4\", \"Topic4\", \"Topic4\", \"Topic4\", \"Topic4\", \"Topic4\", \"Topic4\", \"Topic4\", \"Topic4\", \"Topic4\", \"Topic4\", \"Topic4\", \"Topic4\", \"Topic4\", \"Topic4\", \"Topic4\", \"Topic4\", \"Topic4\", \"Topic4\", \"Topic4\", \"Topic4\", \"Topic4\", \"Topic4\", \"Topic4\", \"Topic4\", \"Topic4\", \"Topic4\", \"Topic4\", \"Topic4\", \"Topic4\", \"Topic4\", \"Topic4\", \"Topic4\", \"Topic4\", \"Topic4\", \"Topic4\", \"Topic4\", \"Topic4\", \"Topic4\", \"Topic4\", \"Topic4\", \"Topic4\", \"Topic4\", \"Topic4\", \"Topic4\", \"Topic4\", \"Topic4\", \"Topic5\", \"Topic5\", \"Topic5\", \"Topic5\", \"Topic5\", \"Topic5\", \"Topic5\", \"Topic5\", \"Topic5\", \"Topic5\", \"Topic5\", \"Topic5\", \"Topic5\", \"Topic5\", \"Topic5\", \"Topic5\", \"Topic5\", \"Topic5\", \"Topic5\", \"Topic5\", \"Topic5\", \"Topic5\", \"Topic5\", \"Topic5\", \"Topic5\", \"Topic5\", \"Topic5\", \"Topic5\", \"Topic5\", \"Topic5\", \"Topic5\", \"Topic5\", \"Topic5\", \"Topic5\", \"Topic5\", \"Topic5\", \"Topic5\", \"Topic5\", \"Topic5\", \"Topic5\", \"Topic5\", \"Topic5\", \"Topic5\", \"Topic5\", \"Topic5\", \"Topic5\", \"Topic5\", \"Topic5\", \"Topic5\", \"Topic5\", \"Topic5\", \"Topic5\", \"Topic5\", \"Topic5\", \"Topic6\", \"Topic6\", \"Topic6\", \"Topic6\", \"Topic6\", \"Topic6\", \"Topic6\", \"Topic6\", \"Topic6\", \"Topic6\", \"Topic6\", \"Topic6\", \"Topic6\", \"Topic6\", \"Topic6\", \"Topic6\", \"Topic6\", \"Topic6\", \"Topic6\", \"Topic6\", \"Topic6\", \"Topic6\", \"Topic6\", \"Topic6\", \"Topic6\", \"Topic6\", \"Topic6\", \"Topic6\", \"Topic6\", \"Topic6\", \"Topic6\", \"Topic6\", \"Topic6\", \"Topic6\", \"Topic6\", \"Topic6\", \"Topic6\", \"Topic6\", \"Topic6\", \"Topic6\", \"Topic6\", \"Topic6\", \"Topic6\", \"Topic6\", \"Topic6\", \"Topic6\", \"Topic6\", \"Topic6\", \"Topic6\", \"Topic6\", \"Topic6\", \"Topic6\", \"Topic6\", \"Topic6\", \"Topic6\", \"Topic7\", \"Topic7\", \"Topic7\", \"Topic7\", \"Topic7\", \"Topic7\", \"Topic7\", \"Topic7\", \"Topic7\", \"Topic7\", \"Topic7\", \"Topic7\", \"Topic7\", \"Topic7\", \"Topic7\", \"Topic7\", \"Topic7\", \"Topic7\", \"Topic7\", \"Topic7\", \"Topic7\", \"Topic7\", \"Topic7\", \"Topic7\", \"Topic7\", \"Topic7\", \"Topic7\", \"Topic7\", \"Topic7\", \"Topic7\", \"Topic7\", \"Topic7\", \"Topic7\", \"Topic7\", \"Topic7\", \"Topic7\", \"Topic7\", \"Topic7\", \"Topic7\", \"Topic7\", \"Topic7\", \"Topic7\", \"Topic7\", \"Topic7\", \"Topic7\", \"Topic7\", \"Topic7\", \"Topic7\", \"Topic7\", \"Topic7\", \"Topic7\", \"Topic7\", \"Topic7\", \"Topic7\", \"Topic7\", \"Topic8\", \"Topic8\", \"Topic8\", \"Topic8\", \"Topic8\", \"Topic8\", \"Topic8\", \"Topic8\", \"Topic8\", \"Topic8\", \"Topic8\", \"Topic8\", \"Topic8\", \"Topic8\", \"Topic8\", \"Topic8\", \"Topic8\", \"Topic8\", \"Topic8\", \"Topic8\", \"Topic8\", \"Topic8\", \"Topic8\", \"Topic8\", \"Topic8\", \"Topic8\", \"Topic8\", \"Topic8\", \"Topic8\", \"Topic8\", \"Topic8\", \"Topic8\", \"Topic8\", \"Topic8\", \"Topic8\", \"Topic8\", \"Topic8\", \"Topic8\", \"Topic8\", \"Topic8\", \"Topic8\", \"Topic8\", \"Topic8\", \"Topic8\", \"Topic8\", \"Topic8\", \"Topic8\", \"Topic8\", \"Topic8\", \"Topic8\", \"Topic9\", \"Topic9\", \"Topic9\", \"Topic9\", \"Topic9\", \"Topic9\", \"Topic9\", \"Topic9\", \"Topic9\", \"Topic9\", \"Topic9\", \"Topic9\", \"Topic9\", \"Topic9\", \"Topic9\", \"Topic9\", \"Topic9\", \"Topic9\", \"Topic9\", \"Topic9\", \"Topic9\", \"Topic9\", \"Topic9\", \"Topic9\", \"Topic9\", \"Topic9\", \"Topic9\", \"Topic9\", \"Topic9\", \"Topic9\", \"Topic9\", \"Topic9\", \"Topic9\", \"Topic9\", \"Topic9\", \"Topic9\", \"Topic9\", \"Topic9\", \"Topic9\", \"Topic9\", \"Topic9\", \"Topic9\", \"Topic9\", \"Topic9\", \"Topic9\", \"Topic9\", \"Topic9\", \"Topic9\", \"Topic9\", \"Topic9\", \"Topic9\", \"Topic9\", \"Topic9\", \"Topic9\", \"Topic10\", \"Topic10\", \"Topic10\", \"Topic10\", \"Topic10\", \"Topic10\", \"Topic10\", \"Topic10\", \"Topic10\", \"Topic10\", \"Topic10\", \"Topic10\", \"Topic10\", \"Topic10\", \"Topic10\", \"Topic10\", \"Topic10\", \"Topic10\", \"Topic10\", \"Topic10\", \"Topic10\", \"Topic10\", \"Topic10\", \"Topic10\", \"Topic10\", \"Topic10\", \"Topic10\", \"Topic10\", \"Topic10\", \"Topic10\", \"Topic10\", \"Topic10\", \"Topic10\", \"Topic10\", \"Topic10\", \"Topic10\", \"Topic10\", \"Topic10\", \"Topic10\", \"Topic10\", \"Topic10\", \"Topic10\", \"Topic10\", \"Topic10\", \"Topic10\", \"Topic10\", \"Topic10\", \"Topic10\", \"Topic10\", \"Topic10\", \"Topic10\", \"Topic10\", \"Topic10\", \"Topic10\", \"Topic11\", \"Topic11\", \"Topic11\", \"Topic11\", \"Topic11\", \"Topic11\", \"Topic11\", \"Topic11\", \"Topic11\", \"Topic11\", \"Topic11\", \"Topic11\", \"Topic11\", \"Topic11\", \"Topic11\", \"Topic11\", \"Topic11\", \"Topic11\", \"Topic11\", \"Topic11\", \"Topic11\", \"Topic11\", \"Topic11\", \"Topic11\", \"Topic11\", \"Topic11\", \"Topic11\", \"Topic11\", \"Topic11\", \"Topic11\", \"Topic11\", \"Topic11\", \"Topic11\", \"Topic11\", \"Topic11\", \"Topic11\", \"Topic11\", \"Topic11\", \"Topic11\", \"Topic11\", \"Topic11\", \"Topic11\", \"Topic11\", \"Topic11\", \"Topic11\", \"Topic11\", \"Topic11\", \"Topic11\", \"Topic11\", \"Topic11\", \"Topic11\", \"Topic11\", \"Topic11\", \"Topic11\", \"Topic11\", \"Topic12\", \"Topic12\", \"Topic12\", \"Topic12\", \"Topic12\", \"Topic12\", \"Topic12\", \"Topic12\", \"Topic12\", \"Topic12\", \"Topic12\", \"Topic12\", \"Topic12\", \"Topic12\", \"Topic12\", \"Topic12\", \"Topic12\", \"Topic12\", \"Topic12\", \"Topic12\", \"Topic12\", \"Topic12\", \"Topic12\", \"Topic12\", \"Topic12\", \"Topic12\", \"Topic12\", \"Topic12\", \"Topic12\", \"Topic12\", \"Topic12\", \"Topic12\", \"Topic12\", \"Topic12\", \"Topic12\", \"Topic12\", \"Topic12\", \"Topic12\", \"Topic12\", \"Topic12\", \"Topic12\", \"Topic12\", \"Topic12\", \"Topic12\", \"Topic12\", \"Topic12\", \"Topic12\", \"Topic12\", \"Topic12\", \"Topic12\", \"Topic12\", \"Topic12\", \"Topic12\", \"Topic12\", \"Topic12\", \"Topic13\", \"Topic13\", \"Topic13\", \"Topic13\", \"Topic13\", \"Topic13\", \"Topic13\", \"Topic13\", \"Topic13\", \"Topic13\", \"Topic13\", \"Topic13\", \"Topic13\", \"Topic13\", \"Topic13\", \"Topic13\", \"Topic13\", \"Topic13\", \"Topic13\", \"Topic13\", \"Topic13\", \"Topic13\", \"Topic13\", \"Topic13\", \"Topic13\", \"Topic13\", \"Topic13\", \"Topic13\", \"Topic13\", \"Topic13\", \"Topic13\", \"Topic13\", \"Topic13\", \"Topic13\", \"Topic13\", \"Topic13\", \"Topic13\", \"Topic13\", \"Topic13\", \"Topic13\", \"Topic13\", \"Topic13\", \"Topic13\", \"Topic13\", \"Topic13\", \"Topic13\", \"Topic13\", \"Topic13\", \"Topic13\", \"Topic13\", \"Topic13\", \"Topic14\", \"Topic14\", \"Topic14\", \"Topic14\", \"Topic14\", \"Topic14\", \"Topic14\", \"Topic14\", \"Topic14\", \"Topic14\", \"Topic14\", \"Topic14\", \"Topic14\", \"Topic14\", \"Topic14\", \"Topic14\", \"Topic14\", \"Topic14\", \"Topic14\", \"Topic14\", \"Topic14\", \"Topic14\", \"Topic14\", \"Topic14\", \"Topic14\", \"Topic14\", \"Topic14\", \"Topic14\", \"Topic14\", \"Topic14\", \"Topic14\", \"Topic14\", \"Topic14\", \"Topic14\", \"Topic14\", \"Topic14\", \"Topic14\", \"Topic14\", \"Topic14\", \"Topic14\", \"Topic14\", \"Topic14\", \"Topic14\", \"Topic14\", \"Topic14\", \"Topic14\", \"Topic14\", \"Topic14\", \"Topic14\", \"Topic14\", \"Topic14\", \"Topic14\", \"Topic14\", \"Topic14\", \"Topic15\", \"Topic15\", \"Topic15\", \"Topic15\", \"Topic15\", \"Topic15\", \"Topic15\", \"Topic15\", \"Topic15\", \"Topic15\", \"Topic15\", \"Topic15\", \"Topic15\", \"Topic15\", \"Topic15\", \"Topic15\", \"Topic15\", \"Topic15\", \"Topic15\", \"Topic15\", \"Topic15\", \"Topic15\", \"Topic15\", \"Topic15\", \"Topic15\", \"Topic15\", \"Topic15\", \"Topic15\", \"Topic15\", \"Topic15\", \"Topic15\", \"Topic15\", \"Topic15\", \"Topic15\", \"Topic15\", \"Topic15\", \"Topic15\", \"Topic15\", \"Topic15\", \"Topic15\", \"Topic15\", \"Topic15\", \"Topic15\", \"Topic15\", \"Topic15\", \"Topic15\", \"Topic15\", \"Topic15\", \"Topic15\", \"Topic15\", \"Topic15\", \"Topic15\", \"Topic15\", \"Topic15\", \"Topic16\", \"Topic16\", \"Topic16\", \"Topic16\", \"Topic16\", \"Topic16\", \"Topic16\", \"Topic16\", \"Topic16\", \"Topic16\", \"Topic16\", \"Topic16\", \"Topic16\", \"Topic16\", \"Topic16\", \"Topic16\", \"Topic16\", \"Topic16\", \"Topic16\", \"Topic16\", \"Topic16\", \"Topic16\", \"Topic16\", \"Topic16\", \"Topic16\", \"Topic16\", \"Topic16\", \"Topic16\", \"Topic16\", \"Topic16\", \"Topic16\", \"Topic16\", \"Topic16\", \"Topic16\", \"Topic16\", \"Topic16\", \"Topic16\", \"Topic16\", \"Topic16\", \"Topic16\", \"Topic16\", \"Topic16\", \"Topic16\", \"Topic16\", \"Topic16\", \"Topic16\", \"Topic16\", \"Topic16\", \"Topic16\", \"Topic16\", \"Topic17\", \"Topic17\", \"Topic17\", \"Topic17\", \"Topic17\", \"Topic17\", \"Topic17\", \"Topic17\", \"Topic17\", \"Topic17\", \"Topic17\", \"Topic17\", \"Topic17\", \"Topic17\", \"Topic17\", \"Topic17\", \"Topic17\", \"Topic17\", \"Topic17\", \"Topic17\", \"Topic17\", \"Topic17\", \"Topic17\", \"Topic17\", \"Topic17\", \"Topic17\", \"Topic17\", \"Topic17\", \"Topic17\", \"Topic17\", \"Topic17\", \"Topic17\", \"Topic17\", \"Topic17\", \"Topic17\", \"Topic17\", \"Topic17\", \"Topic17\", \"Topic17\", \"Topic17\", \"Topic17\", \"Topic17\", \"Topic17\", \"Topic17\", \"Topic17\", \"Topic17\", \"Topic17\", \"Topic17\", \"Topic17\", \"Topic18\", \"Topic18\", \"Topic18\", \"Topic18\", \"Topic18\", \"Topic18\", \"Topic18\", \"Topic18\", \"Topic18\", \"Topic18\", \"Topic18\", \"Topic18\", \"Topic18\", \"Topic18\", \"Topic18\", \"Topic18\", \"Topic18\", \"Topic18\", \"Topic18\", \"Topic18\", \"Topic18\", \"Topic18\", \"Topic18\", \"Topic18\", \"Topic18\", \"Topic18\", \"Topic18\", \"Topic18\", \"Topic18\", \"Topic18\", \"Topic18\", \"Topic18\", \"Topic18\", \"Topic18\", \"Topic18\", \"Topic18\", \"Topic18\", \"Topic18\", \"Topic18\", \"Topic18\", \"Topic18\", \"Topic18\", \"Topic18\", \"Topic18\", \"Topic18\", \"Topic18\", \"Topic18\", \"Topic18\", \"Topic18\", \"Topic18\", \"Topic18\", \"Topic18\", \"Topic18\", \"Topic18\", \"Topic18\", \"Topic18\", \"Topic18\", \"Topic19\", \"Topic19\", \"Topic19\", \"Topic19\", \"Topic19\", \"Topic19\", \"Topic19\", \"Topic19\", \"Topic19\", \"Topic19\", \"Topic19\", \"Topic19\", \"Topic19\", \"Topic19\", \"Topic19\", \"Topic19\", \"Topic19\", \"Topic19\", \"Topic19\", \"Topic19\", \"Topic19\", \"Topic19\", \"Topic19\", \"Topic19\", \"Topic19\", \"Topic19\", \"Topic19\", \"Topic19\", \"Topic19\", \"Topic19\", \"Topic19\", \"Topic19\", \"Topic19\", \"Topic19\", \"Topic19\", \"Topic19\", \"Topic19\", \"Topic19\", \"Topic19\", \"Topic19\", \"Topic19\", \"Topic19\", \"Topic19\", \"Topic19\", \"Topic19\", \"Topic19\", \"Topic19\", \"Topic19\", \"Topic19\", \"Topic19\", \"Topic19\", \"Topic19\", \"Topic20\", \"Topic20\", \"Topic20\", \"Topic20\", \"Topic20\", \"Topic20\", \"Topic20\", \"Topic20\", \"Topic20\", \"Topic20\", \"Topic20\", \"Topic20\", \"Topic20\", \"Topic20\", \"Topic20\", \"Topic20\", \"Topic20\", \"Topic20\", \"Topic20\", \"Topic20\", \"Topic20\", \"Topic20\", \"Topic20\", \"Topic20\", \"Topic20\", \"Topic20\", \"Topic20\", \"Topic20\", \"Topic20\", \"Topic20\", \"Topic20\", \"Topic20\", \"Topic20\", \"Topic20\", \"Topic20\", \"Topic20\", \"Topic20\", \"Topic20\", \"Topic20\", \"Topic20\", \"Topic20\", \"Topic20\", \"Topic20\", \"Topic20\", \"Topic20\", \"Topic20\", \"Topic20\", \"Topic20\", \"Topic20\", \"Topic20\", \"Topic20\", \"Topic20\", \"Topic20\", \"Topic20\", \"Topic20\", \"Topic20\", \"Topic20\", \"Topic20\"], \"logprob\": [30.0, 29.0, 28.0, 27.0, 26.0, 25.0, 24.0, 23.0, 22.0, 21.0, 20.0, 19.0, 18.0, 17.0, 16.0, 15.0, 14.0, 13.0, 12.0, 11.0, 10.0, 9.0, 8.0, 7.0, 6.0, 5.0, 4.0, 3.0, 2.0, 1.0, -3.4833, -6.9628, -8.0909, -8.9451, -6.112, -7.6457, -8.8273, -8.4324, -9.4745, -8.9074, -7.6051, -7.5501, -6.7637, -7.5489, -7.642, -8.8704, -8.9474, -7.7541, -7.9553, -8.079, -8.5844, -8.6409, -8.9044, -8.5159, -9.1256, -8.9538, -7.7472, -8.2508, -9.272, -7.5762, -5.3726, -5.3801, -7.1728, -7.8463, -7.6265, -6.6268, -6.7968, -7.6299, -7.0657, -7.1689, -7.2098, -5.9453, -6.2265, -6.7315, -6.8781, -4.8695, -6.6295, -6.45, -6.9724, -6.7606, -5.3524, -6.3026, -6.3717, -6.5976, -6.2538, -6.3886, -5.916, -6.3497, -5.8282, -5.65, -6.2295, -5.2519, -6.4794, -6.4705, -5.7997, -6.3501, -6.1032, -6.3011, -6.5932, -6.5004, -6.3915, -6.3705, -6.5622, -6.53, -6.5351, -5.1336, -4.2947, -6.1851, -6.1797, -7.0111, -7.6986, -6.8527, -7.3302, -8.0139, -8.0888, -8.0907, -7.3555, -7.1707, -6.5988, -7.701, -7.7026, -7.2626, -8.0741, -7.4166, -7.6944, -8.4751, -8.3414, -6.8545, -6.852, -7.675, -8.0768, -7.1172, -7.1659, -7.8024, -7.2954, -6.2082, -5.9852, -7.0133, -5.8542, -6.9573, -4.8606, -7.4898, -5.3189, -6.2619, -5.6461, -7.3303, -7.4858, -6.141, -6.8062, -6.069, -6.8448, -5.777, -5.403, -4.9551, -5.9311, -5.9597, -6.723, -6.398, -6.0975, -6.0097, -6.1556, -5.6554, -6.2202, -6.1852, -5.7533, -6.2924, -6.2077, -6.2105, -6.1183, -6.2051, -6.2087, -6.2385, -3.6829, -6.0439, -5.4708, -6.2139, -6.8394, -7.1483, -6.747, -6.3343, -6.4801, -7.8608, -5.0596, -7.5084, -8.6216, -7.0601, -8.902, -8.2899, -8.6525, -8.0782, -8.5374, -6.3878, -8.1327, -8.6532, -4.8217, -7.1444, -7.8276, -7.2743, -9.2822, -8.0581, -7.8395, -8.1882, -6.3387, -6.1441, -7.0791, -5.8953, -6.5282, -7.1726, -6.4205, -6.6731, -5.6057, -7.1752, -5.4888, -6.873, -5.8693, -5.4236, -5.944, -5.6274, -4.6102, -6.2095, -5.7386, -5.4711, -6.4238, -6.0768, -6.5205, -6.4142, -6.0768, -5.774, -5.9806, -5.1572, -6.2129, -5.9389, -6.2584, -6.0431, -5.5869, -6.0705, -6.0728, -6.1825, -4.9585, -5.4052, -6.0562, -5.6743, -6.0436, -4.774, -5.7632, -6.6167, -7.073, -7.1246, -7.4861, -5.6451, -6.3721, -5.9531, -7.1187, -7.1199, -5.9551, -7.1079, -6.5412, -7.9694, -7.0843, -6.8335, -7.6692, -7.4655, -6.6139, -7.1635, -7.5588, -7.4363, -7.0729, -6.8683, -6.8453, -5.5491, -5.0095, -5.8603, -6.2682, -5.9276, -6.2987, -5.8578, -5.9485, -6.0681, -5.7689, -5.9571, -5.4772, -6.4704, -6.1687, -5.9604, -6.2605, -6.2637, -6.282, -6.3957, -6.311, -5.0512, -6.3691, -6.3338, -6.8844, -6.8581, -6.9356, -7.1359, -7.2611, -7.2741, -6.8826, -7.2468, -7.2686, -7.3045, -7.0182, -6.3089, -7.4455, -7.337, -7.0651, -6.7791, -7.8574, -7.7558, -7.4596, -7.8775, -6.5988, -7.2806, -7.2351, -6.7657, -7.2959, -7.5717, -7.6421, -6.7419, -6.7887, -7.2796, -6.7111, -6.3629, -6.0381, -5.2817, -6.5862, -6.5932, -5.9783, -6.6057, -6.3813, -6.0474, -6.5928, -6.2026, -6.5681, -6.0287, -6.1823, -6.3823, -6.7552, -6.5864, -6.5427, -6.7856, -6.8119, -7.4453, -7.4928, -7.6132, -7.2472, -7.5963, -7.5483, -7.5092, -7.778, -7.3399, -7.6464, -7.5626, -7.7018, -7.5048, -7.215, -7.0323, -7.6166, -7.7943, -7.7066, -7.7637, -7.6192, -7.7398, -7.819, -7.6335, -7.4099, -7.662, -7.4353, -7.7415, -7.6624, -7.5169, -7.342, -7.3544, -7.646, -7.2357, -7.5167, -7.4314, -7.2096, -7.4854, -7.4458, -7.4468, -6.9663, -7.5386, -7.3599, -7.2799, -7.3233, -7.4788, -7.4627, -7.4992, -7.3956, -7.3846, -7.4596, -7.4685, -7.4745, -7.4421, -7.463, -7.4908, -6.8819, -7.2419, -6.919, -7.4305, -7.4009, -7.3213, -7.4141, -7.4488, -7.492, -7.442, -7.552, -7.5518, -7.7046, -7.6005, -7.7645, -7.7843, -7.5436, -7.6295, -7.8014, -7.4607, -7.5509, -7.5586, -7.7025, -7.7181, -7.6639, -7.5836, -7.8268, -7.8033, -7.6414, -7.573, -7.3571, -7.3634, -7.2515, -7.6173, -7.6372, -7.3909, -7.4494, -7.1967, -7.472, -7.4347, -7.4984, -7.2446, -7.2261, -7.3421, -7.3703, -7.4587, -7.1819, -7.3577, -7.4652, -7.4856, -7.4356, -7.3599, -7.429, -7.3372, -7.4671, -6.9742, -7.0277, -7.0878, -7.4316, -7.7272, -7.5025, -7.3405, -7.4172, -7.6262, -7.6608, -7.6772, -7.3619, -7.36, -7.5743, -7.6643, -7.9049, -7.4624, -7.7392, -7.4142, -7.6361, -7.2552, -7.6427, -7.692, -7.4651, -7.87, -7.4632, -7.9125, -7.7005, -7.8117, -7.5837, -7.5681, -7.0856, -7.3863, -7.3615, -7.3636, -7.3311, -7.5818, -7.1462, -7.3668, -7.2129, -7.4612, -7.4285, -7.4412, -7.4433, -7.4012, -7.5018, -7.48, -7.3667, -7.408, -7.4851, -7.4159, -7.2539, -6.9339, -7.1649, -7.5931, -7.1369, -7.4147, -7.5953, -7.2815, -7.687, -7.6657, -7.4393, -7.5611, -7.4054, -7.5421, -7.5794, -7.544, -7.9099, -7.6982, -7.815, -7.5508, -7.6649, -7.567, -7.8269, -7.832, -7.1791, -7.7934, -7.6617, -7.6534, -7.4994, -7.5859, -7.633, -7.4612, -7.1341, -7.5571, -7.2434, -7.4929, -7.0963, -7.2491, -7.3343, -7.3291, -7.461, -7.3534, -7.0756, -7.389, -7.2827, -7.3357, -7.4271, -7.2746, -7.4037, -7.4645, -7.4993, -7.4593, -7.4581, -7.166, -7.1394, -7.1604, -7.2111, -7.0019, -7.1664, -7.4677, -7.6159, -7.5704, -7.1711, -7.2936, -7.6234, -7.421, -7.5587, -7.8154, -7.7061, -7.8113, -7.4759, -7.5971, -7.6549, -7.4639, -7.6027, -7.5447, -7.689, -7.6935, -7.5215, -7.7244, -7.6199, -7.4962, -7.9092, -7.7427, -7.6297, -7.6354, -7.562, -7.2252, -7.4803, -7.4375, -7.3372, -7.2898, -7.1217, -7.4868, -7.5041, -7.0851, -7.3755, -7.143, -7.0971, -7.4664, -7.3709, -7.5114, -7.4463, -7.4577, -7.4795, -7.3959, -7.4458, -7.5481, -7.4337, -7.4036, -7.6261, -7.6945, -7.4895, -7.301, -7.2927, -7.7373, -7.7842, -7.4814, -7.3595, -7.4087, -7.7029, -7.7021, -7.6626, -7.5048, -7.8272, -7.7834, -7.685, -7.6786, -7.4355, -7.6239, -7.7731, -7.7439, -7.5416, -7.6896, -7.9658, -7.7649, -7.6543, -7.4666, -7.4184, -7.1706, -7.5567, -7.5018, -7.3925, -7.336, -7.489, -7.4933, -7.5951, -7.4918, -7.4098, -7.4, -7.4944, -7.4011, -7.1944, -7.4083, -7.2532, -7.4514, -7.4799, -7.4642, -7.4405, -7.4537, -7.4643, -7.4762, -7.2565, -7.5276, -7.1766, -7.3417, -7.5523, -7.4697, -7.1712, -7.6991, -7.623, -7.5276, -7.0658, -7.8695, -7.7896, -7.2612, -7.7162, -7.2672, -7.5469, -7.6706, -7.5553, -7.3408, -7.6838, -7.7587, -7.6243, -7.2791, -7.5991, -7.7767, -7.925, -7.5765, -7.5888, -7.7806, -7.5371, -7.5361, -7.5564, -7.4139, -7.3963, -7.6064, -7.3097, -7.2772, -7.1994, -7.5779, -7.4524, -7.3941, -7.4766, -7.4192, -7.43, -7.4128, -7.4294, -7.3956, -7.5226, -7.5002, -7.5159, -7.4493, -7.5127, -7.4965, -7.5177, -7.0702, -7.1985, -7.4756, -7.1829, -7.4864, -7.4908, -7.6163, -7.5178, -7.4201, -7.4857, -7.5355, -7.7411, -6.9688, -7.7411, -7.5234, -7.711, -7.6105, -7.5073, -7.3911, -7.6676, -7.6373, -7.5407, -7.7617, -7.821, -7.6102, -7.3513, -7.7823, -7.5495, -7.5286, -7.5791, -7.2386, -7.3653, -7.1702, -7.2086, -7.39, -7.5067, -7.1391, -6.9721, -7.3606, -7.0479, -7.3751, -7.3314, -7.1859, -7.4209, -7.3906, -7.434, -7.402, -7.4663, -7.4864, -7.4625, -7.4699, -7.3387, -6.8061, -7.4512, -7.381, -7.4059, -7.6827, -7.6371, -7.587, -7.6507, -7.8164, -7.2224, -7.4337, -7.4764, -7.241, -7.5306, -7.6533, -7.8171, -7.6471, -7.5374, -7.6079, -7.8036, -7.4687, -7.2324, -7.7958, -7.9018, -7.7147, -7.6089, -7.7689, -7.8128, -7.7384, -7.4175, -7.4898, -7.4284, -7.5811, -7.3139, -7.235, -7.1544, -7.3301, -7.5838, -7.4732, -7.4749, -7.503, -7.4105, -7.4795, -7.4226, -7.4682, -7.4985, -7.2096, -7.3563, -7.4264, -7.4237, -7.4527, -7.4707, -7.4683, -7.1174, -7.4003, -7.3011, -7.2898, -7.7257, -7.5987, -7.4807, -7.6383, -7.4964, -7.6575, -7.7554, -7.5419, -7.6657, -7.4934, -7.6728, -7.7297, -6.7653, -7.4494, -7.839, -7.8045, -7.6387, -7.483, -7.6926, -7.46, -7.7915, -7.6052, -7.609, -7.1417, -7.8087, -7.7167, -7.5955, -7.5015, -7.435, -7.407, -7.3953, -7.3243, -7.4155, -7.4303, -7.4122, -7.2941, -7.3252, -7.5305, -7.3187, -7.1229, -7.2713, -7.4305, -7.3006, -7.3874, -7.3824, -7.1957, -7.4789, -7.4518, -7.4507, -7.4547, -7.3711, -7.1114, -7.2746, -7.341, -7.1809, -7.4609, -7.5539, -7.5221, -7.2614, -7.3017, -7.6563, -7.3434, -7.4427, -7.4856, -7.6305, -7.2177, -7.5114, -7.5276, -7.4641, -7.5628, -7.539, -7.6373, -7.833, -7.6453, -7.953, -7.6859, -7.4718, -7.7201, -7.6348, -7.7502, -7.6096, -7.3861, -7.299, -7.3689, -7.3373, -7.147, -7.2192, -7.3206, -7.5762, -7.1251, -7.2865, -7.5188, -7.3431, -7.4489, -7.4851, -7.4983, -7.4894, -7.4265, -7.4745, -7.4964, -7.3809, -7.4187, -7.1715, -7.383, -7.4733, -7.6101, -7.6439, -7.4252, -7.5109, -7.7121, -7.5984, -7.667, -7.4372, -7.8554, -7.5648, -7.3603, -7.9252, -7.566, -7.46, -7.3947, -7.7494, -7.6815, -7.6782, -7.352, -7.7563, -7.1885, -7.2442, -7.7291, -7.6062, -7.5795, -7.4386, -7.6554, -7.5675, -7.546, -7.274, -7.5199, -7.4035, -7.5543, -7.6171, -7.5052, -7.3835, -7.5091, -7.5142, -7.5318, -7.5008, -7.5437, -7.4696, -7.5347, -7.5316, -7.2304, -7.4757, -7.7068, -7.5532, -7.5795, -7.5919, -7.0776, -7.7439, -7.4258, -7.7082, -7.5828, -7.346, -7.2535, -7.4675, -7.7149, -7.5863, -7.484, -7.6739, -7.5328, -7.7778, -7.6735, -7.9178, -7.384, -7.8572, -7.8944, -7.702, -7.5115, -7.3694, -7.6886, -7.8186, -7.5148, -7.2309, -7.0624, -7.5044, -7.3875, -7.4745, -7.3062, -7.4584, -7.4266, -6.7062, -7.3326, -7.5668, -7.3524, -7.4216, -7.0938, -7.3136, -7.3364, -7.2582, -7.3892, -7.274, -7.3916, -7.1269, -7.4724, -7.4322, -7.4045, -7.4686, -7.4669, -7.4677, -7.1663, -7.4324, -7.389, -7.4647, -7.4341, -7.7267, -7.3782, -7.4559, -7.5573, -7.6306, -7.6933, -7.666, -7.612, -7.3915, -7.5394, -7.7459, -7.7039, -7.8926, -7.6038, -7.6874, -7.5946, -7.8868, -7.7588, -7.4268, -8.0985, -7.5191, -7.8865, -7.447, -7.7563, -7.5018, -7.5536, -7.6455, -7.1895, -7.4483, -7.2904, -7.484, -7.1733, -7.1725, -7.1724, -7.4975, -7.5154, -7.2197, -7.2943, -7.4723, -7.5182, -7.3847, -7.5072, -7.4496, -7.3836, -7.4899, -7.5094, -7.2921, -7.301, -7.3811, -7.237, -7.3805, -7.2402, -7.2869, -7.6907, -7.5438, -7.5943, -7.3521, -7.5942, -7.1532, -7.5489, -7.4085, -7.4551, -7.6839, -7.65, -7.632, -7.5821, -7.534, -7.6945, -7.6303, -7.8147, -7.7998, -7.8915, -7.8489, -7.4936, -7.8886, -7.698, -7.6882, -7.5748, -7.675, -7.2875, -7.3196, -7.2695, -7.4645, -7.5431, -7.4754, -7.3582, -7.307, -7.4796, -7.1006, -7.4128, -7.4144, -7.4721, -7.4334, -7.3242, -7.4773, -7.418, -7.2932, -7.3705, -7.4427, -7.3985, -7.417, -7.4142, -7.4068, -7.4448], \"loglift\": [30.0, 29.0, 28.0, 27.0, 26.0, 25.0, 24.0, 23.0, 22.0, 21.0, 20.0, 19.0, 18.0, 17.0, 16.0, 15.0, 14.0, 13.0, 12.0, 11.0, 10.0, 9.0, 8.0, 7.0, 6.0, 5.0, 4.0, 3.0, 2.0, 1.0, 0.8876, 0.8854, 0.8778, 0.8765, 0.8718, 0.8707, 0.8707, 0.8671, 0.8667, 0.8635, 0.8631, 0.863, 0.8619, 0.8598, 0.8588, 0.8561, 0.8556, 0.8542, 0.8541, 0.8537, 0.8508, 0.8508, 0.8493, 0.8485, 0.8482, 0.8481, 0.8474, 0.8472, 0.8469, 0.8464, 0.8381, 0.8342, 0.8463, 0.8458, 0.8422, 0.8309, 0.8294, 0.8402, 0.8239, 0.8249, 0.8246, 0.777, 0.7776, 0.7979, 0.7994, 0.6934, 0.7852, 0.7602, 0.786, 0.7486, 0.586, 0.6874, 0.6896, 0.7125, 0.6483, 0.6684, 0.5848, 0.6529, 0.5474, 0.4986, 0.62, 0.3154, 0.6188, 0.5969, 0.305, 0.487, 0.3253, 0.3139, 0.6078, 0.4326, 0.1803, -0.062, 0.4226, 0.1512, -0.0091, 1.068, 1.0655, 1.0652, 1.0627, 1.0617, 1.0559, 1.0545, 1.0522, 1.0513, 1.0472, 1.0467, 1.0467, 1.0464, 1.0459, 1.0435, 1.0435, 1.042, 1.04, 1.0387, 1.0384, 1.0384, 1.0384, 1.0384, 1.0375, 1.0364, 1.0354, 1.0354, 1.0347, 1.0345, 1.0337, 1.0329, 1.0251, 1.033, 1.021, 1.0314, 0.9765, 1.0322, 0.9432, 0.9806, 0.954, 1.0238, 1.03, 0.94, 0.9841, 0.9268, 0.9867, 0.8904, 0.8292, 0.7571, 0.8527, 0.8549, 0.9675, 0.9144, 0.8312, 0.7859, 0.7681, 0.5902, 0.758, 0.7351, 0.5552, 0.7721, 0.6956, 0.6672, 0.5548, 0.5267, -0.1039, -0.6756, 1.572, 1.5677, 1.5579, 1.553, 1.5503, 1.5495, 1.5476, 1.5441, 1.5339, 1.5284, 1.5277, 1.525, 1.5226, 1.5212, 1.5182, 1.5168, 1.5162, 1.5147, 1.5141, 1.5141, 1.5134, 1.5107, 1.5083, 1.5079, 1.5059, 1.5054, 1.5045, 1.5036, 1.5024, 1.5021, 1.5005, 1.4891, 1.496, 1.4754, 1.4801, 1.4887, 1.4703, 1.4753, 1.4376, 1.4835, 1.4234, 1.4735, 1.4302, 1.3909, 1.4152, 1.391, 1.3062, 1.4257, 1.3829, 1.3576, 1.4341, 1.3712, 1.4348, 1.4113, 1.3119, 1.187, 1.2318, 0.41, 1.2153, 0.9064, 1.2236, 0.8727, 0.1252, 0.8161, 0.7917, 0.9528, 3.4137, 3.3013, 3.2575, 3.2369, 3.1775, 3.1483, 3.1225, 3.0891, 2.956, 2.9504, 2.9365, 2.8794, 2.8562, 2.8387, 2.8348, 2.8057, 2.7886, 2.7614, 2.7378, 2.7315, 2.7152, 2.6831, 2.6119, 2.61, 2.5988, 2.5918, 2.5644, 2.5637, 2.5622, 2.5616, 2.549, 2.4881, 2.3681, 2.2976, 2.3764, 2.2744, 2.3056, 2.1131, 2.1092, 2.086, 1.7218, 1.8662, 1.1229, 2.1412, 1.517, 1.0437, 1.5353, 1.1645, 1.18, 1.5459, -0.4739, 3.9588, 3.657, 3.3752, 3.2989, 3.2952, 3.237, 3.0775, 3.0522, 3.05, 3.0276, 3.0236, 2.9974, 2.9612, 2.9408, 2.9185, 2.9142, 2.911, 2.8715, 2.866, 2.8575, 2.8503, 2.8366, 2.8235, 2.8155, 2.8033, 2.8001, 2.7953, 2.7887, 2.7831, 2.7732, 2.7247, 2.6961, 2.7293, 2.5819, 2.4806, 2.3866, 2.096, 2.53, 2.4981, 1.9227, 2.3497, 2.1501, 1.8633, 2.2203, 1.6561, 2.1168, 1.2691, 1.3121, 1.6592, 2.2514, 1.1406, 0.6584, 1.1252, 0.9362, 3.1926, 3.1885, 3.1716, 3.1388, 3.1248, 3.1199, 3.0738, 3.045, 3.0318, 3.0184, 2.9907, 2.9529, 2.9399, 2.9142, 2.9055, 2.8873, 2.8493, 2.8477, 2.8437, 2.832, 2.8017, 2.7908, 2.7884, 2.7703, 2.7671, 2.7635, 2.7623, 2.7443, 2.7394, 2.7363, 2.674, 2.735, 2.5804, 2.6838, 2.6417, 2.4509, 2.5601, 2.4826, 2.4433, 1.4284, 2.5441, 2.0733, 1.7883, 1.8398, 2.3409, 2.2464, 2.3065, 1.4154, 1.216, 1.9417, 1.9418, 1.7295, 0.7955, 1.3857, 1.1063, 3.6987, 3.5008, 3.4918, 3.4387, 3.317, 3.2524, 3.142, 3.1393, 3.127, 3.0997, 3.0364, 3.0085, 2.9907, 2.9871, 2.9734, 2.9616, 2.9555, 2.9391, 2.9322, 2.92, 2.9169, 2.903, 2.8984, 2.8926, 2.8903, 2.8897, 2.8857, 2.8812, 2.8783, 2.8742, 2.8476, 2.839, 2.6918, 2.8474, 2.8557, 2.6772, 2.7049, 2.4594, 2.6963, 2.6121, 2.6566, 2.2183, 2.1149, 2.197, 2.2524, 2.5015, 1.1365, 1.7464, 2.3492, 2.5011, 2.0757, 0.958, 1.813, 0.4348, 2.1583, 3.6221, 3.2848, 3.177, 3.1538, 3.1358, 3.1089, 3.1036, 3.0999, 3.0136, 3.0087, 2.9716, 2.9574, 2.9476, 2.9308, 2.9306, 2.9297, 2.9235, 2.921, 2.9194, 2.9104, 2.8772, 2.876, 2.8713, 2.8608, 2.8448, 2.819, 2.811, 2.8106, 2.7964, 2.7951, 2.7865, 2.7367, 2.6607, 2.639, 2.6258, 2.4846, 2.7349, 2.1177, 2.375, 2.0054, 2.4958, 2.3958, 2.2417, 2.1779, 1.8184, 2.3529, 2.2085, 0.7362, -0.3154, 1.4097, 3.1677, 3.1503, 3.1094, 3.094, 3.0784, 3.0768, 3.075, 3.0712, 3.0551, 3.0513, 3.0293, 3.0077, 3.0059, 2.9838, 2.9724, 2.9643, 2.9604, 2.9461, 2.9416, 2.9292, 2.9217, 2.91, 2.8885, 2.8753, 2.8569, 2.8323, 2.8242, 2.8184, 2.8136, 2.8134, 2.7952, 2.797, 2.7421, 2.5293, 2.726, 2.3821, 2.591, 2.0201, 2.1595, 1.9508, 1.7469, 2.2338, 1.651, 0.0596, 1.8193, 1.0644, 1.2553, 1.5626, -0.0622, 1.0334, 1.7824, 2.0534, 1.0825, 0.7007, 3.4878, 3.4684, 3.351, 3.232, 3.2102, 3.1228, 3.1138, 3.0821, 3.0587, 3.058, 3.0389, 3.0305, 3.0066, 2.9714, 2.9513, 2.9457, 2.9119, 2.8951, 2.889, 2.8857, 2.8776, 2.8666, 2.8618, 2.8537, 2.8502, 2.8471, 2.8442, 2.8439, 2.8439, 2.8413, 2.8409, 2.8372, 2.8236, 2.8051, 2.6794, 2.7729, 2.7237, 2.6234, 2.5905, 2.4, 2.6975, 2.7066, 2.0605, 2.5133, 2.0575, 1.7939, 2.5458, 1.3709, 2.5683, 1.6253, 1.6378, 2.0225, -1.2912, 0.1104, 3.2591, 3.1944, 3.0861, 3.0692, 3.0659, 3.0658, 3.0611, 3.0385, 3.0383, 3.0291, 3.0232, 2.9709, 2.9512, 2.9444, 2.9428, 2.9288, 2.9141, 2.8978, 2.8784, 2.8572, 2.8547, 2.8384, 2.8374, 2.823, 2.8197, 2.8139, 2.8033, 2.8004, 2.7947, 2.7939, 2.7927, 2.7786, 2.7455, 2.7808, 2.7233, 2.6764, 2.5755, 2.6274, 2.559, 2.7063, 2.5118, 2.3039, 2.2767, 2.4841, 2.2272, 1.6852, 2.1284, 1.4828, 2.0921, 2.2255, 2.0636, 1.2505, 0.5844, 0.0264, 0.4346, 3.3329, 3.1614, 3.1597, 3.1271, 3.1225, 3.076, 3.0538, 3.0498, 3.0495, 3.0159, 3.0038, 2.9865, 2.9732, 2.9542, 2.9439, 2.9414, 2.9223, 2.9126, 2.9064, 2.8887, 2.8681, 2.8643, 2.8568, 2.8516, 2.8448, 2.843, 2.8303, 2.8248, 2.8087, 2.8059, 2.8049, 2.7889, 2.7887, 2.6994, 2.6447, 2.7922, 2.4595, 2.3947, 2.057, 2.7413, 2.4532, 2.2758, 2.4565, 2.2896, 2.2804, 1.994, 2.0608, 1.4903, 2.4211, 2.0047, 2.2905, 0.098, 2.14, 1.6077, 1.5068, 3.5241, 3.422, 3.3131, 3.2103, 3.1784, 3.1371, 3.1345, 3.128, 3.1236, 3.1183, 3.0499, 3.0424, 3.0133, 3.005, 3.0043, 3.0007, 2.9868, 2.9576, 2.9544, 2.9221, 2.9218, 2.9113, 2.8871, 2.8675, 2.8662, 2.8564, 2.8409, 2.8347, 2.8258, 2.8244, 2.756, 2.7112, 2.5768, 2.4506, 2.5664, 2.6449, 1.9581, 1.4773, 2.3204, 1.3658, 2.0151, 1.766, 0.262, 1.6428, 0.8856, 1.4973, 0.986, 1.9736, 2.1295, -0.2629, 0.2763, 3.2366, 3.2185, 3.1701, 3.169, 3.1684, 3.0633, 3.056, 3.046, 3.0434, 3.0321, 3.0275, 3.003, 2.9737, 2.9494, 2.9153, 2.907, 2.9061, 2.8907, 2.8803, 2.8684, 2.8612, 2.8541, 2.8426, 2.8421, 2.8397, 2.839, 2.829, 2.8269, 2.8212, 2.8191, 2.8092, 2.8035, 2.7393, 2.7773, 2.7029, 2.6672, 2.6153, 2.4294, 2.6757, 2.4849, 2.3744, 2.4383, 2.1168, 2.3171, 2.026, 2.2048, 2.1161, -0.1733, 0.5971, 0.9893, 0.6182, 0.536, 1.026, -0.4499, 3.5105, 3.3497, 3.2492, 3.1462, 3.0848, 3.0514, 3.0464, 3.0277, 3.0226, 2.9875, 2.9825, 2.9768, 2.9702, 2.9571, 2.9553, 2.9518, 2.9508, 2.9271, 2.9098, 2.9044, 2.9025, 2.8956, 2.885, 2.8587, 2.8388, 2.8387, 2.8352, 2.8352, 2.8073, 2.8045, 2.7944, 2.7789, 2.7532, 2.6086, 2.5995, 2.4365, 2.5431, 2.5565, 2.5061, 2.3025, 2.2018, 2.6316, 2.0545, 1.4861, 1.5957, 2.1614, 1.4565, 1.877, 1.8174, 0.247, 2.2721, 1.4818, 1.3243, 0.3856, 3.4261, 3.4071, 3.3159, 3.1854, 3.184, 3.1163, 3.1139, 3.0814, 3.0746, 3.0551, 3.0369, 3.0296, 3.019, 3.0178, 3.0036, 2.9954, 2.9759, 2.9737, 2.9611, 2.9501, 2.8829, 2.8629, 2.8418, 2.8408, 2.8317, 2.8311, 2.8298, 2.7933, 2.7813, 2.7807, 2.7721, 2.7537, 2.7045, 2.6698, 2.6462, 2.5198, 2.4664, 2.5217, 2.7366, 1.7601, 2.0957, 2.5016, 1.3137, 1.9896, 2.2679, 2.3484, 2.0935, -0.0248, 0.6804, 0.6042, 3.3125, 3.1995, 3.1961, 3.1751, 3.1577, 3.1149, 3.1045, 3.0948, 3.0872, 3.0751, 3.0712, 3.0397, 3.026, 3.0221, 3.0112, 2.9978, 2.993, 2.9782, 2.9732, 2.9538, 2.9335, 2.9225, 2.8907, 2.8899, 2.8648, 2.8474, 2.8409, 2.8266, 2.8104, 2.8026, 2.7615, 2.7921, 2.7158, 2.6577, 2.2724, 2.5393, 2.0975, 2.5069, 2.7128, 2.2458, 1.5123, 2.1533, 2.1013, 1.8348, 1.0658, 1.963, -0.0216, 0.9966, 0.5023, 3.518, 3.1502, 3.1165, 3.0443, 3.038, 3.0187, 2.9989, 2.9894, 2.9723, 2.971, 2.9582, 2.9435, 2.9356, 2.9272, 2.9263, 2.9173, 2.9092, 2.906, 2.8813, 2.8686, 2.8476, 2.8448, 2.8438, 2.8424, 2.8349, 2.832, 2.8245, 2.8172, 2.8059, 2.7915, 2.788, 2.7582, 2.7341, 2.786, 2.749, 2.7449, 2.673, 2.715, 2.6258, 1.8003, 2.4768, 2.725, 2.3243, 2.4199, 1.3558, 2.0446, 1.9954, 1.6216, 2.0692, 1.2441, 1.9838, 0.1162, 2.4737, 2.0, 0.2063, 2.1995, 0.1962, 3.306, 3.296, 3.2395, 3.1859, 3.1732, 3.148, 3.0238, 3.0082, 3.0026, 2.9986, 2.9737, 2.9605, 2.9508, 2.9473, 2.9405, 2.9387, 2.937, 2.9349, 2.9323, 2.9255, 2.9002, 2.8995, 2.8802, 2.8564, 2.8207, 2.8197, 2.7961, 2.7953, 2.7933, 2.7828, 2.7815, 2.7685, 2.7763, 2.5852, 2.663, 2.3783, 2.5716, 2.1339, 2.0696, 1.7919, 2.4474, 2.3112, 1.0432, 1.0599, 1.9009, 2.2046, 0.6764, 1.9557, 0.4791, -3.0127, 0.4112, -0.4284, 3.4515, 3.3623, 3.1907, 3.1669, 3.1655, 3.1115, 3.0912, 3.0853, 3.0724, 3.0286, 3.0189, 3.0176, 3.0175, 3.0078, 3.0037, 3.001, 3.0005, 2.9931, 2.9515, 2.9478, 2.9325, 2.9108, 2.8891, 2.8803, 2.8768, 2.8715, 2.8691, 2.8626, 2.8448, 2.8334, 2.8288, 2.8149, 2.8251, 2.6785, 2.6592, 2.6123, 2.696, 2.7414, 2.6892, 2.524, 2.4139, 2.6606, 1.8785, 2.4786, 2.4785, 2.5565, 2.3676, 1.791, 2.42, 2.0707, 1.2602, 1.7706, 2.0912, 1.3268, 1.2722, 1.0664, 0.7574, 1.4457]}, \"token.table\": {\"Topic\": [1, 3, 2, 1, 2, 3, 1, 2, 3, 3, 2, 2, 1, 2, 5, 1, 2, 1, 3, 1, 2, 3, 1, 1, 2, 1, 1, 1, 3, 1, 1, 1, 2, 3, 4, 1, 2, 3, 1, 2, 3, 2, 3, 2, 2, 3, 1, 2, 5, 1, 2, 3, 1, 2, 4, 1, 2, 4, 2, 3, 2, 1, 2, 3, 1, 2, 3, 2, 1, 2, 3, 2, 2, 3, 5, 2, 2, 1, 2, 3, 2, 1, 3, 1, 1, 2, 3, 1, 2, 3, 1, 2, 1, 2, 3, 3, 3, 1, 1, 2, 1, 2, 4, 2, 1, 2, 3, 1, 1, 1, 2, 1, 1, 1, 2, 2, 1, 1, 2, 3, 1, 2, 1, 1, 2, 3, 2, 2, 2, 3, 1, 1, 2, 2, 2, 1, 2, 4, 3, 2, 1, 2, 4, 2, 3, 1, 2, 3, 1, 3, 1, 2, 2, 1, 2, 1, 3, 3, 2, 2, 2, 3, 1, 3, 3, 1, 2, 5, 1, 2, 3, 2, 2, 1, 1, 2, 3, 1, 2, 4, 2, 2, 3, 2, 3, 1, 2, 3, 1, 3, 2, 1, 3, 2, 3, 3, 1, 2, 1, 2, 3, 1, 2, 4, 1, 2, 3, 2, 2, 3, 1, 3, 1, 2, 3, 2, 1, 2, 3, 1, 1, 1, 2, 1, 2, 3, 1, 1, 2, 1, 2, 3, 1, 3, 1, 2, 3, 1, 2, 3, 1, 3, 1, 2, 3, 2, 1, 2, 3, 2, 1, 1, 2, 1, 2, 1, 5, 2, 1, 2, 3, 4, 1, 2, 3, 2, 2, 1, 1, 1, 2, 1, 3, 1, 2, 3, 5, 2, 1, 3, 4, 1, 1, 2, 3, 1, 1, 2, 1, 2, 2, 2, 1, 2, 1, 1, 2, 3, 1, 1, 3, 3, 2, 3, 1, 2, 3, 1, 2, 2, 3, 4, 3, 2, 1, 2, 2, 2, 2, 1, 2, 2, 1, 2, 1, 1, 1, 2, 3, 2, 1, 2, 1, 2, 3, 1, 2, 4, 1, 1, 3, 4, 2, 2, 1, 2, 3, 3, 3, 1, 2, 2, 2, 2, 4, 1, 1, 2, 3, 2, 1, 2, 3, 2, 3, 1, 1, 2, 3, 4, 1, 2, 3, 5, 4, 1, 2, 3, 1, 1, 1, 1, 2, 3, 2, 1, 2, 1, 2, 3, 1, 2, 1, 1, 3, 5, 1, 2, 5, 3, 1, 2, 3, 2, 1, 2, 3, 5, 1, 2, 4, 1, 2, 2, 1, 1, 3, 1, 2, 2, 1, 2, 2, 5, 2, 1, 1, 2, 3, 1, 2, 3, 4, 1, 2, 1, 2, 3, 1, 2, 3, 1, 1, 1, 2, 3, 2, 1, 2, 3, 1, 2, 3, 4, 5, 1, 5, 1, 1, 1, 1, 3, 1, 3, 1, 2, 2, 3, 1, 2, 3, 5, 1, 2, 5, 3, 2, 1, 2, 2, 1, 2, 4, 3, 1, 3, 2, 1, 2, 3, 1, 2, 3, 1, 2, 1, 2, 1, 2, 3, 1, 2, 1, 2, 3, 2, 3, 3, 3, 1, 1, 2, 3, 1, 1, 2, 3, 4, 1, 3, 4, 2, 3, 2, 1, 3, 2, 1, 2, 1, 2, 1, 2, 3, 4, 1, 2, 1, 2, 3, 4, 1, 1, 2, 3, 1, 2, 3, 3, 4, 1, 1, 2, 4, 1, 2, 1, 3, 2, 3, 2, 1, 2, 3, 1, 2, 1, 2, 3, 1, 2, 3, 1, 3, 3, 2, 3, 3, 1, 1, 2, 3, 1, 2, 3, 1, 2, 3, 4, 2, 2, 1, 2, 3, 3, 1, 2, 2, 1, 1, 3, 2, 3, 1, 2, 3, 2, 3, 3, 1, 2, 3, 1, 2, 3, 5, 2, 1, 1, 2, 3, 4, 1, 2, 3, 1, 2, 1, 2, 1, 2, 1, 1, 1, 4, 2, 2, 1, 3, 5, 3, 1, 1, 1, 2, 3, 4, 1, 2, 1, 1, 2, 4, 2, 1, 1, 2, 3, 1, 3, 1, 2, 3, 1, 4, 2, 1, 2, 2, 2, 1, 2, 3, 1, 2, 3, 4, 1, 2, 3, 4, 2, 1, 1, 1, 2, 3, 1, 1, 1, 2, 4, 3, 1, 4, 2, 1, 1, 2, 1, 1, 2, 2, 3, 1, 2, 2, 1, 3, 2, 3, 2, 4, 1, 2, 3, 1, 3, 2, 1, 2, 3, 1, 2, 1, 3, 3, 3, 1, 2, 1, 1, 2, 1, 2, 5, 1, 2, 2, 3, 1, 2, 2, 1, 2, 3, 1, 2, 1, 2, 1, 3, 3, 3, 1, 3, 1, 2, 3, 3, 1, 2, 3, 2, 3, 4, 2, 2, 1, 2, 1, 2, 1, 4, 3, 1, 1, 1, 2, 2, 1, 4, 3, 1, 1, 2, 3, 2, 1, 3, 2, 1, 2, 1, 2, 1, 2, 5, 1, 1, 2, 1, 2, 3, 2, 3, 1, 2, 3, 2, 2, 2, 2, 2, 1, 3, 3, 2, 1, 2, 3, 1, 2, 1, 2, 3, 1, 2, 3, 1, 3, 2, 1, 3, 1, 1, 1, 2, 3, 1, 3, 5, 1, 1, 3, 3, 2, 1, 2, 3, 1, 3, 3, 2, 4, 2, 2, 3, 2, 2, 2, 1, 3, 1, 3, 2, 1, 2, 3, 4, 2, 1, 2, 3, 2, 2, 1, 4, 1, 2, 3, 1, 1, 3, 1, 2, 3, 4, 1, 2, 3, 3, 1, 1, 3, 1, 2, 3, 5, 1, 3, 5, 3, 1, 2, 3, 2, 1, 1, 3, 2, 1, 2, 1, 2, 1, 1, 1, 2, 3, 4, 1, 1, 2, 3, 1, 1, 1, 2, 3, 2, 2, 1, 2, 3, 2, 1, 2, 4, 2, 3, 1, 2, 1, 2, 3, 4, 2, 1, 2, 3, 1, 3, 3, 2, 1, 2, 1, 2, 1, 2, 3, 1, 2, 1, 1, 3, 1, 2, 3, 4, 2, 1, 2, 3, 2, 1, 3, 1, 2, 3, 3, 1, 1, 2, 5, 3, 1, 2, 1, 2, 3, 3, 3, 1, 2, 1, 2, 3, 2, 3, 1, 2, 3, 1, 2, 2, 1, 2, 1, 2, 2, 3, 4, 3, 1, 1, 2, 1, 1, 2, 1, 2, 2, 1, 1, 2, 2, 3, 1, 3, 3, 1, 1, 3, 2, 3, 2, 3, 2, 4, 1, 2, 3, 2, 1, 1, 3, 1, 2, 1, 2, 2, 1, 1, 3, 1, 1, 3, 1, 2, 3, 1, 3, 1, 3, 2, 1, 1, 2, 1, 2, 2, 4, 1, 3, 1, 1, 3, 1, 2, 3, 1, 3, 1, 2, 3, 3, 3, 1, 2, 1, 3, 2, 1, 2, 3, 2, 3, 4, 1, 1, 3, 1, 2, 1, 2, 3, 1, 2, 3, 1, 3, 1, 2, 1, 2, 1, 2, 1, 2, 3, 3, 3, 1, 2, 3, 1, 1, 2, 2, 3, 4, 3, 4, 2, 5, 1, 2, 1, 1, 2, 3, 1, 3, 1, 2, 3, 1, 2, 3, 2, 1, 2, 2, 3, 4, 1, 3, 2, 2, 3, 1, 2, 3, 1, 2, 3, 2, 1, 3, 3, 2, 3, 1, 1, 2, 2, 2, 1, 3, 1, 1, 3, 1, 2, 3, 1, 2, 3, 4, 1, 2, 3, 2, 2, 1, 2, 1, 2, 3, 5, 1, 2, 2, 3, 2, 4, 1, 2, 3, 5, 1, 2, 3, 1, 2, 1, 1, 3, 2, 1, 1, 2, 2, 1, 2, 5, 2, 3, 1, 3, 2, 2, 3, 1, 2, 3, 1, 1, 1, 2, 3, 2, 3, 2, 3, 2, 3, 5, 1, 2, 3, 1, 3, 1, 2, 3, 3, 1, 2, 3, 1, 1, 2, 2, 3, 1, 3, 1, 3, 1, 2, 1, 3, 4, 5, 3, 2, 2, 3, 3, 1, 1, 2, 1, 1, 1, 1, 1, 2, 4, 2, 2, 1, 2, 1, 1, 4, 3, 2, 1, 1, 2, 1, 1, 2, 2, 3, 1, 3, 1, 1, 2, 3, 1, 2, 3, 3, 2, 1, 1, 2, 1, 1, 3, 1, 1, 2, 3, 4, 1, 2, 1, 1, 2, 1, 2, 3, 1, 1, 2, 1, 2, 3, 5, 2, 4, 1, 2, 4, 5, 1, 2, 1, 3, 3, 1, 3, 2, 3, 1, 2, 3, 3, 1, 2, 3, 1, 2, 2, 3, 2, 3, 1, 2, 4, 3, 3, 2, 3, 2, 1, 2, 3, 1, 1, 1, 2, 2, 1, 2, 1, 2, 3, 1, 2, 3, 1, 2, 3, 1, 2, 3, 1, 3, 1, 2, 3, 1, 2, 3, 1, 3, 1, 2, 3, 3, 1, 2, 3, 2, 2, 1, 2, 1, 2, 3, 1, 3, 3, 1, 2, 3, 5, 2, 3, 1, 3, 3, 1, 2, 3, 1, 2, 3, 1, 2, 1, 2, 3, 1, 2, 1, 3, 1, 2, 3, 2, 5, 2, 1, 2, 1, 3, 1, 1, 1, 2, 4, 2, 3, 2, 2, 3, 1, 3, 1, 1, 2, 3, 1, 2, 1, 3, 1, 1, 2, 2, 2, 1, 2, 3, 2, 2, 2, 1, 3, 1, 2, 1, 2, 1, 2, 3, 1, 1, 1, 2, 1, 2, 3, 1, 1, 2, 3, 1, 2, 1, 2, 5, 1, 1, 2, 1, 2, 1, 2, 3, 1, 3, 1, 2, 3, 1, 2, 3, 2, 4, 1, 2, 3, 2, 1, 3, 1, 2, 3, 4, 1, 2, 3, 2, 1, 3, 4, 1, 2, 3, 1, 2, 3, 1, 3, 1, 2, 3, 1, 3, 1, 3, 1, 2, 1, 2, 2, 3, 5, 3, 1, 2, 1, 2, 3, 4, 1, 1, 2, 3, 1, 2, 3, 4, 1, 2, 3, 3, 4, 2, 3, 1, 3, 2, 1, 3, 1, 2, 3, 3, 1, 2, 3, 2, 2, 1, 2, 3, 4, 1, 2, 3, 1, 2, 2, 1, 2, 4, 1, 3, 1, 2, 2, 1, 2, 2, 3, 2, 4, 1, 1, 3, 1, 2, 3, 1, 1, 2, 3, 1, 2, 3, 1, 3, 1, 2, 2, 1, 2, 2, 3, 4, 5, 3, 1, 2, 1, 3, 3, 1, 1, 2, 1, 2, 1, 2, 1, 1, 2, 1, 2, 3, 2, 3, 1, 2, 3, 1, 2, 3, 1, 2, 1, 2, 3, 4, 3, 2, 3, 1, 2, 3, 2, 2, 1, 1, 1, 2, 3, 4, 1, 2, 3, 1, 2, 3, 3, 2, 3, 2, 3, 1, 1, 2, 3], \"Freq\": [0.6068541559781725, 0.8702258444396516, 0.7051753806049151, 0.8382502712610373, 0.1445259088381099, 0.02890518176762198, 0.3300231496878501, 0.6270439844069152, 0.033002314968785015, 0.8702259381314295, 0.7323908039918036, 0.8681430282347676, 0.5086444316640218, 0.2543222158320109, 0.2543222158320109, 0.5819709668867563, 0.6070951023147586, 0.5175137656543589, 0.5175137656543589, 0.488334714304763, 0.2092863061306127, 0.3023024421886628, 0.5555169233016837, 0.6339501221407629, 0.6359727362058133, 0.9165302648183776, 0.8570776205160738, 0.6657440035104637, 0.8001939535657743, 0.6665094969860393, 1.0434756841148907, 0.03040548513032263, 0.8817590687793564, 0.07094613197075281, 0.020270323420215088, 0.15728391380997328, 0.13106992817497773, 0.7077776121448797, 0.19128429077171616, 0.3825685815434323, 0.3825685815434323, 0.11020590414737043, 0.8816472331789634, 0.6317840487300487, 0.9685737956526218, 0.05697492915603657, 0.2631212801485755, 0.6578032003714387, 0.04385354669142925, 0.7332214177929107, 0.16864092609236947, 0.0953187843130784, 0.23233934442042786, 0.23233934442042786, 0.4646786888408557, 0.2820851915214259, 0.42312778728213885, 0.2820851915214259, 0.9468418262308709, 0.09468418262308709, 0.7834281092254434, 0.5541961241636234, 0.31173531984203817, 0.13854903104090585, 0.7483671792522794, 0.21047826916470355, 0.02338647435163373, 0.9661875254615233, 0.3123684467769879, 0.3123684467769879, 0.35141450262411134, 0.5650906065175093, 0.4086521387170111, 0.4086521387170111, 0.4086521387170111, 0.767627333334162, 1.013483377966031, 0.7334234351772645, 0.19300616715191168, 0.06433538905063724, 0.7894949971630717, 0.7542173528837596, 0.6102127955017109, 0.9024607635991393, 0.6663942780637064, 0.18010656163883956, 0.14408524931107167, 0.8997590440406472, 0.035990361761625886, 0.035990361761625886, 0.03741964269462428, 0.9542008887129191, 0.443635272479267, 0.443635272479267, 0.11090881811981675, 1.0664419504088438, 0.7299624247344197, 0.901989528466263, 0.40915519054076477, 0.40915519054076477, 0.8419382613933556, 0.19538729230364585, 0.7815491692145834, 0.6737566067703992, 0.446030120660218, 0.446030120660218, 0.12743717733149088, 0.8533029979936503, 0.9443953146272901, 0.861990298516559, 0.8961915327291027, 0.46335381531948483, 0.83606864197971, 0.7038731578781019, 0.29517261459404276, 0.6680785999372774, 0.7322484336865797, 0.06477416001189547, 0.1079569333531591, 0.842064080154641, 0.423445761746302, 0.423445761746302, 0.7157131885754484, 0.1973852303665166, 0.7895409214660664, 0.01973852303665166, 0.9921480634303761, 0.805745184124786, 0.9953175488723645, 0.004112882433356878, 1.009136708178517, 0.7421819532122461, 0.8186943698322857, 0.5281015921001418, 0.9609221449366661, 0.2407545553183284, 0.2407545553183284, 0.4815091106366568, 0.9271036117132275, 0.6146578639465988, 0.21087517604598754, 0.4217503520919751, 0.3163127640689813, 1.0099851737518628, 0.9350780593611769, 0.4074072207617368, 0.4074072207617368, 0.13580240692057893, 1.0300631669610665, 0.5553479432028883, 0.6082921207316071, 0.6082921207316071, 0.9320306219438994, 0.47836224108048786, 0.47836224108048786, 0.6764043213740845, 0.33820216068704223, 0.7805524527232609, 0.897183759876359, 0.7099942388628777, 0.5268866436152524, 0.5268866436152524, 0.4526293141811908, 0.4526293141811908, 0.7938135578635547, 0.13394075455570567, 0.6697037727785283, 0.13394075455570567, 0.49061331441392536, 0.24530665720696268, 0.24530665720696268, 0.8084433392982596, 0.7378911527059203, 0.7411340406961481, 0.8145708633826387, 0.9327004059118379, 1.0056906803428052, 0.4952724452720121, 0.4952724452720121, 0.09905448905440242, 0.6149331212243473, 0.5370853250448474, 0.2685426625224237, 0.9249739755151765, 0.04868284081658824, 0.3821738495741245, 0.5944926548930825, 0.021231880531895803, 0.7505826807853961, 0.6174614358550508, 0.7565530702002546, 0.9984546544628923, 0.8744886005065582, 0.30319602440195653, 0.6063920488039131, 0.8501813170667689, 0.5410840093561641, 0.5410840093561641, 0.8159771886326086, 0.17629136791445246, 0.005036896226127213, 0.014210580553789237, 0.895266574888722, 0.08526348332273542, 0.8985167597234406, 0.06417976855167433, 0.032089884275837165, 0.8375296467498929, 1.002254724645332, 0.9616195095243774, 0.4517047371872703, 0.4517047371872703, 0.6987200804889091, 0.1397440160977818, 0.1397440160977818, 0.6803948653269865, 0.5556490811968725, 0.1111298162393745, 0.3333894487181235, 0.9672236236245308, 0.7428610549733634, 0.801944390222306, 0.2004860975555765, 0.6651881703056528, 0.7655981972729592, 0.1913995493182398, 0.49986166183048, 0.6236562525452081, 0.31182812627260403, 0.4257549799490728, 0.09255543042371148, 0.4627771521185574, 0.7363789381240812, 0.7347915965759869, 0.7111289314456254, 0.2807756723324104, 0.701939180831026, 0.06635496306363778, 0.13270992612727556, 0.8294370382954723, 0.4115388825148892, 0.4115388825148892, 0.31376706820524236, 0.31376706820524236, 0.31376706820524236, 0.7050094896869286, 0.5214728410577867, 0.1738242803525956, 0.1738242803525956, 0.5887680091626362, 0.8134102843226434, 0.5352571946685623, 0.3568381297790415, 0.3870296287394579, 0.3870296287394579, 0.3164199274705285, 0.632839854941057, 0.7272728435007957, 0.04207930581960128, 0.7153481989332218, 0.12623791745880383, 0.12623791745880383, 0.8467924811915721, 0.14113208019859536, 0.7615543910785904, 0.8416913099429801, 0.6970212937040539, 0.4860162107353742, 0.8320805989345966, 0.7678230349441962, 0.7900842552708467, 0.40780834814899314, 0.40780834814899314, 0.19605339599485272, 0.39210679198970544, 0.2940800939922791, 0.09802669799742636, 0.7841191830292307, 0.3333433170338463, 0.3333433170338463, 0.3333433170338463, 0.6182149861470783, 0.4048018995955871, 0.20240094979779355, 0.20240094979779355, 0.6636818832801534, 0.951551509345432, 0.03964797955605966, 0.45961904769525985, 0.45961904769525985, 0.47685728593048093, 0.756845049951581, 0.2899579651956987, 0.5799159303913974, 0.6769797532348897, 0.6283857741247645, 0.626626017991136, 0.9713989895397824, 0.5270637634520706, 0.26538056221039064, 0.7961416866311719, 0.6012243040193136, 0.5342710993429179, 0.5342710993429179, 0.10565093781127637, 0.07043395854085091, 0.8275990128549983, 0.9051067477766703, 0.09051067477766703, 0.13970736114339516, 0.13970736114339516, 0.6985368057169759, 0.6214521583510014, 0.7140814946763213, 0.943462186367998, 0.04813582583510193, 1.0030934981159387, 0.8533733109808164, 0.7626820841653617, 0.4549862170901475, 0.4549862170901475, 0.7520149848426707, 0.5199052096552386, 0.5199052096552386, 0.5937058776940547, 0.7455700993459331, 0.16825307988891242, 0.33650615977782483, 0.5047592396667373, 0.9389692797520197, 0.7738634721481897, 0.19346586803704743, 0.6343511965079431, 0.27752864847222514, 0.07929389956349289, 0.6521982339685238, 0.1863423525624354, 0.0931711762812177, 0.8631966604902025, 0.8939228663653369, 0.021283877770603258, 0.08513551108241303, 0.7423162245705563, 0.791206263994212, 0.818519262429562, 0.14691371376940854, 0.020987673395629795, 0.6637886765210316, 0.6170340110013874, 0.49544638580289646, 0.49544638580289646, 0.7654110789143829, 0.5414093660624256, 0.381574800946291, 0.5087664012617213, 0.5007157671382569, 0.7494419765227358, 0.14988839530454717, 0.07494419765227359, 0.8002221750664489, 0.3100581701006703, 0.6201163402013407, 0.9262308427982923, 0.5098594305279323, 0.5098594305279323, 0.8291560350738272, 0.16790573925223892, 0.33581147850447784, 0.27984289875373153, 0.2238743190029852, 0.42162706897778424, 0.21081353448889212, 0.26351691811111516, 0.05270338362222303, 0.43832180625848405, 0.035086000374565884, 0.7309583411367893, 0.23390666916377256, 0.7011907367155228, 0.6374182047233073, 0.7435124002388149, 0.43652255968757836, 0.21826127984378918, 0.21826127984378918, 0.7055547426762893, 0.6718009672564322, 0.8476281524134135, 0.3406467193067729, 0.18924817739265162, 0.47312044348162907, 0.772532697662551, 0.980188891785306, 0.666048081620977, 0.8350670145416168, 0.05219168840885105, 0.1043833768177021, 0.39326509507629126, 0.19663254753814563, 0.19663254753814563, 0.8302359325873521, 0.31713527945420705, 0.31713527945420705, 0.31713527945420705, 0.6394283204343499, 0.368900562474435, 0.4743007231814164, 0.05270008035349071, 0.05270008035349071, 0.14332587158723656, 0.14332587158723656, 0.7166293579361828, 0.9021102303309159, 0.8866765333600027, 0.6834607730301175, 0.6420136501390756, 0.2188641977269489, 0.7816578490248175, 0.5106569283063693, 0.25532846415318466, 0.6473105030474514, 0.32889480369289126, 0.6577896073857825, 0.5059883855187142, 0.5059883855187142, 0.6457774751689189, 0.7561205644392586, 0.6608208299116294, 0.22027360997054313, 0.5993826915857644, 0.13849693045097566, 0.6232361870293904, 0.06924846522548783, 0.17312116306371955, 0.42591571907638004, 0.42591571907638004, 0.2777969363713857, 0.41669540455707854, 0.2777969363713857, 0.7658964852784192, 0.10941378361120274, 0.145885044814937, 0.6262586208183686, 0.724040398874936, 0.029508031841585517, 0.7868808491089471, 0.18688420166337494, 0.5658845046948937, 0.9129394156874796, 0.5934377523563596, 0.5934377523563596, 0.06184860482184377, 0.21647011687645318, 0.30924302410921883, 0.30924302410921883, 0.09277290723276566, 0.5971108845745828, 0.2985554422872914, 0.83754578956434, 0.7784841065702663, 0.6287035380530475, 0.5340925006391113, 0.760891658860211, 0.6090875000565555, 0.6090875000565555, 0.4167100605329022, 0.4167100605329022, 0.7424684394217247, 0.9245706341543704, 0.7139875527663645, 0.41988645965634064, 0.41988645965634064, 0.20994322982817032, 0.38922570760770875, 0.38922570760770875, 0.38922570760770875, 0.6981487622706047, 0.9711356500714831, 0.31974220621236216, 0.6394844124247243, 0.9802469571132347, 0.5488953749362527, 0.10977907498725054, 0.3293372249617516, 0.7154159968866455, 0.634312204324454, 0.8591587981162119, 0.7964450382852575, 0.3923810737272889, 0.3923810737272889, 0.3923810737272889, 0.14270453913207576, 0.18347726459838312, 0.6727499701940715, 0.22799016664254385, 0.6839704999276315, 0.46245763675391227, 0.46245763675391227, 0.7922018365069524, 0.07922018365069525, 0.1584403673013905, 0.19289595952822006, 0.7715838381128802, 0.7325598708186513, 0.853095734911035, 0.9585288335999365, 0.6788264852781902, 0.7791018859580144, 0.7906975731296153, 0.9331759042888886, 0.637668221990438, 0.5387416295491649, 0.2993009053050916, 0.11972036212203666, 0.8170590091893978, 0.48347125996873436, 0.40059047254552277, 0.0828807874232116, 0.027626929141070535, 0.35643901897601504, 0.35643901897601504, 0.35643901897601504, 0.8103989096653935, 0.7882957043750994, 0.651389842416243, 0.6465113746953476, 0.6238784970941869, 0.6232169510310813, 0.533228825133043, 0.533228825133043, 0.6694776154398546, 0.3347388077199273, 0.06505646338581404, 0.13011292677162808, 0.6830928655510474, 0.09758469507872106, 0.9940097112597059, 0.006116982838521267, 0.25988412549643103, 0.5962047584918123, 0.12229841199832048, 0.01528730149979006, 0.8058038126439728, 0.12502280273576002, 0.07144160156329145, 0.8037180175870288, 0.4030586207201923, 0.5129836990984266, 0.10992507837823426, 0.5501404002700869, 0.5501404002700869, 0.8126581087649105, 0.8964390499512419, 0.22410976248781048, 0.8582140181547692, 0.7940196515317268, 0.959258432829502, 0.14517576102771337, 0.8710545661662802, 0.7583427086426158, 0.9130955072331786, 0.6335539965203731, 0.48801641014569463, 0.48801641014569463, 0.605256021495999, 0.6876250231930708, 0.29469643851131605, 0.176754807048715, 0.7462980742056855, 0.07855769202165111, 0.3305744416179225, 0.3305744416179225, 0.3305744416179225, 0.5423051286439444, 0.8796959312361325, 1.1670807201024054, 0.3914929884701719, 0.3914929884701719, 0.9127243593396154, 0.5516151232094444, 0.41764445994018456, 0.05447536434002408, 0.5084367338402247, 0.5586148960022674, 0.2793074480011337, 0.13965372400056686, 0.5167391384983968, 0.23488142659018035, 0.14092885595410823, 0.14092885595410823, 0.792376156388966, 0.8695307219816069, 0.7228523369804073, 0.5219647808908802, 0.5219647808908802, 0.9368791285110634, 0.6539624511788239, 0.6539624511788239, 0.954595303090855, 0.8115332166843153, 1.0686666863325733, 0.9229481528607717, 0.7216614601374509, 0.5245105785951378, 0.17101958549555146, 0.4275489637388787, 0.4275489637388787, 0.816634427525339, 0.2722114758417797, 0.7977309256099394, 0.538526140257128, 0.38013609900503154, 0.0633560165008386, 0.5456102571648245, 0.24974790709443478, 0.49949581418886957, 0.24974790709443478, 0.6155157982236964, 0.8441443257539011, 0.523927098089351, 0.34928473205956734, 0.17464236602978367, 0.08732118301489183, 0.8113930035512429, 0.15777086180163058, 0.02253869454309008, 0.7439235877407834, 0.716905428205896, 0.24190170022823698, 0.7429837935581565, 0.33192181704726076, 0.6638436340945215, 0.7161410158316948, 0.9510169641230828, 0.4610998299986335, 0.4610998299986335, 0.7965495146095988, 0.7876959551246959, 0.5489464806215304, 0.2744732403107652, 0.2744732403107652, 0.6922838571387553, 0.774348445594551, 0.692270521934504, 0.30012436277966786, 0.6752798162542527, 0.01875777267372924, 0.01875777267372924, 0.5517939476143192, 0.9244496036558495, 0.7407174235522331, 0.7313457364067881, 0.2665818124095524, 0.6931127122648363, 0.9448821038832408, 0.9167543610949662, 0.46586238863619184, 0.3623374133837048, 0.1552874628787306, 0.6033045945515358, 0.5959550985074964, 0.10554400496087758, 0.8654608406791963, 0.021108800992175516, 0.7671037103824624, 0.25570123679415413, 0.5645601993196312, 0.5030450749361481, 0.5030450749361481, 0.9853197371799518, 0.9001706865201458, 0.6449519038737894, 0.8879071583433782, 0.08456258650889316, 0.4033395336350728, 0.33611627802922733, 0.06722325560584547, 0.26889302242338187, 0.766220840896233, 0.12121545680205544, 0.3636463704061663, 0.48486182720822174, 0.6690702732810839, 0.7737063486456965, 0.7691495492760113, 0.7013335402491498, 0.7603692874537381, 0.6588651724118173, 0.9720643297721203, 0.9716154816575275, 0.4954254327012905, 0.24771271635064526, 0.24771271635064526, 0.8555901411294188, 0.39360394919349495, 0.5904059237902424, 1.1270653092759715, 0.5686873433532053, 0.3540981101282437, 0.3540981101282437, 0.7840128337217667, 0.522511812610718, 0.522511812610718, 0.3070052037246267, 0.6140104074492534, 0.309481159288159, 0.618962318576318, 1.0513849128145312, 0.8047145755448137, 0.13411909592413562, 0.11135000979661064, 0.8908000783728851, 0.2143424524107593, 0.8573698096430372, 0.6695507238237367, 0.2714394826312446, 0.05428789652624892, 0.5119177648334783, 0.5119177648334783, 0.8238617319484469, 0.010846959704642986, 0.043387838818571944, 0.9328385345992968, 0.9162081135691812, 0.057263007098073825, 0.7836718637439387, 0.7815360497615553, 1.0080029910695643, 0.8965579027724996, 0.9002915331739666, 0.985893864906746, 0.5843996260928489, 0.8252167870290292, 0.7979180709007645, 0.4571765302836206, 0.4571765302836206, 0.11429413257090515, 0.6014665114093832, 0.8058216410579252, 0.7793582390448833, 0.19483955976122083, 0.6639060279528007, 0.7159401111050836, 0.6100668700053232, 0.14361566094909392, 0.047871886983031305, 0.8377580222030478, 0.7020712537386467, 0.9314170240274893, 0.9603678351736208, 0.19207356703472417, 0.40342485884406254, 0.40342485884406254, 0.6881022242256881, 0.60793206256795, 0.7713627304902239, 0.9544707719295301, 0.4114064073095104, 0.3291251258476083, 0.24684384438570622, 0.6565753787964624, 0.2935826637886169, 0.5871653275772338, 0.7884657552961885, 0.48289147856547904, 0.33802403499583533, 0.1931565914261916, 0.6755672872901984, 0.663129048826113, 0.3571705900823792, 0.3571705900823792, 0.6373797991749258, 0.3186898995874629, 0.7110945610002072, 0.3555472805001036, 0.9371052059373203, 0.7517812166328034, 0.9538150427847836, 0.841977424811283, 0.12028248925875472, 0.5302416368396414, 0.41406373947317987, 0.41406373947317987, 0.5519277372174514, 0.7717784192297108, 0.14560117797305736, 0.3154692189416243, 0.5338709859012103, 1.0533438409948288, 0.40934958259921383, 0.40934958259921383, 0.7685202627732974, 0.9468882321916813, 0.05797274890969477, 0.45579146355481165, 0.45579146355481165, 1.0250789365606452, 0.5114203577247901, 0.5114203577247901, 1.0566252605106388, 0.4363482949711818, 0.4363482949711818, 0.1837544452119414, 0.612514817373138, 0.1837544452119414, 0.4456138596852357, 0.4456138596852357, 0.39588928368386966, 0.47506714042064363, 0.15835571347354788, 0.5756456495843533, 0.7789244832184283, 0.9170357842319635, 0.8415198478102172, 0.7850072781962332, 0.3777349118659732, 0.3777349118659732, 0.8865124292772075, 0.994650452041743, 0.34436829103422817, 0.5739471517237136, 0.11478943034474272, 0.7047600439388879, 0.8336634184971317, 0.6421106014371923, 0.32105530071859617, 0.8828337568994543, 0.20308665817630506, 0.6092599745289152, 0.10154332908815253, 0.4852391059225878, 0.6480719533229281, 0.9055352925320607, 1.0278743815192741, 0.8286672297602652, 0.6596963318168924, 0.8397618818910211, 0.4272381733057779, 0.4272381733057779, 0.7333086510093539, 0.3996346687522296, 0.3996346687522296, 0.3996346687522296, 0.8099685609279152, 0.5212618745917909, 0.5212618745917909, 0.9816525303341911, 0.7349516111255952, 0.12284590063333192, 0.36853770189999574, 0.36853770189999574, 1.0365130676998517, 1.015358709866674, 0.5755743915652264, 0.563953604108212, 0.563953604108212, 0.7666208534194556, 0.33800086049872524, 0.6760017209974505, 0.5859131473598366, 0.7573994516604055, 0.8277308114806241, 0.30280626508924763, 0.6056125301784953, 0.5924879336731226, 0.6856042201828629, 0.7818584898274582, 0.26991629816773777, 0.40487444725160665, 0.06747907454193444, 0.26991629816773777, 0.7450567516143957, 0.5685530212435337, 0.9247013483147503, 1.0608561940245536, 0.8065205817126687, 0.7314508820087243, 0.4815683796411638, 0.4815683796411638, 0.26926136025872777, 0.6731534006468195, 0.13463068012936388, 0.8306083116650577, 0.6308457766786911, 0.5692241355057036, 0.06895718087680774, 0.8734576244395648, 0.022985726958935915, 0.022985726958935915, 0.4399825154973276, 0.4399825154973276, 0.1099956288743319, 0.5929281656818094, 0.9508400188348393, 0.7961216971433626, 0.9836246076687676, 0.20011699098980926, 0.20011699098980926, 0.5503217252219754, 0.050029247747452314, 0.3153396894359783, 0.4730095341539674, 0.15766984471798914, 0.5353934271669116, 0.5115181852884848, 0.07307402646978355, 0.43844415881870125, 0.7337187644976296, 0.7798973677413621, 0.745609270737823, 0.6075265713128356, 0.8428434280043843, 0.4777167996227576, 0.5239474576507663, 0.6867505797984349, 0.675253541746937, 0.968181908483211, 0.6230347437677329, 0.748292953824612, 0.13605326433174764, 0.06802663216587382, 0.04535108811058255, 1.0388174143514148, 0.5296986569863117, 0.10593973139726234, 0.31781919419178706, 0.5763327923824946, 0.7353928416172506, 0.014029517005557606, 0.028059034011115213, 0.9540071563779172, 1.061292284351478, 0.8728800715931173, 0.10298329827295839, 0.17163883045493067, 0.7208830879107088, 0.8479693034444488, 0.2625587319982698, 0.2625587319982698, 0.5251174639965396, 0.5200405525251534, 0.5200405525251534, 0.4306733880496528, 0.4306733880496528, 0.3219302512696359, 0.3219302512696359, 0.26827520939136323, 0.05365504187827265, 0.7645300176875877, 0.7057553966010769, 0.23525179886702563, 0.6947064916524105, 0.671409638986536, 0.671409638986536, 0.896610959419059, 0.8146005670403084, 0.8774768731998561, 0.9993023693875926, 0.30377616769509025, 0.6075523353901805, 0.3474094028596232, 0.3474094028596232, 0.3474094028596232, 0.19371392441420768, 0.8100764111866867, 0.7619844716626957, 0.12003223281616564, 0.8802363739852147, 0.20189070454792957, 0.6056721136437887, 0.10094535227396478, 0.10094535227396478, 0.9651190135961938, 0.41700933042205324, 0.41700933042205324, 0.9994667093344335, 0.6545117820538826, 0.47136170441672964, 0.47136170441672964, 0.354246188363097, 0.354246188363097, 0.354246188363097, 0.9013474681365989, 0.6069282858174128, 0.6006230924933736, 0.36037385549602413, 0.06006230924933736, 0.9808997960895598, 0.18783658236091041, 0.8025744882693445, 0.2292755024115743, 0.6180470065007655, 0.14952750157276584, 0.8239124708895117, 0.5961395729089063, 0.503828599536306, 0.503828599536306, 0.11588878200193296, 0.8691658650144972, 0.02897219550048324, 0.5830419224392379, 0.29152096121961896, 0.33126063390460875, 0.17537327677302816, 0.48714799103618933, 0.42598987683981027, 0.42598987683981027, 0.937654648807113, 0.8045880622635299, 0.991606413371877, 0.6110309781902695, 0.30551548909513476, 0.35082281634132845, 0.35082281634132845, 0.4589084451832051, 1.0039560912020764, 0.6132228281009793, 0.8817494702539792, 0.14107991524063668, 0.7569165665254369, 0.7234431317873825, 0.9656054063916703, 0.9379850971305258, 0.03349946775466164, 1.0469762802136338, 0.6791349250025953, 0.7028704939772575, 0.5240606818921293, 0.4967899361883643, 0.7121951150450531, 0.9657272296204825, 1.0196288641805813, 0.8276978371549889, 0.7919058005359275, 0.6120694427335889, 0.4080462951557259, 0.4436048714674008, 0.8872097429348016, 0.30606623810459843, 0.6121324762091969, 0.11679711799558948, 0.8175798259691264, 0.1533852494250713, 0.3067704988501426, 0.6135409977002853, 0.7565193556409229, 0.7212783709607491, 0.585543160103045, 0.2927715800515225, 0.4014814849108798, 0.4014814849108798, 0.25546992158091336, 0.7664097647427401, 0.7557078135332577, 0.8316966330201572, 1.0157531959952066, 0.8850397488977492, 0.4630112869181209, 0.611509736367418, 0.7418977111913998, 0.02141716680975697, 0.9637725064390636, 0.02141716680975697, 0.43246070672342046, 0.43246070672342046, 0.8659403240836149, 0.9216918369688336, 0.8193935224567748, 0.7480185954542616, 1.0476990132010164, 0.7256951593065187, 0.9206636477557556, 0.8546613610800006, 0.4257553189472785, 0.4257553189472785, 0.4212406653467236, 0.4212406653467236, 0.9200173005681621, 0.5202663440162015, 0.5202663440162015, 0.03992709303340352, 0.03992709303340352, 0.918323139768281, 1.1978157592299987, 0.9274270129783819, 0.5271912058518702, 0.5271912058518702, 0.8026995243135179, 0.9062052711956938, 0.5879965501423077, 0.44257204025194696, 0.44257204025194696, 0.11163534689149628, 0.8930827751319702, 0.8333358118055751, 0.05165780635995119, 0.05165780635995119, 0.8781827081191702, 0.41863252149735647, 0.17941393778458134, 0.3588278755691627, 0.7404016907249765, 0.7114070421505256, 0.6777245886312204, 0.7285123916545538, 0.24283746388485128, 0.9901322436194289, 0.9355276098990635, 0.5263702284128615, 0.14098842258521216, 0.7049421129260608, 0.14098842258521216, 0.3896792603421696, 0.3896792603421696, 0.7632073681606487, 0.8018473599876768, 0.283114522559966, 0.566229045119932, 0.2487032403156599, 0.7461097209469797, 0.5394079905654593, 0.26970399528272965, 0.26970399528272965, 0.9769212740300477, 0.8863980453948751, 0.6378434127445244, 0.41685014062172415, 0.8337002812434483, 0.7727397169855349, 0.7504210034106849, 0.25014033447022826, 0.06142000379160048, 0.9213000568740072, 0.03071000189580024, 0.5911820145285801, 0.29559100726429005, 0.31828684093147874, 0.31828684093147874, 0.04672138281362478, 0.9344276562724955, 0.6218191195140275, 0.4995382549197771, 0.29139731536986996, 0.1873268455949164, 0.6947622259883208, 0.8978504598740075, 0.019416538819509874, 0.11649923291705923, 0.8543277080584344, 0.15503545256455503, 0.6201418102582201, 0.31007090512911006, 0.5130751066471629, 0.2919558678364389, 0.5839117356728778, 0.19472646296110868, 0.292089694441663, 0.4868161574027717, 0.7739098995126272, 0.8341143344306563, 0.8984919010237286, 0.8403427718730895, 0.9796932505106603, 0.15200586990432968, 0.8360322844738133, 0.015200586990432969, 0.2886774372582074, 0.6928258494196977, 0.03849032496776098, 0.5898217974253366, 0.959067166700005, 0.7995946522518841, 0.5035308522462763, 0.05223801475578056, 0.9402842656040501, 0.7448862799320428, 0.506412602969374, 0.506412602969374, 0.8650510689973112, 0.879101233239961, 0.4896537048027747, 0.4896537048027747, 0.7631510756730628, 1.0468353687322518, 1.0031840746689102, 0.863147671968251, 0.07846797017893192, 0.02615599005964397, 0.06625996289481785, 0.9077614916590045, 0.006625996289481785, 0.019877988868445357, 0.5223544956730913, 0.26117724783654567, 0.26117724783654567, 0.7310401199738578, 0.5823782588868951, 0.39632688567846197, 0.39632688567846197, 0.7516261938444705, 0.10367257846130627, 0.10367257846130627, 0.025918144615326568, 0.6678168582301883, 0.9159454578654602, 0.518485756395332, 0.7889433994885032, 0.45912696803728686, 0.45912696803728686, 0.44940886594620705, 0.14980295531540233, 0.29960591063080466, 0.14980295531540233, 0.2039199612591754, 0.4078399225183508, 0.4078399225183508, 0.17427834435471182, 0.7842525495962032, 0.9061223804189392, 0.7295026357052878, 0.24316754523509596, 0.970518803949987, 0.829506117034191, 0.44100717336087475, 0.7290026469466566, 0.7206879806995296, 0.6887870337417216, 0.49627724221515523, 0.49627724221515523, 0.30814013871098705, 0.6162802774219741, 0.6766110067433595, 0.5892508769722024, 0.8977107199813277, 0.4564408119269959, 0.4564408119269959, 0.4644258011878321, 0.23221290059391606, 0.2653861721073326, 0.5966608074856115, 0.9161254376133189, 0.35663036628569933, 0.5835769630129625, 0.06484188477921805, 0.5858166984786533, 0.5858166984786533, 0.08148182237961334, 0.8963000461757468, 0.6863924812084732, 0.1715981203021183, 0.1715981203021183, 0.3783081192103853, 0.3783081192103853, 0.8955911424889093, 0.45962869397239076, 0.45962869397239076, 0.3518995622364214, 0.3518995622364214, 0.3518995622364214, 0.935855867262297, 0.48069670053783115, 0.30043543783614446, 0.24034835026891557, 0.8346149625174393, 0.35188315591182573, 0.7037663118236515, 0.44622375921153873, 0.44622375921153873, 1.0244349428787485, 0.7729743981703365, 0.38098254265114556, 0.38098254265114556, 0.620430904040594, 0.7628819282033634, 0.5197299866373702, 0.2598649933186851, 0.12993249665934256, 0.12993249665934256, 0.8073496145812336, 0.6829382925441758, 0.4082816705632616, 0.4082816705632616, 0.7159428027929464, 1.0488403982592365, 0.9832505532739961, 0.9720615635298205, 0.6263302492465992, 0.811381018842973, 0.9209857405813506, 0.7332995662477647, 0.4248882008682898, 0.31866615065121734, 0.2124441004341449, 0.9995224053293601, 0.9476727597322504, 0.782085293314976, 0.9803089666814291, 0.5957779458677738, 0.39521225242698194, 0.39521225242698194, 0.6970422428838844, 0.5579441154266228, 0.6237058829853048, 0.2594932167157381, 0.5189864334314762, 0.704627938530783, 0.7880376898728744, 0.21142474606345407, 0.609277658848493, 0.609277658848493, 0.7649868832192336, 0.852309017464982, 0.6287808039939258, 0.8036979843001173, 0.0999710099802282, 0.8497535848319397, 0.46046400300925416, 0.4486603608082757, 0.4486603608082757, 0.851742356475767, 0.6491873802898509, 0.8908676229856325, 0.43801030391561996, 0.43801030391561996, 0.9359419870260663, 0.04906235123973594, 0.9321846735549828, 0.9396512607506172, 0.32611439053794955, 0.10870479684598318, 0.4348191873839327, 0.16305719526897478, 0.26960648474419474, 0.7258636127728321, 0.8973928664531633, 0.4182013895221757, 0.4182013895221757, 0.6703498264042588, 0.8169986295210425, 0.8416538935020369, 1.0123371154353658, 0.5749366560903252, 0.3449619936541951, 0.5277530755948268, 0.17591769186494224, 0.17591769186494224, 0.17591769186494224, 0.40641841600181966, 0.40641841600181966, 0.17622511302961882, 0.6167878956036659, 0.08811255651480941, 0.08811255651480941, 0.40246380059346204, 0.40246380059346204, 0.263883820335626, 0.791651461006878, 0.6529077053742168, 0.9541879249243677, 0.05963674530777298, 0.7478613428856805, 0.9694910766297309, 0.45344781869735756, 0.1511492728991192, 0.45344781869735756, 0.969816112888552, 0.5275558750869057, 0.3077409271340283, 0.15387046356701414, 0.44613314264559745, 0.44613314264559745, 0.475914966737096, 0.475914966737096, 0.8777551240446965, 0.6429247552011634, 0.6217444104084104, 0.31723610761559773, 0.6344722152311955, 0.934958421141539, 0.5548049293099244, 0.8264713296060732, 0.9716780042657207, 0.9396743557452976, 0.4090900073278741, 0.36950065178001534, 0.2111432295885802, 0.6791811266885267, 0.5001966706793597, 0.9580463024078487, 0.6251729870295023, 0.7628682921851125, 0.6685527732901118, 0.6442006249904572, 0.8079366842840073, 0.1122134283727788, 0.08977074269822304, 0.598226698309067, 0.7151983418816353, 0.9018412355753386, 0.3452896319624448, 0.1726448159812224, 0.5179344479436672, 0.497692469830294, 0.248846234915147, 0.248846234915147, 0.6930878153344777, 0.5599074811423249, 0.41138115301286443, 0.5485082040171526, 0.6776531813845986, 0.054029450195818104, 0.9185006533289078, 0.027014725097909052, 0.14300082718590118, 0.8580049631154072, 0.02213556256174481, 0.08854225024697925, 0.8632869399080477, 0.8186488260073932, 0.8831374491116321, 0.09634226717581441, 0.016057044529302403, 0.7318506728156216, 0.5256190118248997, 0.5214145927280232, 0.5214145927280232, 0.3006217390789969, 0.20041449271933126, 0.5010362317983281, 0.5708627933361007, 0.9602546321886293, 1.0527452758440095, 0.5212963323941683, 0.06950617765255578, 0.34753088826277884, 0.03475308882627789, 0.7924569377968299, 0.8156737934481404, 0.5821253657266745, 0.9575524769144617, 0.6797400721996318, 0.6322058537400604, 0.27094536588859736, 0.09031512196286579, 0.4165984081049169, 0.4165984081049169, 0.20829920405245844, 0.36233270914760507, 0.5434990637214077, 0.24131334630574316, 0.24131334630574316, 0.48262669261148633, 0.7045332321984024, 0.7020364561401659, 0.4380838023211084, 0.4380838023211084, 0.48397147020917874, 0.24198573510458937, 0.24198573510458937, 0.7110694577085783, 0.23702315256952608, 0.7332205280442731, 0.6650385401826137, 0.9977454682187543, 0.4580773220485382, 0.4580773220485382, 0.9695711614190096, 0.6658950385219297, 0.9219906485470504, 0.3735759162974094, 0.3735759162974094, 0.9002981519976588, 0.7410552156443387, 0.8999014118901664, 0.407606830288703, 0.407606830288703, 0.9398203064532651, 0.8905660643923051, 0.9108598343896052, 0.7764521380420354, 0.05809848160895617, 0.9295757057432987, 0.7082090751469282, 0.23606969171564274, 0.9251339856398461, 0.8592744350226174, 0.7987631519614462, 0.610242512580769, 0.3051212562903845, 0.7661945676310047, 0.9693532985246764, 0.6263651029163742, 0.3131825514581871, 0.06263651029163742, 0.7232666439575596, 0.9835457759144962, 0.5466491345093595, 0.386096195765431, 0.386096195765431, 0.584898604812287, 0.43867395360921524, 0.3652848720678058, 0.7305697441356116, 0.060720999211438115, 0.09108149881715717, 0.8500939889601336, 0.7170320183303597, 0.7446501582086121, 0.3473821671898728, 0.3473821671898728, 0.7226092017390506, 0.09032615021738133, 0.18065230043476266, 0.4844603334391559, 0.20809246116397012, 0.6242773834919103, 0.10404623058198506, 0.026974975812355965, 0.9710991292448147, 0.4926826048292425, 0.4926826048292425, 0.044789327711749316, 1.1711048915617128, 0.7374790799286157, 0.18436976998215393, 0.29313293820593955, 0.5862658764118791, 0.40762750385516167, 0.244576502313097, 0.32610200308412934, 0.5875820282670384, 0.5875820282670384, 0.22600069001642997, 0.45200138003285995, 0.22600069001642997, 0.6292911667603734, 0.3146455833801867, 0.7243950731792065, 0.5812628316794353, 0.3875085544529568, 0.5625532527594523, 0.28848884756894994, 0.14424442378447497, 0.7152088875087385, 0.8449950036226956, 0.16899900072453913, 0.8690826257139739, 0.3569957008409115, 0.475994267787882, 0.1189985669469705, 0.33767554250767146, 0.4052106510092057, 0.2701404340061372, 0.9455512097870786, 0.32271406803445823, 0.32271406803445823, 0.32271406803445823, 0.523440112365637, 0.2093760449462548, 0.2093760449462548, 0.67601177494933, 0.7779789177800627, 0.25932630592668754, 0.8515587791622966, 1.0711829407911777, 0.4293196962088298, 0.4906510813815198, 0.0817751802302533, 0.6886210378371516, 0.22954034594571718, 0.8114768631009364, 0.27049228770031214, 0.25847654216870797, 0.775429626506124, 0.9802649555977916, 0.020856701182931738, 0.7317483211508472, 0.4370131096362028, 0.4370131096362028, 1.0238757256365782, 0.19509537410615307, 0.7803814964246123, 0.7863830110054593, 0.14877516424427606, 0.04250718978407888, 0.02125359489203944, 0.5652127776499914, 0.516956911897009, 0.1723189706323363, 0.3446379412646726, 0.12208677717483239, 0.18313016576224858, 0.48834710869932957, 0.24417355434966478, 0.11476469515641906, 0.12193748860369526, 0.7674888988585525, 0.348440473398223, 0.348440473398223, 0.5484419415235332, 0.8316275415175463, 0.6454746400909402, 0.7098002366966641, 0.768452729548976, 0.6584879308222636, 1.0021772754926304, 0.5615055727877459, 0.12646521909633918, 0.31363374335892114, 0.8240562573853044, 0.9182302889106128, 0.04173774040502785, 0.04173774040502785, 0.8947817323637235, 0.5346768519152638, 0.4865704481400887, 0.1351584578166913, 0.32438029876005914, 0.05406338312667652, 0.6794691035086987, 0.16986727587717468, 0.08493363793858734, 0.4627569102318563, 0.4627569102318563, 0.8782816760930632, 0.5791885605014986, 0.2895942802507493, 0.6497009776419368, 0.8756704494530757, 0.9107698528669399, 0.8041740579091049, 0.7847523395503998, 0.8674979794775627, 0.8631048134103991, 0.17262096268207983, 0.7267044344568215, 0.36335221722841077, 0.08360048289875452, 0.9196053118862998, 0.5725371362745313, 0.5272726834662191, 0.5272726834662191, 0.5046264596245629, 0.3670010615451366, 0.13762539807942623, 0.5791505711438236, 0.38194174266495773, 0.38194174266495773, 0.38194174266495773, 0.2278410628982969, 0.5316291467626928, 0.2278410628982969, 0.8892626267306822, 0.7393735772918879, 0.39904149965582103, 0.5985622494837316, 0.6977910041012507, 0.9287412811968027, 0.05159673784426681, 0.3426245322053332, 0.599592931359333, 0.02855204435044443, 0.02855204435044443, 0.9332391280897994, 0.44133516212349705, 0.44133516212349705, 0.952769087848184, 0.8121144086607031, 0.8819233562897644, 0.680690256241508, 0.6392675051303824, 0.8937496932421578, 0.8402642622915966, 0.7381706944083842, 0.5143985419505581, 0.5143985419505581, 0.7150843555082956, 0.6756260891588634, 0.4971169655798375, 0.6854703844182595, 0.42115372691057407, 0.42115372691057407, 0.5943551038487951, 0.570018412130402, 0.4561436139297672, 0.4561436139297672, 0.4561436139297672, 0.5626015320651245, 0.3830478516188082, 0.04788098145235103, 0.32206515388603185, 0.32206515388603185, 0.0956162781627388, 0.47808139081369394, 0.28684883448821635, 0.0956162781627388, 0.5453500061411678, 0.06683997769938703, 0.9357596877914184, 0.7748430986641124, 0.6734201919431828, 0.8360758583676221, 0.7262440312791213, 0.7586479665614061, 0.8471047385107958, 0.8072877058707666, 0.5960544697536355, 0.1192108939507271, 0.2384217879014542, 0.05960544697536355, 0.4709263556271102, 0.40365116196609446, 0.06727519366101574, 0.21532681852464014, 0.7047059515351859, 0.07830066128168732, 0.7669140919284501, 0.5921730173334311, 0.664245442017839, 0.599062479815433, 0.599062479815433, 0.7043565281212547, 0.6492243291624401, 0.3040870533486819, 0.6081741066973638], \"Term\": [\"Above (pardessus)\", \"Agriculture (agriculture)\", \"America (am\\u00e9riqu\\u00e9)\", \"Arab (arabe)\", \"Arab (arabe)\", \"Arab (arabe)\", \"Assembly (assembl\\u00e9e)\", \"Assembly (assembl\\u00e9e)\", \"Assembly (assembl\\u00e9e)\", \"Atlantic (atlantique)\", \"Austrian (autrichien)\", \"Aviso (aviso)\", \"Beach (plage)\", \"Beach (plage)\", \"Beach (plage)\", \"Belgian (belge)\", \"Bible (bible)\", \"Boar (sanglier)\", \"Boar (sanglier)\", \"Browse (parcourir)\", \"Browse (parcourir)\", \"Browse (parcourir)\", \"Carpenter (charpentier)\", \"Celtic (celtique)\", \"Courier (courri\\u00e8re)\", \"Crouch (accroupir)\", \"Dark blond (ch\\u00e2tain)\", \"Entrance (entree)\", \"Gothic (gothique)\", \"Guinea (guin\\u00e9e)\", \"Havana (havane)\", \"Helix (h\\u00e9lice)\", \"Helix (h\\u00e9lice)\", \"Helix (h\\u00e9lice)\", \"Helix (h\\u00e9lice)\", \"Indian (indien)\", \"Indian (indien)\", \"Indian (indien)\", \"Italian (italien)\", \"Italian (italien)\", \"Italian (italien)\", \"Japanese (japonais)\", \"Japanese (japonais)\", \"Jovian (jovien)\", \"July (juillet)\", \"July (juillet)\", \"June (juin)\", \"June (juin)\", \"June (juin)\", \"Lake (lac)\", \"Lake (lac)\", \"Lake (lac)\", \"Lighthouse (phare)\", \"Lighthouse (phare)\", \"Lighthouse (phare)\", \"Marine (marine)\", \"Marine (marine)\", \"Marine (marine)\", \"Master (master)\", \"Master (master)\", \"Moreover (demeurant)\", \"Mountain (montagne)\", \"Mountain (montagne)\", \"Mountain (montagne)\", \"Negro (n\\u00e8gre)\", \"Negro (n\\u00e8gre)\", \"Negro (n\\u00e8gre)\", \"Norwegian (norv\\u00e9gien)\", \"November (novembre)\", \"November (novembre)\", \"November (novembre)\", \"Oceanian (oc\\u00e9anien)\", \"Oyster (hu\\u00eetre)\", \"Oyster (hu\\u00eetre)\", \"Oyster (hu\\u00eetre)\", \"Pauze (pauze)\", \"Philadelphia (philadelphie)\", \"River (fleuve)\", \"River (fleuve)\", \"River (fleuve)\", \"Rouen (rouennais)\", \"Safe (sauve)\", \"Safe (sauv\\u00e9)\", \"Sauerkraut (choucroute)\", \"Savage (sauvage)\", \"Savage (sauvage)\", \"Savage (sauvage)\", \"Scottish (\\u00e9cossais)\", \"Scottish (\\u00e9cossais)\", \"Scottish (\\u00e9cossais)\", \"Secretary (secr\\u00e9taire)\", \"Secretary (secr\\u00e9taire)\", \"September (septembre)\", \"September (septembre)\", \"September (septembre)\", \"Spicy (piquant)\", \"Strangler (\\u00e9trangleur)\", \"Tuareg (touareg)\", \"Venus (v\\u00e9nus)\", \"Venus (v\\u00e9nus)\", \"ablaze (embras\\u00e9e)\", \"abolitionist (abolitionniste)\", \"abolitionist (abolitionniste)\", \"absorbed (absorbe)\", \"accumulate (accumuler)\", \"accumulate (accumuler)\", \"accumulate (accumuler)\", \"accurate (exacts)\", \"activist (militant)\", \"adapt (adapter)\", \"adherent (adh\\u00e9rent)\", \"admiralty (amiraut\\u00e9)\", \"adopted (adopte)\", \"aerostat (a\\u00e9rostat)\", \"aerostat (a\\u00e9rostat)\", \"affinity (affinit\\u00e9)\", \"affordable (abordable)\", \"agent (agent)\", \"agent (agent)\", \"agent (agent)\", \"aggressor (agresseur)\", \"aggressor (agresseur)\", \"agreement (entente)\", \"air (a\\u00e9rien)\", \"air (a\\u00e9rien)\", \"air (a\\u00e9rien)\", \"aircraft (a\\u00e9ronef)\", \"alarmed (alarm\\u00e8rent)\", \"albatross (albatros)\", \"albatross (albatros)\", \"alienate (ali\\u00e9ner)\", \"alienation (ali\\u00e9nation)\", \"almost (quasi)\", \"alumina (alumine)\", \"aluminum (aluminium)\", \"amaze (stup\\u00e9faire)\", \"amaze (stup\\u00e9faire)\", \"amaze (stup\\u00e9faire)\", \"amaze (stup\\u00e9fier)\", \"amenity (am\\u00e9nit\\u00e9)\", \"ammunition (munition)\", \"ammunition (munition)\", \"ammunition (munition)\", \"animalize (animaliser)\", \"annex (annexer)\", \"annihilate (an\\u00e9antir)\", \"annihilate (an\\u00e9antir)\", \"annihilate (an\\u00e9antir)\", \"annotate (annoter)\", \"annoy (\\u00e9nerver)\", \"anomaly (anomalie)\", \"anomaly (anomalie)\", \"apparaux (apparaux)\", \"appert (appert)\", \"appert (appert)\", \"appetizing (app\\u00e9tissant)\", \"appetizing (app\\u00e9tissant)\", \"apple (prunelle)\", \"appointed (nomme)\", \"appropriate (\\u00e9ch\\u00e9ant)\", \"appropriation (appropriation)\", \"appropriation (appropriation)\", \"arabic (arabic)\", \"arabic (arabic)\", \"arbitrary (arbitraire)\", \"archipelago (archipel)\", \"archipelago (archipel)\", \"archipelago (archipel)\", \"archive (archive)\", \"archive (archive)\", \"archive (archive)\", \"ardan (ardan)\", \"argentiferous (argentif\\u00e8re)\", \"argousin (argousin)\", \"aroma (ar\\u00f4me)\", \"arquebus (arquebuse)\", \"arrest (arrestation)\", \"artificial (artificiel)\", \"artificial (artificiel)\", \"artificial (artificiel)\", \"assumed (supposai)\", \"asteroid (ast\\u00e9ro\\u00efde)\", \"asteroid (ast\\u00e9ro\\u00efde)\", \"astronomer (astronome)\", \"astronomer (astronome)\", \"atmosphere (atmosph\\u00e8re)\", \"atmosphere (atmosph\\u00e8re)\", \"atmosphere (atmosph\\u00e8re)\", \"awarded (d\\u00e9cerna)\", \"axle (essieu)\", \"back up (adosser)\", \"bag (sachet)\", \"bail (caution)\", \"bailiff (huissier)\", \"bailiff (huissier)\", \"balancing act (\\u00e9quilibriste)\", \"bald (chauve)\", \"bald (chauve)\", \"ball (ballon)\", \"ball (ballon)\", \"ball (ballon)\", \"ball (boulet)\", \"ball (boulet)\", \"ball (boulet)\", \"ballast (lest)\", \"ballast (lest)\", \"ballast (lest)\", \"balloonist (a\\u00e9rostier)\", \"balloonist (balloniste)\", \"bamboo (bambou)\", \"bandaged (band\\u00e8rent)\", \"bandaged (band\\u00e8rent)\", \"bandit (bandit)\", \"bandit (bandit)\", \"bandit (bandit)\", \"bandolier (cartouchi\\u00e8re)\", \"banker (banquier)\", \"banker (banquier)\", \"banker (banquier)\", \"baobab (baobab)\", \"bare (d\\u00e9nud\\u00e9)\", \"bark (\\u00e9corce)\", \"bark (\\u00e9corce)\", \"battered (battue)\", \"bearable (supportable)\", \"bearable (supportable)\", \"beaten down (abattu)\", \"beautifully (magnifiquement)\", \"beautifully (magnifiquement)\", \"bedroom (chambre)\", \"bedroom (chambre)\", \"bedroom (chambre)\", \"beefsteak (beefsteack)\", \"bellowing (beuglement)\", \"beloutchi (beloutchi)\", \"bench (banquette)\", \"bench (banquette)\", \"bet (pari)\", \"bet (pari)\", \"bet (pari)\", \"bewegter (bewegter)\", \"bewegter (bewegter)\", \"bias (biais)\", \"bias (biais)\", \"bias (biais)\", \"billeves\\u00e9e (billeves\\u00e9e)\", \"bind (lier)\", \"bind (lier)\", \"bind (lier)\", \"bitterness (amertume)\", \"blade (pale)\", \"blind (aveugle)\", \"blind (aveugle)\", \"boast (targuer)\", \"boast (targuer)\", \"boat (chaloupe)\", \"boat (chaloupe)\", \"boiling (\\u00e9bullition)\", \"bomb (bombe)\", \"bomb (bombe)\", \"bomb (bombe)\", \"bomb (bombe)\", \"bones (ossement)\", \"bones (ossement)\", \"bonzerie (bonzerie)\", \"boring (al\\u00e9sable)\", \"bou (bou)\", \"bourbon (bourbon)\", \"bow down (prosterner)\", \"boyfriend (copain)\", \"brahmaputra (brahmapoutre)\", \"branching out (ramification)\", \"branching out (ramification)\", \"bread (pain)\", \"bread (pain)\", \"bread (pain)\", \"bread (pain)\", \"break (cassure)\", \"breaststroke (brasse)\", \"breaststroke (brasse)\", \"breaststroke (brasse)\", \"breathable (respirant)\", \"brighten up (\\u00e9gayer)\", \"brighten up (\\u00e9gayer)\", \"brighten up (\\u00e9gayer)\", \"broom (gen\\u00eat)\", \"buckwheat (sarrasin)\", \"buckwheat (sarrasin)\", \"burst (irruption)\", \"burst (irruption)\", \"bursting (fusant)\", \"bustard (outarde)\", \"calcine (calciner)\", \"calcine (calciner)\", \"caleb (caleb)\", \"callosum (calleux)\", \"cambric (batiste)\", \"camellia (cam\\u00e9lia)\", \"canoe (pirogue)\", \"cap (bonnet)\", \"cap (bonnet)\", \"capillary (capillaire)\", \"caprice (caprice)\", \"caprice (caprice)\", \"car (wagon)\", \"car (wagon)\", \"car (wagon)\", \"caravan (caravane)\", \"caravan (caravane)\", \"cargo (cargaison)\", \"cargo (cargaison)\", \"cargo (cargaison)\", \"carried (porta)\", \"carried out (effectue)\", \"carrycot (nacelle)\", \"carrycot (nacelle)\", \"cartridge (gargousse)\", \"casa (casa)\", \"case (\\u00e9crin)\", \"cash in (encaisser)\", \"cash in (encaisser)\", \"casting (coulage)\", \"cataclysm (cataclysme)\", \"cataclysm (cataclysme)\", \"catechize (cat\\u00e9chiser)\", \"ceaseless (incessanter)\", \"cedar (c\\u00e8dre)\", \"cedar (c\\u00e8dre)\", \"cedar (c\\u00e8dre)\", \"cell (cellule)\", \"centigrade (centigrade)\", \"centigrade (centigrade)\", \"central (central)\", \"central (central)\", \"central (central)\", \"certainly (assur\\u00e9ment)\", \"certainly (assur\\u00e9ment)\", \"certainly (assur\\u00e9ment)\", \"certify (certifier)\", \"chapter (chapitre)\", \"chapter (chapitre)\", \"chapter (chapitre)\", \"charter (affr\\u00e9ter)\", \"chase down (pourchasser)\", \"checkout (caisse)\", \"checkout (caisse)\", \"checkout (caisse)\", \"cheer up (d\\u00e9rider)\", \"cheyenne (cheyenne)\", \"chimerical (chim\\u00e9rique)\", \"chimerical (chim\\u00e9rique)\", \"chronic (chronique)\", \"cicerone (cic\\u00e9rone)\", \"citadel (citadelle)\", \"citadel (citadelle)\", \"civility (civilit\\u00e9)\", \"civilization (civilisation)\", \"civilization (civilisation)\", \"civilization (civilisation)\", \"classic (classique)\", \"clearance (d\\u00e9gagement)\", \"clearance (d\\u00e9gagement)\", \"clerk (greffier)\", \"clipper (clipper)\", \"clipper (clipper)\", \"close (rapproche)\", \"closed off (barre)\", \"closed off (barre)\", \"closed off (barre)\", \"closed off (barre)\", \"clothes (v\\u00eatement)\", \"clothes (v\\u00eatement)\", \"clothes (v\\u00eatement)\", \"clothes (v\\u00eatement)\", \"clothing (habillement)\", \"club (club)\", \"club (club)\", \"club (club)\", \"coal mine (houilleur)\", \"coat (coat)\", \"coated (enduit)\", \"cobblestone (pav\\u00e9)\", \"cobblestone (pav\\u00e9)\", \"cobblestone (pav\\u00e9)\", \"coincidence (co\\u00efncidence)\", \"collector (collectionneur)\", \"colon (colon)\", \"colonel (colonel)\", \"colonel (colonel)\", \"colonel (colonel)\", \"colonnade (colonnade)\", \"columbiad (columbiad)\", \"comb (peigner)\", \"commanding officer (commandant)\", \"commanding officer (commandant)\", \"commanding officer (commandant)\", \"commandment (commandement)\", \"commandment (commandement)\", \"commandment (commandement)\", \"complacent (complaisant)\", \"compressing (comprimant)\", \"compressing (comprimant)\", \"compressing (comprimant)\", \"compressor (compresseur)\", \"comrade (camarade)\", \"comrade (camarade)\", \"comrade (camarade)\", \"comrade (camarade)\", \"confederate (conf\\u00e9d\\u00e9r\\u00e9)\", \"confederate (conf\\u00e9d\\u00e9r\\u00e9)\", \"confederate (conf\\u00e9d\\u00e9r\\u00e9)\", \"confer (conf\\u00e9rer)\", \"confuse (d\\u00e9router)\", \"coniferous (conif\\u00e8re)\", \"consoled (consola)\", \"consul (consul)\", \"consul (consul)\", \"contiguous (contigu\\u00ebs)\", \"contiguous (contigu\\u00ebs)\", \"contractility (contractilit\\u00e9)\", \"contrast (contraste)\", \"contrast (contraste)\", \"convert (convertir)\", \"convert (convertir)\", \"convulsion (convulsion)\", \"cooking (cuisson)\", \"copy (exemplaire)\", \"copy (exemplaire)\", \"corral (corral)\", \"cotton (coton)\", \"cotton (coton)\", \"cotton (coton)\", \"cotton (coton)\", \"cotton plant (cotonnier)\", \"cotton plant (cotonnier)\", \"counter (comptoir)\", \"counter (comptoir)\", \"counter (comptoir)\", \"country (contr\\u00e9e)\", \"country (contr\\u00e9e)\", \"country (contr\\u00e9e)\", \"courteous (courtoise)\", \"courtesy (courtoisie)\", \"coworker (coll\\u00e8gue)\", \"coworker (coll\\u00e8gue)\", \"coworker (coll\\u00e8gue)\", \"cracked (toqu\\u00e9)\", \"crackle (craqueler)\", \"crestfallen (d\\u00e9confit)\", \"crestfallen (d\\u00e9confit)\", \"crew (\\u00e9quipage)\", \"crew (\\u00e9quipage)\", \"crew (\\u00e9quipage)\", \"crew (\\u00e9quipage)\", \"crew (\\u00e9quipage)\", \"crime (crime)\", \"crime (crime)\", \"crowding (entassement)\", \"crown (couron)\", \"cruelly (cruellement)\", \"crust (cro\\u00fbte)\", \"cry (pleur)\", \"cubic (cuber)\", \"cubic (cuber)\", \"cubic (cubique)\", \"cubic (cubique)\", \"cubit (coud\\u00e9e)\", \"cultist (sectateur)\", \"cultivated (cultiv\\u00e9)\", \"customs (moeurs)\", \"customs (moeurs)\", \"customs (moeurs)\", \"cutlass (coutelas)\", \"cutlass (coutelas)\", \"cutlass (coutelas)\", \"cutter (cotre)\", \"cyclone (cyclone)\", \"cyclopean (cyclop\\u00e9en)\", \"cyclopean (cyclop\\u00e9en)\", \"cylinder (cylindre)\", \"darkness (t\\u00e9n\\u00e8bre)\", \"darkness (t\\u00e9n\\u00e8bre)\", \"darkness (t\\u00e9n\\u00e8bre)\", \"date (quanti\\u00e8m)\", \"deaf (sourdr)\", \"debate (d\\u00e9bat)\", \"decline (d\\u00e9cliner)\", \"deified (divinis\\u00e9)\", \"deified (divinis\\u00e9)\", \"deified (divinis\\u00e9)\", \"delay (retard)\", \"delay (retard)\", \"delay (retard)\", \"demonstration (manifestation)\", \"demonstration (manifestation)\", \"denier (denier)\", \"denier (denier)\", \"depression (d\\u00e9pression)\", \"depression (d\\u00e9pression)\", \"depression (d\\u00e9pression)\", \"derivative (d\\u00e9rive)\", \"derivative (d\\u00e9rive)\", \"descendon (descendon)\", \"detached (d\\u00e9tach\\u00e9)\", \"detective (d\\u00e9tective)\", \"detour (d\\u00e9triplent)\", \"devotion (d\\u00e9votion)\", \"devout (d\\u00e9vot)\", \"diamond (diamant\\u00e9)\", \"dictates (dicte)\", \"difference (diff\\u00e9rence)\", \"difference (diff\\u00e9rence)\", \"difference (diff\\u00e9rence)\", \"dine (d\\u00eene)\", \"direction (direction)\", \"direction (direction)\", \"direction (direction)\", \"direction (direction)\", \"disaster (d\\u00e9sastre)\", \"disaster (d\\u00e9sastre)\", \"disaster (d\\u00e9sastre)\", \"disgust (\\u00e9coeurer)\", \"disgusting (affadissant)\", \"dismiss (d\\u00e9bouter)\", \"disorient (d\\u00e9payser)\", \"dissect (diss\\u00e9quer)\", \"diver (plongeur)\", \"diving (plong\\u00e9e)\", \"diving (plong\\u00e9e)\", \"dizzying (vertigineux)\", \"dizzying (vertigineux)\", \"dock (quai)\", \"dock (quai)\", \"dock (quai)\", \"dock (quai)\", \"doctor (docteur)\", \"doctor (docteur)\", \"dollar (dollar)\", \"dollar (dollar)\", \"dollar (dollar)\", \"dollar (dollar)\", \"dolmen (dolmen)\", \"domesticated (domestique)\", \"domesticated (domestique)\", \"domesticated (domestique)\", \"dominate (dominer)\", \"dominate (dominer)\", \"dominate (dominer)\", \"doublet (pourpoint)\", \"doublet (pourpoint)\", \"down (duvet)\", \"downpour (averse)\", \"downpour (averse)\", \"drama (drame)\", \"drapery (draperie)\", \"drilling (forage)\", \"driver (conducteur)\", \"driver (conducteur)\", \"droplet (gouttelette)\", \"drunken (bourrel\\u00e9e)\", \"ductile (ductile)\", \"dune (dune)\", \"dune (dune)\", \"dusk (cr\\u00e9puscule)\", \"dust (poussi\\u00e8re)\", \"dust (poussi\\u00e8re)\", \"earthly (terrestre)\", \"earthly (terrestre)\", \"earthly (terrestre)\", \"ease (aisance)\", \"ease (aisance)\", \"ease (aisance)\", \"eater (mangeur)\", \"eccentric (excentrique)\", \"edging (taillanderie)\", \"effective (effectif)\", \"effective (effectif)\", \"effigy (effigie)\", \"effused (efflanquaient)\", \"elephant (\\u00e9l\\u00e9phant)\", \"elephant (\\u00e9l\\u00e9phant)\", \"elephant (\\u00e9l\\u00e9phant)\", \"ellipse (ellipse)\", \"ellipse (ellipse)\", \"ellipse (ellipse)\", \"embarrass (embarrasser)\", \"embarrass (embarrasser)\", \"embarrass (embarrasser)\", \"embarrass (embarrasser)\", \"embarrassed (embarrasse)\", \"embouch (emboucher)\", \"embracing (embrassement)\", \"embroider (broder)\", \"embroider (broder)\", \"encrusted (encro\\u00fbt\\u00e9e)\", \"engaging (engageanter)\", \"engaging (engageanter)\", \"engineer (ingenieur)\", \"engulfing (engloutissement)\", \"equivalent (\\u00e9quivalent)\", \"estimable (estimable)\", \"etion (\\u00e9tion)\", \"evaporative (\\u00e9vaporatoire)\", \"exactness (exactitude)\", \"exactness (exactitude)\", \"exactness (exactitude)\", \"exaggeration (exag\\u00e9ration)\", \"exaggeration (exag\\u00e9ration)\", \"exalt (exalter)\", \"example (exemple)\", \"example (exemple)\", \"example (exemple)\", \"except (excepter)\", \"exchange (\\u00e9change)\", \"exchange (\\u00e9change)\", \"exchange (\\u00e9change)\", \"excusable (excusable)\", \"exile (exil)\", \"exit (sortie)\", \"exit (sortie)\", \"exit (sortie)\", \"exit (sortie)\", \"expedition (exp\\u00e9dition)\", \"expedition (exp\\u00e9dition)\", \"expedition (exp\\u00e9dition)\", \"expel (expulser)\", \"expensive (dispendieux)\", \"experience (exp\\u00e9rience)\", \"experience (exp\\u00e9rience)\", \"experimental (exp\\u00e9rimental)\", \"experimental (exp\\u00e9rimental)\", \"exploitable (exploitable)\", \"exploration (exploration)\", \"exposes (expose)\", \"exposes (expose)\", \"extension (prolongation)\", \"extraction (extraction)\", \"fable (fable)\", \"fable (fable)\", \"fable (fable)\", \"fahrenheit (fahrenheit)\", \"failing (d\\u00e9faillant)\", \"fairyland (f\\u00e9erie)\", \"fall (chute)\", \"fall (chute)\", \"fall (chute)\", \"fall (chute)\", \"falls (retomb\\u00e9)\", \"familiar (tutoyer)\", \"fat (grasse)\", \"fatalism (fatalisme)\", \"federal (f\\u00e9d\\u00e9ral)\", \"federal (f\\u00e9d\\u00e9ral)\", \"fell back (retomb\\u00e2t)\", \"fief (fief)\", \"field (champ)\", \"field (champ)\", \"field (champ)\", \"field mouse (mulot)\", \"finding (trouvant)\", \"flat (plate)\", \"flat (plate)\", \"flat (plate)\", \"flatter (flatter)\", \"flatter (flatter)\", \"floated (flotta)\", \"flood (inonder)\", \"flood (inonder)\", \"floridian (floridien)\", \"flour mill (minoterie)\", \"flutter (papillonner)\", \"flying (volant)\", \"flying (volant)\", \"fog (brouillard)\", \"fog (brouillard)\", \"fog (brouillard)\", \"fog (brouillard)\", \"forced out (expuls\\u00e9)\", \"foremast (misaine)\", \"foremast (misaine)\", \"foremast (misaine)\", \"forged (forgeait)\", \"fork (fourchette)\", \"forsake (d\\u00e9laisser)\", \"fortunate (chanceux)\", \"fortune (fortun\\u00e9)\", \"fouled (encrassaient)\", \"foundation (fondation)\", \"francevillai (francevillai)\", \"franchise (franchise)\", \"franchise (franchise)\", \"franchise (franchise)\", \"freight (fret)\", \"frigate (fr\\u00e9gate)\", \"frigate (fr\\u00e9gate)\", \"frizzy (cr\\u00e9pu)\", \"frolic (\\u00e9battaient)\", \"fuck (niquer)\", \"fuck (niquer)\", \"fullness (pl\\u00e9nitude)\", \"funeral (obs\\u00e8que)\", \"funeral (obs\\u00e8que)\", \"fur (fourrure)\", \"fur (fourrure)\", \"fury (furie)\", \"fury (furie)\", \"gag (b\\u00e2illon)\", \"gallery (galerie)\", \"gallery (galerie)\", \"ganges (gange)\", \"ganges (gange)\", \"gaoler (ge\\u00f4lier)\", \"gaoler (ge\\u00f4lier)\", \"gas (gaz)\", \"gas (gaz)\", \"gas (gaz)\", \"gathered (fronc\\u00e9)\", \"gathered (fronc\\u00e9)\", \"generation (generation)\", \"gentleman (gentleman)\", \"gentleman (gentleman)\", \"gentleman (gentleman)\", \"geographical (g\\u00e9ographique)\", \"geographical (g\\u00e9ographique)\", \"get away (d\\u00e9guerpir)\", \"get bogged down (embourber)\", \"get out of breath (essouffler)\", \"ghate (gh\\u00e2te)\", \"glabrous (glabre)\", \"goal (objectif)\", \"got out (sorti)\", \"grant (conc\\u00e9der)\", \"gratification (gratification)\", \"gravity (gravit\\u00e9)\", \"gravity (gravit\\u00e9)\", \"gravity (gravit\\u00e9)\", \"grazed (p\\u00e2turaient)\", \"grenelle (grenelle)\", \"growl (grognement)\", \"growl (grognement)\", \"grumpy (grognon)\", \"gr\\u00e9geoi (gr\\u00e9geoi)\", \"guanaque (guanaque)\", \"guide (guide)\", \"guide (guide)\", \"guide (guide)\", \"guinea fowl (pintade)\", \"gun (gun)\", \"gut (boyau)\", \"gut (boyau)\", \"hail (h\\u00e9ler)\", \"hail (h\\u00e9ler)\", \"hairdressing (coiffure)\", \"hairstyle (coiffa)\", \"hal (hal)\", \"half-open (entrouvert)\", \"halt (halte)\", \"halt (halte)\", \"halt (halte)\", \"handlebar (guidon)\", \"handling (manipulation)\", \"handling (manipulation)\", \"harass (harasser)\", \"harbor (rade)\", \"harbor (rade)\", \"harbor (rade)\", \"harp (harpe)\", \"haul (hal\\u00e9e)\", \"have (avez)\", \"have (avez)\", \"hay (foin)\", \"hay (foin)\", \"heel (talon)\", \"heel (talon)\", \"herald (h\\u00e9raut)\", \"herbaceous (herbacer)\", \"heritage (h\\u00e9ritage)\", \"hippopotamus (hippopotame)\", \"hippopotamus (hippopotame)\", \"hit (frappait)\", \"hold (cale)\", \"hold (cale)\", \"hollowed out (\\u00e9vidaient)\", \"honestly (honn\\u00eatement)\", \"honorable (honorable)\", \"honorable (honorable)\", \"honorable (honorable)\", \"howitzer (obusier)\", \"html (html)\", \"html (html)\", \"humbug (fumisterie)\", \"hunter (chasseur)\", \"hunter (chasseur)\", \"hure (hure)\", \"hure (hure)\", \"hydrogen (hydrog\\u00e8n)\", \"hydroscop (hydroscop)\", \"hydroscop (hydroscop)\", \"hyena (hy\\u00e8ne)\", \"ibi (ibi)\", \"ibi (ibi)\", \"ice (glace)\", \"ice (glace)\", \"ice (glace)\", \"icing (glacer)\", \"icing (glacer)\", \"illustrated (illustre)\", \"illustrated (illustre)\", \"illustrated (illustre)\", \"immigration (immigration)\", \"immoral (immoral)\", \"impatiently (impatiemment)\", \"impetuosity (imp\\u00e9tuosit\\u00e9)\", \"important (importante)\", \"impudent (impudent)\", \"impudent (impudent)\", \"in parallel (parall\\u00e8lement)\", \"incarceration (incarc\\u00e9ration)\", \"incessantly (incessamment)\", \"incessantly (incessamment)\", \"incessantly (incessamment)\", \"inclemency (incl\\u00e9mence)\", \"incombustible (incombustible)\", \"incredulity (incr\\u00e9dulit\\u00e9)\", \"incredulity (incr\\u00e9dulit\\u00e9)\", \"independence (independance)\", \"index (indice)\", \"index (indice)\", \"index (indice)\", \"indigestion (indigestion)\", \"indulge (adonner)\", \"industan (indoustan)\", \"inertia (inertie)\", \"inevitably (immanquablement)\", \"infested (infest\\u00e9)\", \"infiltrate (infiltrer)\", \"inflated (gonfl\\u00e9)\", \"inflated (gonfl\\u00e9)\", \"infuriating (rageant)\", \"innocence (innocence)\", \"innocence (innocence)\", \"innocence (innocence)\", \"insertion (insertion)\", \"insolence (insolence)\", \"insolence (insolence)\", \"inspector (inspecteur)\", \"insufficiency (insuffisance)\", \"insult (injure)\", \"insult (injure)\", \"insult (injure)\", \"intellectual (intellectuel)\", \"interpretation (interpr\\u00e9tation)\", \"interpreter (interpr\\u00e8te)\", \"interrogator (interrogateur)\", \"interrogator (interrogateur)\", \"invaluable (inappr\\u00e9ciable)\", \"invariable (invariable)\", \"invariable (invariable)\", \"inventory (inventorier)\", \"irascible (irascible)\", \"iris (iris)\", \"irregular (irr\\u00e9gulier)\", \"irregular (irr\\u00e9gulier)\", \"irregularity (irr\\u00e9gularit\\u00e9)\", \"irregularly (irr\\u00e9guli\\u00e8rement)\", \"isfjord (isfjord)\", \"issue (d\\u00e9livrer)\", \"issue (d\\u00e9livrer)\", \"issue (d\\u00e9livrer)\", \"issue (d\\u00e9livrer)\", \"isthmus (isthme)\", \"jay (geai)\", \"jerk (saccader)\", \"joker (farceur)\", \"joking (plaisanteri)\", \"journal (tourillon)\", \"journalist (journaliste)\", \"journalist (journaliste)\", \"jumped up (saute)\", \"jumped up (saute)\", \"jumped up (saute)\", \"juxtapose (juxtaposer)\", \"keep (tiendrion)\", \"killed (tuilla)\", \"kilometer (kilom\\u00e8tre)\", \"kilometer (kilom\\u00e8tre)\", \"kilometer (kilom\\u00e8tre)\", \"kilometer (kilom\\u00e8tre)\", \"kingdom (royaume)\", \"kingdom (royaume)\", \"kingdom (royaume)\", \"kirimon (kirimon)\", \"laboratory (laboratoire)\", \"lace (lacet)\", \"lacquer (laque)\", \"land (d\\u00e9barquer)\", \"land (d\\u00e9barquer)\", \"land (d\\u00e9barquer)\", \"land (d\\u00e9barquer)\", \"landing (d\\u00e9barquement)\", \"landing (d\\u00e9barquement)\", \"landing (d\\u00e9barquement)\", \"landing (palier)\", \"language (language)\", \"language (language)\", \"language (language)\", \"larch (m\\u00e9l\\u00e8ze)\", \"lashing (cingleur)\", \"laundry (blanchisserie)\", \"leaned (accot\\u00e9)\", \"learned (apprit)\", \"learned (savant)\", \"learned (savant)\", \"leave (conger)\", \"lemon (citron)\", \"lesson (le\\u00e7on)\", \"lethargy (l\\u00e9thargie)\", \"letter (lettre)\", \"letter (lettre)\", \"letter (lettre)\", \"letter (lettre)\", \"libation (libation)\", \"library (biblioth\\u00e8que)\", \"library (biblioth\\u00e8que)\", \"library (biblioth\\u00e8que)\", \"libya (libyqu)\", \"licitation (licitation)\", \"liner (paquebot)\", \"liner (paquebot)\", \"liner (paquebot)\", \"lobby (hall)\", \"locality (localit\\u00e9)\", \"locomotive (locomotive)\", \"locomotive (locomotive)\", \"locomotive (locomotive)\", \"lodged (logea)\", \"lookout (vigie)\", \"lookout (vigie)\", \"lookout (vigie)\", \"lose again (reperdre)\", \"lose again (reperdre)\", \"loustic (loustic)\", \"loustic (loustic)\", \"love (amour)\", \"love (amour)\", \"love (amour)\", \"love (amour)\", \"lunation (lunaison)\", \"lung (poumon)\", \"lung (poumon)\", \"macadamize (macadamiser)\", \"macau (macao)\", \"macau (macao)\", \"mackintosh (mackintosh)\", \"magellan (magellan)\", \"magical (magique)\", \"magnification (grossissement)\", \"magnificence (magnificence)\", \"magnificence (magnificence)\", \"major (majeur)\", \"major (majeur)\", \"major (majeur)\", \"major (major)\", \"major (major)\", \"mandarin (mandaraine)\", \"mandate (mandat)\", \"mandate (mandat)\", \"maneuver (manoeuvre)\", \"maneuver (manoeuvre)\", \"maneuver (manoeuvre)\", \"maneuver (manoeuvre)\", \"masonry (ma\\u00e7onnerie)\", \"massacre (massacr\\u00e9)\", \"massacre (massacr\\u00e9)\", \"master key (passepartout)\", \"materiality (mat\\u00e9rialit\\u00e9)\", \"mathematical (mathematical)\", \"mathematical (mathematical)\", \"mathematician (math\\u00e9maticien)\", \"mathematician (math\\u00e9maticien)\", \"mathematician (math\\u00e9maticien)\", \"mauve (mauve)\", \"maxim (maxime)\", \"may (mai)\", \"may (mai)\", \"may (mai)\", \"meet (rencontrent)\", \"melting (fonte)\", \"melting (fonte)\", \"member (membre)\", \"member (membre)\", \"member (membre)\", \"meowed (miaul\\u00e9)\", \"mercantile (mercantile)\", \"message (message)\", \"message (message)\", \"metal (m\\u00e9tal)\", \"metal (m\\u00e9tal)\", \"metal (m\\u00e9tal)\", \"meteorologist (m\\u00e9t\\u00e9orologiste)\", \"meteorologist (m\\u00e9t\\u00e9orologiste)\", \"midday (midi)\", \"midday (midi)\", \"midday (midi)\", \"milky (laiteux)\", \"milky (laiteux)\", \"millimeter (millim\\u00e8tre)\", \"miraculously (miraculeusement)\", \"mirror (miroir)\", \"mistress (ma\\u00eetresse)\", \"mistress (ma\\u00eetresse)\", \"misunderstanding (malentendu)\", \"misunderstanding (malentendu)\", \"mizzen (artimon)\", \"mocking (goguenard)\", \"mocking (railleur)\", \"model (mod\\u00e8le)\", \"model (mod\\u00e8le)\", \"mold (mouler)\", \"morning (m\\u00e2tin)\", \"mortar (mortier)\", \"mother (m\\u00e8re)\", \"mother (m\\u00e8re)\", \"mound (tertre)\", \"moving (\\u00e9mouvante)\", \"municipality (municipalit\\u00e9)\", \"murderous (meurtr\\u00eeere)\", \"muscular (musculeu)\", \"musculature (musculature)\", \"musket (mousquet)\", \"mylord (mylord)\", \"mystical (mystique)\", \"nacell (nacell)\", \"nail (clou)\", \"nail (clou)\", \"neck (encolure)\", \"neck (encolure)\", \"necklace (collier)\", \"necklace (collier)\", \"nephew (neveu)\", \"nephew (neveu)\", \"nervous (nerveux)\", \"nervous (nerveux)\", \"nervous (nerveux)\", \"never will (neva)\", \"nightmares (cauchemars)\", \"nimbly (lestement)\", \"nimbly (lestement)\", \"nod (hocher)\", \"nod (hocher)\", \"noisy (bruyant)\", \"noisy (bruyant)\", \"nomenclature (nomenclature)\", \"notes (constate)\", \"nothing (n\\u00e9ant)\", \"obadiah (obadiah)\", \"obedience (ob\\u00e9issance)\", \"object (objecter)\", \"observance (observance)\", \"observatory (observatoire)\", \"observatory (observatoire)\", \"observatory (observatoire)\", \"obsolete (obsolet)\", \"obsolete (obsolet)\", \"open (ouvert)\", \"opium (opium)\", \"opposite (oppos\\u00e9)\", \"optimism (optimisme)\", \"order (consigne)\", \"orthopth\\u00e8re (orthopth\\u00e8re)\", \"oscillation (oscillation)\", \"ovation (ovation)\", \"overflow (regorger)\", \"overflow (regorger)\", \"overweight (embonpoint)\", \"overweight (embonpoint)\", \"overwhelming (foudroyant)\", \"oxide (oxyde)\", \"oxide (oxyde)\", \"pagoda (pagode)\", \"pagoda (pagode)\", \"pagoda (pagode)\", \"painted (peinte)\", \"palanquin (palanquin)\", \"pangs (affres)\", \"pangs (affres)\", \"paperwork (paperassi\\u00e8re)\", \"par (pare)\", \"park (stationner)\", \"participates (participe)\", \"participates (participe)\", \"partner (partenaire)\", \"partner (partenaire)\", \"passionate (passionnel)\", \"passport (passeport)\", \"passport (passeport)\", \"passport (passeport)\", \"past (passe)\", \"past (passe)\", \"past (passe)\", \"pasture (p\\u00e2ture)\", \"pedestrian (pi\\u00e9ton)\", \"pellet (boulette)\", \"pencil (crayon)\", \"pencil (crayon)\", \"people (peuplade)\", \"perforated (perc\\u00e9)\", \"perimeter (p\\u00e9rim\\u00e8tre)\", \"permanent (permanent)\", \"permanent (permanent)\", \"permanent (permanent)\", \"permits (permits)\", \"permits (permits)\", \"perpetually (perp\\u00e9tuellement)\", \"persevere (pers\\u00e9v\\u00e9rer)\", \"phenomenal (ph\\u00e9nom\\u00e9nal)\", \"phenomenal (ph\\u00e9nom\\u00e9nal)\", \"phenomenon (ph\\u00e9nom\\u00e8ne)\", \"phenomenon (ph\\u00e9nom\\u00e8ne)\", \"philanthropic (philanthropique)\", \"philanthropic (philanthropique)\", \"philanthropic (philanthropique)\", \"philea (philea)\", \"physiognomist (physionomiste)\", \"physiology (physiologie)\", \"pier (pier)\", \"pier (pier)\", \"piercing (per\\u00e7ant)\", \"pile up (amonceler)\", \"pile up (amonceler)\", \"pilot (pilote)\", \"pilot (pilote)\", \"pilot (pilote)\", \"piston (piston)\", \"piston (piston)\", \"pitcairn (pitcairn)\", \"pitcairn (pitcairn)\", \"planet (plan\\u00e8te)\", \"planet (plan\\u00e8te)\", \"planted (planta)\", \"plugged (branche)\", \"plugged (branche)\", \"plugged (branche)\", \"plumage (plumage)\", \"pole (perche)\", \"police (police)\", \"police (police)\", \"police (police)\", \"polished (poli)\", \"polished (poli)\", \"polished (poli)\", \"pome (pom\\u00e8)\", \"pomp (faste)\", \"pomp (faste)\", \"poop (dunette)\", \"poop (dunette)\", \"poop (dunette)\", \"pore (pore)\", \"port (b\\u00e2bord)\", \"porthole (hublot)\", \"potting soil (terreau)\", \"poultry (volaille)\", \"powder (poudre)\", \"powder (poudre)\", \"powder (poudre)\", \"power (puissance)\", \"power (puissance)\", \"power (puissance)\", \"practically (pratiquement)\", \"practitioner (praticien)\", \"preciously (pr\\u00e9cieusement)\", \"preliminary (pr\\u00e9liminaire)\", \"premium (prime)\", \"premium (prime)\", \"presumptuous (outrecuidant)\", \"pretended (pr\\u00e9tendu)\", \"pretended (pr\\u00e9tendu)\", \"pretentious (pr\\u00e9tentieux)\", \"princely (princier)\", \"probably (probably)\", \"probably (probably)\", \"probed (sonda)\", \"procedure (proc\\u00e9dure)\", \"procures (procure)\", \"professor (professeur)\", \"professor (professeur)\", \"professor (professeur)\", \"projectile (projectile)\", \"projectile (projectile)\", \"projectile (projectile)\", \"projectile (projectile)\", \"pronoun (pronom)\", \"pronoun (pronom)\", \"pronoun (pronom)\", \"prophecy (proph\\u00e9tie)\", \"protest (protestation)\", \"proverb (proverbe)\", \"proverb (proverbe)\", \"provision (provision)\", \"provision (provision)\", \"provision (provision)\", \"provision (provision)\", \"prowess (prouesse)\", \"publicly (publiquement)\", \"pulsation (pulsation)\", \"punctuality (ponctualit\\u00e9)\", \"punta (punta)\", \"punta (punta)\", \"pursuit (poursuite)\", \"pursuit (poursuite)\", \"pursuit (poursuite)\", \"pursuit (poursuite)\", \"put (mets)\", \"put (mets)\", \"put (mets)\", \"pyroxyl (pyroxyle)\", \"pyroxyl (pyroxyle)\", \"quartz (quartz)\", \"quench (d\\u00e9salt\\u00e9rer)\", \"quench (d\\u00e9salt\\u00e9rer)\", \"racing car (bolide)\", \"rascal (gredin)\", \"ration (ration)\", \"reach (atteignissent)\", \"reading (lecteue)\", \"reagent (r\\u00e9actif)\", \"rebel (rebelle)\", \"rebel (rebelle)\", \"reciprocally (r\\u00e9ciproquement)\", \"reciprocally (r\\u00e9ciproquement)\", \"recruitment (recrutement)\", \"rectified (rectifia)\", \"recurrence (r\\u00e9apparition)\", \"redemption (r\\u00e9demption)\", \"redemption (r\\u00e9demption)\", \"reflection (r\\u00e9flexion)\", \"reflection (r\\u00e9flexion)\", \"reflection (r\\u00e9flexion)\", \"reflexive (r\\u00e9fl\\u00e9chi)\", \"refreshes (rafra\\u00eechit)\", \"region (r\\u00e9gion)\", \"region (r\\u00e9gion)\", \"region (r\\u00e9gion)\", \"regularize (r\\u00e9gulariser)\", \"regularize (r\\u00e9gulariser)\", \"regulatory (r\\u00e9glementaire)\", \"regulatory (r\\u00e9glementaire)\", \"released (rel\\u00e2che)\", \"released (rel\\u00e2che)\", \"released (rel\\u00e2che)\", \"relief (relief)\", \"relief (relief)\", \"reminded (rappel\\u00e2t)\", \"replace (replacer)\", \"replace (replacer)\", \"replica (r\\u00e9plique)\", \"replica (r\\u00e9plique)\", \"replica (r\\u00e9plique)\", \"report (signalement)\", \"reproduce (reproduire)\", \"reproduce (reproduire)\", \"reproduce (reproduire)\", \"request (requ\\u00eate)\", \"require (n\\u00e9cessiter)\", \"require (n\\u00e9cessiter)\", \"reside (habite)\", \"reside (habite)\", \"restless (agit\\u00e9)\", \"restore (restaurer)\", \"restore (restituer)\", \"restore (restituer)\", \"result (d\\u00e9couler)\", \"retaliation (riposte)\", \"revolt (r\\u00e9volte)\", \"revolt (r\\u00e9volte)\", \"revolt (r\\u00e9volte)\", \"revolt (r\\u00e9volte)\", \"rhubarb (rhubarbe)\", \"ride (chevauch\\u00e9e)\", \"ride (enfourcher)\", \"ride (enfourcher)\", \"rig (gr\\u00e9er)\", \"riparian (riverain)\", \"rise (hausse)\", \"rivalry (rivalit\\u00e9)\", \"roasted (torr\\u00e9fi\\u00e9e)\", \"robbed (braqu\\u00e9)\", \"rock (roc)\", \"rocked (bascula)\", \"rocket (fus\\u00e9e)\", \"rocket (fus\\u00e9e)\", \"rocket (fus\\u00e9e)\", \"rooftop (roufle)\", \"rooster (coq)\", \"rope (cord\\u00e9)\", \"rotation (rotation)\", \"roughen (d\\u00e9polir)\", \"rower (rameur)\", \"rower (rameur)\", \"ruin (ruin)\", \"rum (rhum)\", \"salutary (salutaire)\", \"salvo (salve)\", \"salvo (salve)\", \"samuel (samuel)\", \"sand (sable)\", \"sand (sable)\", \"sandalwood (santal)\", \"sandalwood (santal)\", \"sausage (saucisson)\", \"saving (\\u00e9pargne)\", \"scar (cicatrice)\", \"scared (effraya)\", \"schooner (go\\u00e9lette)\", \"schooner (go\\u00e9lette)\", \"scoundrel (canaille)\", \"seagull (mouette)\", \"seagull (mouette)\", \"sedentary (s\\u00e9dentaire)\", \"semaphore (s\\u00e9maphore)\", \"sender (exp\\u00e9diteur)\", \"sense (senser)\", \"sense (senser)\", \"sensible (sens\\u00e9)\", \"sergeant (brigadier)\", \"sergeant (brigadier)\", \"serpentine (serpentin)\", \"servant (serviteur)\", \"servant (serviteur)\", \"servant (serviteur)\", \"servant (serviteur)\", \"session (s\\u00e9ance)\", \"session (s\\u00e9ance)\", \"set ablaze (embraser)\", \"sextant (sextant)\", \"sextant (sextant)\", \"sharpness (nettet\\u00e9)\", \"shaving (rasant)\", \"shawl (ch\\u00e2le)\", \"shed (d\\u00e9lester)\", \"sheet metal (t\\u00f4le)\", \"sheet metal (t\\u00f4le)\", \"shipwreck (naufrage)\", \"shipwreck (naufrage)\", \"shipwreck (naufrage)\", \"shipwreck (naufrage)\", \"shoot (fusiller)\", \"shoot (fusiller)\", \"shore (rivage)\", \"shore (rivage)\", \"shore (rivage)\", \"shore (rivage)\", \"short-lived (\\u00e9ph\\u00e9m\\u00e8re)\", \"short-lived (\\u00e9ph\\u00e9m\\u00e8re)\", \"shorten (abr\\u00e9ger)\", \"shorten (abr\\u00e9ger)\", \"shoulder (\\u00e9paul\\u00e9)\", \"sick (malade)\", \"sick (malade)\", \"sidi (sidi)\", \"sieur (sieur)\", \"silently (silencieusement)\", \"silently (silencieusement)\", \"silently (silencieusement)\", \"silversmith (orf\\u00e8vrerie)\", \"singular (singulier)\", \"singular (singulier)\", \"singular (singulier)\", \"singularity (singularit\\u00e9)\", \"singularity (singularit\\u00e9)\", \"sinuous (sinueu)\", \"sinuous (sinueu)\", \"sixteenth (seizi\\u00e8me)\", \"skeleton (squelett)\", \"skewer (embrocher)\", \"slavery (esclavage)\", \"slavery (esclavage)\", \"sled (tra\\u00eeneau)\", \"sloop (sloop)\", \"smelly (f\\u00e9tu)\", \"smoking (tabagie)\", \"snuffbox (tabati\\u00e8re)\", \"so much (autant)\", \"so much (autant)\", \"so much (autant)\", \"solanacea (solanac\\u00e9e)\", \"solicited (racol\\u00e9)\", \"solicitor (solicitor)\", \"solidemer (solidemer)\", \"song (chanson)\", \"sophisticated (sophistiquer)\", \"soup (potage)\", \"source (source)\", \"source (source)\", \"source (source)\", \"sow (ensemencer)\", \"spawning (frai)\", \"speculate (supputer)\", \"spent (d\\u00e9pense)\", \"spent (d\\u00e9pense)\", \"spent (d\\u00e9pense)\", \"spinning (filant)\", \"spinning (filant)\", \"spinning (filant)\", \"stacked (empila)\", \"staid (guind\\u00e9)\", \"stain (t\\u00e2cher)\", \"stain (t\\u00e2cher)\", \"stamp (cachet)\", \"star (astre)\", \"star (astre)\", \"star (astre)\", \"station (gare)\", \"station (gare)\", \"station (station)\", \"station (station)\", \"station (station)\", \"steamboat (steamboat)\", \"steel (acier)\", \"steel (acier)\", \"steel (acier)\", \"sterlet (sterlet)\", \"stick (h\\u00e2ton)\", \"sting (piquer)\", \"sting (piquer)\", \"stock Exchange (bourse)\", \"stock Exchange (bourse)\", \"stock Exchange (bourse)\", \"stoic (sto\\u00efque)\", \"stopover (escal)\", \"stopover (escale)\", \"story (r\\u00e9cit)\", \"story (r\\u00e9cit)\", \"story (r\\u00e9cit)\", \"story (r\\u00e9cit)\", \"strangeness (\\u00e9tranget\\u00e9)\", \"strangled (\\u00e9tranglaient)\", \"stripe (rayure)\", \"studbook (studbook)\", \"stumbling (tr\\u00e9buchant)\", \"stupefaction (stup\\u00e9faction)\", \"stupefaction (stup\\u00e9faction)\", \"stupefaction (stup\\u00e9faction)\", \"stupor (stupeur)\", \"stupor (stupeur)\", \"stupor (stupeur)\", \"sturgeon (esturgeon)\", \"sturgeon (esturgeon)\", \"successor (successeur)\", \"successor (successeur)\", \"successor (successeur)\", \"suck (t\\u00e9ter)\", \"sucks (aspire)\", \"supplied (supplied)\", \"supplied (supplied)\", \"surely (s\\u00fbrement)\", \"surely (s\\u00fbrement)\", \"surely (s\\u00fbrement)\", \"survivor (survivant)\", \"survivor (survivant)\", \"susceptibility (susceptibilit\\u00e9)\", \"suspected (soup\\u00e7onn\\u00e2t)\", \"suspensive (suspensif)\", \"suspicion (suspicion)\", \"suspicion (suspicion)\", \"suspicious (louche)\", \"swagger (fanfaronnade)\", \"swamp (marais)\", \"swift (martinet)\", \"swift (martinet)\", \"swoon (p\\u00e2ment)\", \"symbolize (symboliser)\", \"synthesis (synthesise)\", \"tackle (agr\\u00e8s)\", \"tackle (agr\\u00e8s)\", \"taffeta (taffetas)\", \"take (pr\\u00e9lever)\", \"taliba (taliba)\", \"talk back (recauseron)\", \"tankadere (tankad\\u00e8re)\", \"tankadere (tankad\\u00e8re)\", \"task (tache)\", \"task (tache)\", \"taste (d\\u00e9guster)\", \"tasted (go\\u00fbta)\", \"tasteless (insipide)\", \"teach (enseigner)\", \"teach (enseigner)\", \"tebbad (tebbad)\", \"telescope (t\\u00e9lescope)\", \"temperature (temp\\u00e9rature)\", \"temperature (temp\\u00e9rature)\", \"temperature (temp\\u00e9rature)\", \"tenuous (tenu)\", \"texa (texa)\", \"textile (textile)\", \"that (that)\", \"that (that)\", \"theoretical (th\\u00e9orique)\", \"theoretical (th\\u00e9orique)\", \"thief (volateur)\", \"thief (volateur)\", \"thief (voleur)\", \"thief (voleur)\", \"thief (voleur)\", \"thigh (cuisse)\", \"thin out (d\\u00e9garnir)\", \"thirteenth (treizi\\u00e8me)\", \"thirteenth (treizi\\u00e8me)\", \"thirties (trentaine)\", \"thirties (trentaine)\", \"thirties (trentaine)\", \"thorough (approfondi)\", \"throbbing (palpitant)\", \"throbbing (palpitant)\", \"throbbing (palpitant)\", \"thruster (propulseur)\", \"thruster (propulseur)\", \"thunderstorm (orage)\", \"thunderstorm (orage)\", \"thunderstorm (orage)\", \"tie down (arrimer)\", \"tight (serre)\", \"tight (serre)\", \"tighten (resserrer)\", \"tighten (resserrer)\", \"time limit (d\\u00e9lai)\", \"time limit (d\\u00e9lai)\", \"time limit (d\\u00e9lai)\", \"tissue (tissue)\", \"tissue (tissue)\", \"to amuse (amuser)\", \"to amuse (amuser)\", \"to amuse (amuser)\", \"to delete (supprimer)\", \"to delete (supprimer)\", \"to entangle (emp\\u00eatrer)\", \"to evolve (\\u00e9voluer)\", \"to evolve (\\u00e9voluer)\", \"to expand (\\u00e9tendre)\", \"to expand (\\u00e9tendre)\", \"to expand (\\u00e9tendre)\", \"to fill in (combler)\", \"to fold (plier)\", \"to fold (plier)\", \"to improve (am\\u00e9liorer)\", \"to jail (emprisonner)\", \"to jail (emprisonner)\", \"to jail (emprisonner)\", \"to land (aborder)\", \"to land (aborder)\", \"to land (aborder)\", \"to land (atterrir)\", \"to negotiate (n\\u00e9gocier)\", \"to negotiate (n\\u00e9gocier)\", \"to negotiate (n\\u00e9gocier)\", \"to preserve (pr\\u00e9server)\", \"to preserve (pr\\u00e9server)\", \"to preserve (pr\\u00e9server)\", \"to reiterate (r\\u00e9it\\u00e9rer)\", \"to slow down (ralentir)\", \"to slow down (ralentir)\", \"to specify (pr\\u00e9ciser)\", \"to stimulate (susciter)\", \"to weigh (peser)\", \"to weigh (peser)\", \"to weigh (peser)\", \"tolerate (tol\\u00e9rer)\", \"tolerate (tol\\u00e9rer)\", \"tomb (tombeau)\", \"tomb (tombeau)\", \"tools (outillage)\", \"tools (outillage)\", \"torch (chalumeau)\", \"torch (chalumeau)\", \"torch (flambeau)\", \"torture (torture)\", \"torture (torture)\", \"totally (totalement)\", \"touch (effleurer)\", \"touch (effleurer)\", \"town (village)\", \"town (village)\", \"town (village)\", \"town (village)\", \"traced (trac\\u00e9e)\", \"track (piste)\", \"track (piste)\", \"track (piste)\", \"trader (n\\u00e9gociant)\", \"trader (n\\u00e9gociant)\", \"trader (n\\u00e9gociant)\", \"trader (n\\u00e9gociant)\", \"train (train)\", \"train (train)\", \"train (train)\", \"traitor (tra\\u00eetre)\", \"traitor (tra\\u00eetre)\", \"transcribe (transcrire)\", \"transit (transit)\", \"transparency (transparence)\", \"transpire (transire)\", \"transplant (repiquer)\", \"transverse (transversal)\", \"trap (trapp)\", \"traveler (voyageur)\", \"traveler (voyageur)\", \"traveler (voyageur)\", \"traveling (ambulant)\", \"tribe (tribu)\", \"tribe (tribu)\", \"tribe (tribu)\", \"tried (tried)\", \"triumphantly (triomphalement)\", \"troop (troupe)\", \"troop (troupe)\", \"troop (troupe)\", \"troop (troupe)\", \"trunk (tronc)\", \"trunk (tronc)\", \"trunk (tronc)\", \"tuft (touffe)\", \"tuft (touffe)\", \"tulip tree (tulipier)\", \"tumble down (d\\u00e9gringoler)\", \"tumble down (d\\u00e9gringoler)\", \"turn pale (p\\u00e2lir)\", \"turns pale (p\\u00e2lit)\", \"turnstile (tourniquet)\", \"twist (p\\u00e9rip\\u00e9tie)\", \"ubiquity (ubiquit\\u00e9)\", \"unbreakable (incassable)\", \"unbreathable (irrespirable)\", \"unbreathable (irrespirable)\", \"uncertainty (incertitude)\", \"uncertainty (incertitude)\", \"uncle (oncle)\", \"uncle (oncle)\", \"unexpected (inopin\\u00e9)\", \"unicode (unicode)\", \"unicode (unicode)\", \"unique (unique)\", \"unique (unique)\", \"unique (unique)\", \"unrolls (d\\u00e9roule)\", \"unusual (inusit\\u00e9)\", \"unusual (inusit\\u00e9)\", \"unusual (inusit\\u00e9)\", \"unwind (d\\u00e9rouler)\", \"unwind (d\\u00e9rouler)\", \"unwind (d\\u00e9rouler)\", \"usually (ordinairement)\", \"vagabond (vagabond)\", \"variation (variation)\", \"variation (variation)\", \"vegetarian (v\\u00e9g\\u00e9tarien)\", \"vegetation (v\\u00e9g\\u00e9tation)\", \"vegetation (v\\u00e9g\\u00e9tation)\", \"veil (voile)\", \"veil (voile)\", \"veil (voile)\", \"veil (voile)\", \"verruqueu (verruqueu)\", \"vertebrate (vert\\u00e8bre)\", \"vertebrate (vert\\u00e8bre)\", \"vigilance (vigilance)\", \"vigorous (vigoureusemer)\", \"vindhia (vindhia)\", \"viper (vip\\u00e8re)\", \"visited (visita)\", \"vitiate (vicier)\", \"wake up (r\\u00e9veille)\", \"walker (promeneur)\", \"wallowed (vautraient)\", \"wallowed (vautraient)\", \"washer (laveur)\", \"washing (lavage)\", \"watering hole (aiguade)\", \"wavy (onduleux)\", \"weaken (faiblir)\", \"weaken (faiblir)\", \"weakling (gringalet)\", \"weeping (pleureur)\", \"weigh down (appesantir)\", \"weigh down (appesantir)\", \"weigh down (appesantir)\", \"weight (poids)\", \"weight (poids)\", \"weight (poids)\", \"well done (bienfait)\", \"well done (bienfait)\", \"wet (mouiller)\", \"wet (mouiller)\", \"wet (mouiller)\", \"wet (mouiller)\", \"wheel (rouer)\", \"whist (whist)\", \"whist (whist)\", \"wielding (maniant)\", \"will employ (emploieron)\", \"will figure (figurerai)\", \"will grow (grandira)\", \"wing (ailer)\", \"wisdom (sagesse)\", \"withered (fl\\u00e9tri)\", \"witness (t\\u00e9moin)\", \"witness (t\\u00e9moin)\", \"witness (t\\u00e9moin)\", \"witness (t\\u00e9moin)\", \"work (ouvrage)\", \"work (ouvrage)\", \"work (ouvrage)\", \"world (globe)\", \"world (globe)\", \"world (globe)\", \"worm-eaten (vermoulu)\", \"would wrap (envelopperait)\", \"wrapped (envelopp\\u00e9e)\", \"xii (xii)\", \"xii (xii)\", \"years (ans)\", \"young lady (demoisell)\", \"zebu (z\\u00e9bu)\", \"zebu (z\\u00e9bu)\"]}, \"R\": 30, \"lambda.step\": 0.01, \"plot.opts\": {\"xlab\": \"PC1\", \"ylab\": \"PC2\"}, \"topic.order\": [1, 2, 3, 4, 5, 6, 7, 8, 9, 10, 11, 12, 13, 14, 15, 16, 17, 18, 19, 20]};\n",
              "\n",
              "function LDAvis_load_lib(url, callback){\n",
              "  var s = document.createElement('script');\n",
              "  s.src = url;\n",
              "  s.async = true;\n",
              "  s.onreadystatechange = s.onload = callback;\n",
              "  s.onerror = function(){console.warn(\"failed to load library \" + url);};\n",
              "  document.getElementsByTagName(\"head\")[0].appendChild(s);\n",
              "}\n",
              "\n",
              "if(typeof(LDAvis) !== \"undefined\"){\n",
              "   // already loaded: just create the visualization\n",
              "   !function(LDAvis){\n",
              "       new LDAvis(\"#\" + \"ldavis_el10591399122397494566089033474\", ldavis_el10591399122397494566089033474_data);\n",
              "   }(LDAvis);\n",
              "}else if(typeof define === \"function\" && define.amd){\n",
              "   // require.js is available: use it to load d3/LDAvis\n",
              "   require.config({paths: {d3: \"https://d3js.org/d3.v5\"}});\n",
              "   require([\"d3\"], function(d3){\n",
              "      window.d3 = d3;\n",
              "      LDAvis_load_lib(\"https://cdn.jsdelivr.net/gh/bmabey/pyLDAvis@3.3.1/pyLDAvis/js/ldavis.v3.0.0.js\", function(){\n",
              "        new LDAvis(\"#\" + \"ldavis_el10591399122397494566089033474\", ldavis_el10591399122397494566089033474_data);\n",
              "      });\n",
              "    });\n",
              "}else{\n",
              "    // require.js not available: dynamically load d3 & LDAvis\n",
              "    LDAvis_load_lib(\"https://d3js.org/d3.v5.js\", function(){\n",
              "         LDAvis_load_lib(\"https://cdn.jsdelivr.net/gh/bmabey/pyLDAvis@3.3.1/pyLDAvis/js/ldavis.v3.0.0.js\", function(){\n",
              "                 new LDAvis(\"#\" + \"ldavis_el10591399122397494566089033474\", ldavis_el10591399122397494566089033474_data);\n",
              "            })\n",
              "         });\n",
              "}\n",
              "</script>"
            ],
            "text/plain": [
              "<IPython.core.display.HTML object>"
            ]
          },
          "metadata": {},
          "execution_count": 37
        }
      ]
    },
    {
      "cell_type": "markdown",
      "metadata": {
        "id": "AtTAuiJdy-KM"
      },
      "source": [
        "#### Model Evaluation"
      ]
    },
    {
      "cell_type": "code",
      "metadata": {
        "colab": {
          "base_uri": "https://localhost:8080/"
        },
        "id": "uAsbRnrezATD",
        "outputId": "cfc3cdac-d1fd-4fb7-e4c1-c41464ca2d89"
      },
      "source": [
        "# evaluate model coherence\n",
        "\n",
        "coherence_model = models.CoherenceModel(jules_verne_hdp_model,\n",
        "                                        corpus=jules_verne_corpus,\n",
        "                                        coherence='u_mass')\n",
        "\n",
        "print(f'{coherence_model.get_coherence()} coherence')"
      ],
      "execution_count": 38,
      "outputs": [
        {
          "output_type": "stream",
          "name": "stdout",
          "text": [
            "-8.671587170236354 coherence\n"
          ]
        }
      ]
    },
    {
      "cell_type": "code",
      "metadata": {
        "id": "k7U755d08vbi"
      },
      "source": [
        "# coherence_model.top_topics_as_word_lists(jules_verne_hdp_model,\n",
        "#                                          jules_verne_xlat_dictionary,\n",
        "#                                          topn=10)"
      ],
      "execution_count": 39,
      "outputs": []
    }
  ]
}